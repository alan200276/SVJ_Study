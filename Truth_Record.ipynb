{
 "cells": [
  {
   "cell_type": "code",
   "execution_count": 92,
   "metadata": {},
   "outputs": [],
   "source": [
    "import uproot\n",
    "import numpy as np\n",
    "import pandas as pd\n",
    "import math\n",
    "import matplotlib.pyplot as plt\n",
    "import numpy as np\n",
    "import sys, os\n",
    "\n",
    "import matplotlib.pyplot as plt\n",
    "from matplotlib.ticker import MaxNLocator\n",
    "from matplotlib.colors import ListedColormap, LinearSegmentedColormap, BoundaryNorm\n",
    "from matplotlib.collections import LineCollection\n",
    "from matplotlib import cm"
   ]
  },
  {
   "cell_type": "markdown",
   "metadata": {},
   "source": [
    "## Define Function for Invariant Mass"
   ]
  },
  {
   "cell_type": "code",
   "execution_count": 28,
   "metadata": {},
   "outputs": [],
   "source": [
    "def M(pt1,eta1,phi1,m1,pt2,eta2,phi2,m2):\n",
    "    px1, py1, pz1 = pt1*np.cos(phi1), pt1*np.sin(phi1), np.sqrt(m1**2+pt1**2)*np.sinh(eta1)\n",
    "    e1 = np.sqrt(m1**2 + px1**2 + py1**2 + pz1**2)\n",
    "    px2, py2, pz2 = pt2*np.cos(phi2), pt2*np.sin(phi2), np.sqrt(m2**2+pt2**2)*np.sinh(eta2)\n",
    "    e2 = np.sqrt(m2**2 + px2**2 + py2**2 + pz2**2)\n",
    "    \n",
    "    return np.sqrt((e1+e2)**2-(px1+px2)**2-(py1+py2)**2-(pz1+pz2)**2)\n",
    "    "
   ]
  },
  {
   "cell_type": "markdown",
   "metadata": {},
   "source": [
    "## Fill particle information in to NumpyArray "
   ]
  },
  {
   "cell_type": "code",
   "execution_count": 93,
   "metadata": {},
   "outputs": [],
   "source": [
    "def MyFunction(file):\n",
    "    GenParticle = np.array([file[\"Particle.Status\"].array(),\n",
    "                            file[\"Particle.PID\"].array(),\n",
    "                            file[\"Particle.M1\"].array(),\n",
    "                            file[\"Particle.M2\"].array(),\n",
    "                            file[\"Particle.D1\"].array(),\n",
    "                            file[\"Particle.D2\"].array(),\n",
    "                            file[\"Particle.PT\"].array(),\n",
    "                            file[\"Particle.Eta\"].array(),\n",
    "                            file[\"Particle.Phi\"].array(),\n",
    "                            file[\"Particle.Mass\"].array()])\n",
    "\n",
    "    Jet = np.array([file[\"Jet.PT\"].array(),\n",
    "                            file[\"Jet.Eta\"].array(),\n",
    "                            file[\"Jet.Phi\"].array(),\n",
    "                            file[\"Jet.Mass\"].array()\n",
    "                           ])\n",
    "\n",
    "    Event_Weight = np.array(file[\"Event.Weight\"].array())\n",
    "\n",
    "    return GenParticle, Jet, Event_Weight\n",
    "\n",
    "\n",
    "def Preselection(Jet):\n",
    "    twojet_invariantmass = []\n",
    "    survived_list = []\n",
    "    for i in range(len(Jet[0])):\n",
    "        if len(Jet[0][i]) < 2:\n",
    "            continue\n",
    "\n",
    "        if Jet[0][i][0] < 440 or Jet[0][i][1] < 60:\n",
    "            continue\n",
    "\n",
    "        if np.abs(Jet[1][i][0]-Jet[1][i][1]) > 1.2:\n",
    "            continue\n",
    "\n",
    "        twojet_invariantmass.append(M(Jet[0][i][0],Jet[1][i][0],Jet[2][i][0],Jet[3][i][0],Jet[0][i][1],Jet[1][i][1],Jet[2][i][1],Jet[3][i][1]))\n",
    "\n",
    "        survived_list.append(i)\n",
    "\n",
    "    print(\"There are {} events.\".format(len(twojet_invariantmass)))\n",
    "    \n",
    "    return np.array(twojet_invariantmass), np.array(survived_list)\n",
    "\n",
    "\n",
    "def Check_r_inv(GenParticle):\n",
    "    invis_count, vis_count = 0, 0\n",
    "    Ndark = 0\n",
    "    for i in range(len(GenParticle[1])):\n",
    "        for j in range(len(GenParticle[0][i])):\n",
    "            PID = GenParticle[1][i][j]\n",
    "            M1 = GenParticle[2][i][j]\n",
    "            M2 = GenParticle[3][i][j]\n",
    "            D1 = GenParticle[4][i][j]\n",
    "            D2 = GenParticle[5][i][j]\n",
    "            status = GenParticle[0][i][j]\n",
    "            \n",
    "            if (abs(PID) == 4900111) and (abs(GenParticle[1][i][D1]) != 4900111) and (abs(GenParticle[1][i][D2]) != 4900111):\n",
    "                if (abs(GenParticle[1][i][D1]) != 3) and (abs(GenParticle[1][i][D2]) != 3):\n",
    "                    invis_count += 1\n",
    "\n",
    "            if (abs(PID) == 4900111) and (abs(GenParticle[1][i][D1]) != 4900111) and (abs(GenParticle[1][i][D2]) != 4900111):\n",
    "                if (abs(GenParticle[1][i][D1]) == 3) or (abs(GenParticle[1][i][D2]) == 3):\n",
    "                    vis_count += 1\n",
    "\n",
    "            if (abs(PID) == 4900113) and (abs(GenParticle[1][i][D1]) != 4900113) and (abs(GenParticle[1][i][D2]) != 4900113):\n",
    "                if (abs(GenParticle[1][i][D1]) > 490000) or (abs(GenParticle[1][i][D2]) > 490000):\n",
    "                    invis_count += 1\n",
    "#                     print(\"{:^5}{:^7}{:^7}{:^7}{:^7}{:^7}{:^7}{:^8.5}{:^8.5}{:^8.5}{:^8.5}\".format( \\\n",
    "#         j, GenParticle[0][i][j],  GenParticle[1][i][j], GenParticle[2][i][j], GenParticle[3][i][j],\n",
    "#         GenParticle[4][i][j], GenParticle[5][i][j], GenParticle[6][i][j], GenParticle[7][i][j] ,GenParticle[8][i][j], GenParticle[9][i][j]))\n",
    "\n",
    "\n",
    "\n",
    "\n",
    "            if (abs(PID) == 4900113) and (abs(GenParticle[1][i][D1]) != 4900113) and (abs(GenParticle[1][i][D2]) != 4900113):\n",
    "                if (abs(GenParticle[1][i][D1]) < 6) or (abs(GenParticle[1][i][D2]) < 6):\n",
    "                    vis_count += 1\n",
    "\n",
    "                    \n",
    "#             if (abs(PID) == 4900211) and (( abs(GenParticle[1][i][M1])== 4900101) or (abs(GenParticle[1][i][M2]) == 4900101)):\n",
    "#                     Ndark += 1\n",
    "\n",
    "#             if (abs(PID) == 4900213) and (( abs(GenParticle[1][i][M1])== 4900101) or (abs(GenParticle[1][i][M2]) == 4900101)):\n",
    "#                     Ndark += 1\n",
    "                    \n",
    "#             if (abs(PID) == 4900111) and (( abs(GenParticle[1][i][M1])== 4900101) or (abs(GenParticle[1][i][M2]) == 4900101)):\n",
    "#                     Ndark += 1\n",
    "                    \n",
    "#             if (abs(PID) == 4900113) and (( abs(GenParticle[1][i][M1])== 4900101) or (abs(GenParticle[1][i][M2]) == 4900101)):\n",
    "#                     Ndark += 1\n",
    "\n",
    "            if (abs(PID) == 4900211) and (status == 1):\n",
    "                    Ndark += 1\n",
    "\n",
    "            if (abs(PID) == 4900213) and (status == 1):\n",
    "                    Ndark += 1\n",
    "                    \n",
    "                    \n",
    "    print(\"There are {} events.\".format(len(GenParticle[0])))\n",
    "    print(\"There are Dark meson {}  decay into invisible particle.\".format(invis_count))\n",
    "    print(\"There are Dark meson {}  decay into visible particle.\".format(vis_count))\n",
    "    print(\"r_inv = {:^4.4f} \".format(invis_count/(invis_count+vis_count)))\n",
    "    \n",
    "    print(\"There are {} stable Dark mesons.\".format(Ndark))\n",
    "    print(\"Average = {:^4.4f} \".format(Ndark/len(GenParticle[0])))\n",
    "    return invis_count/(invis_count+vis_count), Ndark/len(GenParticle[0])\n",
    "    "
   ]
  },
  {
   "cell_type": "markdown",
   "metadata": {},
   "source": [
    "## Import File"
   ]
  },
  {
   "cell_type": "code",
   "execution_count": 86,
   "metadata": {},
   "outputs": [],
   "source": [
    "path = \"/home/Storage/MG5_Study_Group/ROOT/Scan_rinv_alpha/\"\n",
    "filepath_0_10 = path + \"SVJ_0_10.root\"\n",
    "filepath_03_10 = path + \"SVJ_3_10.root\"\n",
    "filepath_05_10 = path + \"/SVJ_5_10.root\"\n",
    "filepath_09_10 = path + \"/SVJ_9_10.root\"\n",
    "filepath_03_100 = path + \"/SVJ_3_100.root\"\n",
    "filepath_05_100 = path + \"/SVJ_5_100.root\"\n",
    "filepath_09_100 = path + \"/SVJ_9_100.root\"\n",
    "filepath_03_300 = path + \"/SVJ_3_300.root\"\n",
    "filepath_05_300 = path + \"/SVJ_5_300.root\"\n",
    "filepath_09_300 = path + \"/SVJ_9_300.root\"\n",
    "\n",
    "file_0_10 = uproot.open(filepath_0_10)[\"Delphes;1\"]\n",
    "file_03_10 = uproot.open(filepath_03_10)[\"Delphes;1\"]\n",
    "file_05_10 = uproot.open(filepath_05_10)[\"Delphes;1\"]\n",
    "file_09_10 = uproot.open(filepath_09_10)[\"Delphes;1\"]\n",
    "file_03_100 = uproot.open(filepath_03_100)[\"Delphes;1\"]\n",
    "file_05_100 = uproot.open(filepath_05_100)[\"Delphes;1\"]\n",
    "file_09_100 = uproot.open(filepath_09_100)[\"Delphes;1\"]\n",
    "file_03_300 = uproot.open(filepath_03_300)[\"Delphes;1\"]\n",
    "file_05_300 = uproot.open(filepath_05_300)[\"Delphes;1\"]\n",
    "file_09_300 = uproot.open(filepath_09_300)[\"Delphes;1\"]"
   ]
  },
  {
   "cell_type": "code",
   "execution_count": 87,
   "metadata": {},
   "outputs": [],
   "source": [
    "# file_0.show()"
   ]
  },
  {
   "cell_type": "code",
   "execution_count": 88,
   "metadata": {},
   "outputs": [],
   "source": [
    "GenParticle_0_10, Jet_0_10, Event_Weight_0_10 = MyFunction(file_0_10)\n",
    "GenParticle_03_10, Jet_03_10, Event_Weight_03_10 = MyFunction(file_03_10)\n",
    "GenParticle_05_10, Jet_05_10, Event_Weight_05_10 = MyFunction(file_05_10)\n",
    "GenParticle_09_10, Jet_09_10, Event_Weight_09_10 = MyFunction(file_09_10)\n",
    "\n",
    "GenParticle_03_100, Jet_03_100, Event_Weight_03_100 = MyFunction(file_03_100)\n",
    "GenParticle_05_100, Jet_05_100, Event_Weight_05_100 = MyFunction(file_05_100)\n",
    "GenParticle_09_100, Jet_09_100, Event_Weight_09_100 = MyFunction(file_09_100)\n",
    "\n",
    "GenParticle_03_300, Jet_03_300, Event_Weight_03_300 = MyFunction(file_03_300)\n",
    "GenParticle_05_300, Jet_05_300, Event_Weight_05_300 = MyFunction(file_05_300)\n",
    "GenParticle_09_300, Jet_09_300, Event_Weight_09_300 = MyFunction(file_09_300)"
   ]
  },
  {
   "cell_type": "markdown",
   "metadata": {},
   "source": [
    "# Check the Event Shape"
   ]
  },
  {
   "cell_type": "code",
   "execution_count": 12,
   "metadata": {},
   "outputs": [
    {
     "data": {
      "text/plain": [
       "(10, 4676)"
      ]
     },
     "execution_count": 12,
     "metadata": {},
     "output_type": "execute_result"
    }
   ],
   "source": [
    "np.array(GenParticle_05_300).shape"
   ]
  },
  {
   "cell_type": "markdown",
   "metadata": {},
   "source": [
    "## Check the $r_{inv}$"
   ]
  },
  {
   "cell_type": "code",
   "execution_count": null,
   "metadata": {},
   "outputs": [],
   "source": [
    "os.system(\" \")"
   ]
  },
  {
   "cell_type": "code",
   "execution_count": 13,
   "metadata": {},
   "outputs": [
    {
     "name": "stdout",
     "output_type": "stream",
     "text": [
      "There are 4742 events.\n",
      "There are Dark meson 2512  decay into invisible particle.\n",
      "There are Dark meson 5811  decay into visible particle.\n",
      "r_inv = 0.3018 \n",
      "There are 13928 stable Dark mesons.\n",
      "Average = 2.9372 \n",
      "There are 4671 events.\n",
      "There are Dark meson 4050  decay into invisible particle.\n",
      "There are Dark meson 4061  decay into visible particle.\n",
      "r_inv = 0.4993 \n",
      "There are 16966 stable Dark mesons.\n",
      "Average = 3.6322 \n",
      "There are 4646 events.\n",
      "There are Dark meson 7402  decay into invisible particle.\n",
      "There are Dark meson 809  decay into visible particle.\n",
      "r_inv = 0.9015 \n",
      "There are 23544 stable Dark mesons.\n",
      "Average = 5.0676 \n",
      "There are 4623 events.\n",
      "There are Dark meson 2647  decay into invisible particle.\n",
      "There are Dark meson 6283  decay into visible particle.\n",
      "r_inv = 0.2964 \n",
      "There are 14782 stable Dark mesons.\n",
      "Average = 3.1975 \n",
      "There are 4570 events.\n",
      "There are Dark meson 4448  decay into invisible particle.\n",
      "There are Dark meson 4438  decay into visible particle.\n",
      "r_inv = 0.5006 \n",
      "There are 18190 stable Dark mesons.\n",
      "Average = 3.9803 \n",
      "There are 4679 events.\n",
      "There are Dark meson 8200  decay into invisible particle.\n",
      "There are Dark meson 969  decay into visible particle.\n",
      "r_inv = 0.8943 \n",
      "There are 26000 stable Dark mesons.\n",
      "Average = 5.5567 \n",
      "There are 4608 events.\n",
      "There are Dark meson 2500  decay into invisible particle.\n",
      "There are Dark meson 5902  decay into visible particle.\n",
      "r_inv = 0.2975 \n",
      "There are 14090 stable Dark mesons.\n",
      "Average = 3.0577 \n",
      "There are 4676 events.\n",
      "There are Dark meson 4295  decay into invisible particle.\n",
      "There are Dark meson 4276  decay into visible particle.\n",
      "r_inv = 0.5011 \n",
      "There are 17788 stable Dark mesons.\n",
      "Average = 3.8041 \n",
      "There are 4725 events.\n",
      "There are Dark meson 7752  decay into invisible particle.\n",
      "There are Dark meson 916  decay into visible particle.\n",
      "r_inv = 0.8943 \n",
      "There are 24862 stable Dark mesons.\n",
      "Average = 5.2618 \n"
     ]
    },
    {
     "data": {
      "text/plain": [
       "(0.8943239501615136, 5.261798941798942)"
      ]
     },
     "execution_count": 13,
     "metadata": {},
     "output_type": "execute_result"
    }
   ],
   "source": [
    "Check_r_inv(GenParticle_03_10)\n",
    "Check_r_inv(GenParticle_05_10)\n",
    "Check_r_inv(GenParticle_09_10)\n",
    "Check_r_inv(GenParticle_03_100)\n",
    "Check_r_inv(GenParticle_05_100)\n",
    "Check_r_inv(GenParticle_09_100)\n",
    "Check_r_inv(GenParticle_03_300)\n",
    "Check_r_inv(GenParticle_05_300)\n",
    "Check_r_inv(GenParticle_09_300)"
   ]
  },
  {
   "cell_type": "code",
   "execution_count": null,
   "metadata": {},
   "outputs": [],
   "source": [
    "# ndark_2, rinv = [], []\n",
    "# for i in [10,50,100,150,200,250,300,350]:\n",
    "#         roor_file_path = \"/home/Storage/MG5_Study_Group/ROOT/Scan_rinv_alpha_v2/SVJ_3_\"+str(i)+\".root\"\n",
    "#         file = uproot.open(roor_file_path)[\"Delphes;1\"]\n",
    "#         GenParticle, _, _ = MyFunction(file)\n",
    "#         tmp = Check_r_inv(GenParticle)\n",
    "#         ndark_2.append(tmp[0])\n",
    "#         rinv.append(tmp[1])"
   ]
  },
  {
   "cell_type": "code",
   "execution_count": null,
   "metadata": {},
   "outputs": [],
   "source": [
    "# ndark_2"
   ]
  },
  {
   "cell_type": "markdown",
   "metadata": {},
   "source": [
    "## Ndark $M_d$ = 10 GeV "
   ]
  },
  {
   "cell_type": "code",
   "execution_count": 17,
   "metadata": {},
   "outputs": [],
   "source": [
    "ndark_10 = np.load(\"./ndark_10.npy\")\n",
    "# print(ndark.shape)\n",
    "# print(ndark)"
   ]
  },
  {
   "cell_type": "code",
   "execution_count": 104,
   "metadata": {},
   "outputs": [
    {
     "data": {
      "image/png": "[encoded data removed]",
      "text/plain": [
       "<Figure size 720x720 with 2 Axes>"
      ]
     },
     "metadata": {
      "needs_background": "light"
     },
     "output_type": "display_data"
    }
   ],
   "source": [
    "fig, ax = plt.subplots(1,1, figsize=(10,10))\n",
    "plt.imshow(ndark_10,cmap=\"plasma\",vmin=0, vmax=20,origin='lower')\n",
    "plt.subplots_adjust(bottom=0.1, right=0.8, top=0.9)\n",
    "\n",
    "cax = plt.axes([0.83, 0.25, 0.02, 0.5])\n",
    "cbar = plt.colorbar(cax=cax)  \n",
    "cbar.ax.tick_params(labelsize=15)\n",
    "cbar.ax.yaxis.set_major_locator(MaxNLocator(4))\n",
    "cbar.set_label(\"$n_{dark}$\", rotation=270, fontsize=25, labelpad=35, y=0.5)\n",
    "\n",
    "ax.set_ylabel(\"$\\\\alpha_d$\", fontsize=30, horizontalalignment='right',y=1)\n",
    "ax.set_yticks([0,1,2,3,4,5,6,7,8])\n",
    "ax.set_yticklabels([\"0.23\",\"0.35\",\"0.45\",\"0.55\",\"0.65\",\"0.76\",\"0.87\",\"1.0\"], fontsize=25, rotation=0, verticalalignment='top', horizontalalignment=\"right\")\n",
    "\n",
    "ax.set_xticks([0,2,4,6,8,10])\n",
    "ax.set_xticklabels([\"0\",\"0.2\",\"0.4\",\"0.6\",\"0.8\",\"1.0\"], fontsize=25, rotation=0, verticalalignment='top', horizontalalignment=\"center\")\n",
    "ax.set_xlabel(\"$r_{inv}$\", fontsize=30,horizontalalignment='right',x=1)\n",
    "\n",
    "ax.tick_params(axis='x', direction=\"in\", labelsize=20)\n",
    "ax.tick_params(axis='y', direction=\"in\", labelsize=20)\n",
    "\n",
    "plt.text(x=-500,y=21, s=\"$M_d$ = 10 TeV\", rotation=0 ,fontsize=30)\n",
    "plt.text(x=-620,y=18, s=\"$\\sqrt{s}$ = 13 TeV\", rotation=0 ,fontsize=20, c=\"w\")\n",
    "plt.text(x=-620,y=16, s=\"$M_Z'$ = 1500 GeV\", rotation=0 ,fontsize=20, c=\"w\")\n",
    "        \n",
    "ax.set_xlim((0,10))\n",
    "ax.set_ylim((0,7))\n",
    "plt.subplots_adjust(wspace=0.1, hspace=0.1)\n",
    "plt.savefig(\"./ndark_10.pdf\", transparent=True)\n",
    "plt.show()\n"
   ]
  },
  {
   "cell_type": "markdown",
   "metadata": {},
   "source": [
    "## Ndark $M_d$ = 100 GeV "
   ]
  },
  {
   "cell_type": "code",
   "execution_count": 125,
   "metadata": {},
   "outputs": [
    {
     "data": {
      "image/png": "[encoded data removed]",
      "text/plain": [
       "<Figure size 720x720 with 2 Axes>"
      ]
     },
     "metadata": {
      "needs_background": "light"
     },
     "output_type": "display_data"
    }
   ],
   "source": [
    "ndark_100 = np.load(\"./ndark_100.npy\")\n",
    "\n",
    "fig, ax = plt.subplots(1,1, figsize=(10,10))\n",
    "plt.imshow(ndark_100,cmap=\"plasma\",vmin=0, vmax=10,origin='lower')\n",
    "plt.subplots_adjust(bottom=0.1, right=0.8, top=0.9)\n",
    "\n",
    "cax = plt.axes([0.83, 0.25, 0.02, 0.5])\n",
    "cbar = plt.colorbar(cax=cax)  \n",
    "cbar.ax.tick_params(labelsize=15)\n",
    "cbar.ax.yaxis.set_major_locator(MaxNLocator(4))\n",
    "cbar.set_label(\"$n_{dark}$\", rotation=270, fontsize=25, labelpad=35, y=0.5)\n",
    "\n",
    "ax.set_ylabel(\"$\\\\alpha_d$\", fontsize=30, horizontalalignment='right',y=1)\n",
    "ax.set_yticks([0,1,2,3,4,5,6,7,8])\n",
    "ax.set_yticklabels([\"0.23\",\"0.35\",\"0.45\",\"0.55\",\"0.65\",\"0.76\",\"0.87\",\"1.0\"], fontsize=25, rotation=0, verticalalignment='top', horizontalalignment=\"right\")\n",
    "\n",
    "ax.set_xticks([0,2,4,6,8,10])\n",
    "ax.set_xticklabels([\"0\",\"0.2\",\"0.4\",\"0.6\",\"0.8\",\"1.0\"], fontsize=25, rotation=0, verticalalignment='top', horizontalalignment=\"center\")\n",
    "ax.set_xlabel(\"$r_{inv}$\", fontsize=30,horizontalalignment='right',x=1)\n",
    "\n",
    "ax.tick_params(axis='x', direction=\"in\", labelsize=20)\n",
    "ax.tick_params(axis='y', direction=\"in\", labelsize=20)\n",
    "\n",
    "plt.text(x=-250,y=10, s=\"$M_d$ = 100 TeV\", rotation=0 ,fontsize=30)\n",
    "plt.text(x=-330,y=8.5, s=\"$\\sqrt{s}$ = 13 TeV\", rotation=0 ,fontsize=20, c=\"w\")\n",
    "plt.text(x=-330,y=7.5, s=\"$M_Z'$ = 1500 GeV\", rotation=0 ,fontsize=20, c=\"w\")\n",
    "        \n",
    "ax.set_xlim((0,10))\n",
    "ax.set_ylim((0,7))\n",
    "plt.subplots_adjust(wspace=0.1, hspace=0.1)\n",
    "plt.savefig(\"./ndark_100.pdf\", transparent=True)\n",
    "plt.show()\n",
    "\n"
   ]
  },
  {
   "cell_type": "markdown",
   "metadata": {},
   "source": [
    "## Print the Truth Record in an Event"
   ]
  },
  {
   "cell_type": "code",
   "execution_count": null,
   "metadata": {},
   "outputs": [],
   "source": [
    "GenParticle = GenParticle_03_10\n",
    "print(\"There are {} information in this event.\".format(len(GenParticle[0][0])))\n",
    "print(\"GenParticle Information\")\n",
    "print(\"{:^5}{:^7}{:^7}{:^7}{:^7}{:^7}{:^7}{:^8}{:^8}{:^8}{:^8}\".format(\"#\",\"Status\",\"PID\", \"M1\", \"M2\", \"D1\", \"D2\", \"PT\", \"Eta\",\"Phi\", \"Mass\"))\n",
    "\n",
    "index = 0 ## which event you want to print out\n",
    "\n",
    "for j in range(len(GenParticle[0][index])):\n",
    "    print(\"{:^5}{:^7}{:^7}{:^7}{:^7}{:^7}{:^7}{:^8.5}{:^8.5}{:^8.5}{:^8.5}\".format( \\\n",
    "        j, GenParticle[0][index][j],  GenParticle[1][index][j], GenParticle[2][index][j], GenParticle[3][index][j],\n",
    "        GenParticle[4][index][j], GenParticle[5][index][j], GenParticle[6][index][j], GenParticle[7][index][j] ,GenParticle[8][index][j], GenParticle[9][index][j]))\n",
    "\n"
   ]
  },
  {
   "cell_type": "code",
   "execution_count": 89,
   "metadata": {},
   "outputs": [
    {
     "data": {
      "text/plain": [
       "array([3083.8652], dtype=float32)"
      ]
     },
     "execution_count": 89,
     "metadata": {},
     "output_type": "execute_result"
    }
   ],
   "source": [
    "np.sum(Event_Weight_03_10)"
   ]
  },
  {
   "cell_type": "code",
   "execution_count": 90,
   "metadata": {},
   "outputs": [
    {
     "name": "stdout",
     "output_type": "stream",
     "text": [
      "There are 988 events.\n",
      "There are 497 events.\n"
     ]
    }
   ],
   "source": [
    "twojet_invariantmass_0_10, survived_list_0_10 = Preselection(Jet_0_10)\n",
    "twojet_invariantmass_03_10, survived_list_03_10 = Preselection(Jet_03_10)\n",
    "# twojet_invariantmass_03, survived_list_03 = Preselection(Jet_03)\n",
    "# twojet_invariantmass_05, survived_list_05 = Preselection(Jet_05)\n",
    "# twojet_invariantmass_1, survived_list_1 = Preselection(Jet_1)"
   ]
  },
  {
   "cell_type": "code",
   "execution_count": 91,
   "metadata": {},
   "outputs": [
    {
     "data": {
      "image/png": "[encoded data removed]",
      "text/plain": [
       "<Figure size 720x576 with 1 Axes>"
      ]
     },
     "metadata": {
      "needs_background": "light"
     },
     "output_type": "display_data"
    }
   ],
   "source": [
    "fig, ax = plt.subplots(1,1, figsize=(10,8)) # plotsize\n",
    "\n",
    "weight_0 = Event_Weight_0_10[survived_list_0_10]/20000*37*1000\n",
    "weight_03 = Event_Weight_03_10[survived_list_03_10]/20000*37*1000\n",
    "# weight_05 = Event_Weight_05[survived_list_05]/20000*37*1000\n",
    "# weight_1 = Event_Weight_1[survived_list_1]/20000*37*1000\n",
    "\n",
    "bin_size = np.linspace(0,3000,61)\n",
    "\n",
    "\n",
    "hist_0, bins_0 = np.histogram(twojet_invariantmass_0_10, bins=bin_size, weights = weight_0)\n",
    "ax.step(bins_0[:-1], hist_0.astype(np.float32)/50, color = \"c\", where='mid',linewidth=3, alpha=0.7,label=\"$M_Z'$=1500, $r_{inv}$=0.0\") \n",
    "\n",
    "hist_03, bins_03 = np.histogram(twojet_invariantmass_03_10, bins=bin_size, weights = weight_03)\n",
    "ax.step(bins_03[:-1], hist_03.astype(np.float32)/50, color = \"red\", where='mid',linewidth=3, alpha=0.7,label=\"$M_Z'$=1500, $r_{inv}$=0.3\") \n",
    "\n",
    "# hist_05, bins_05 = np.histogram(twojet_invariantmass_05, bins=bin_size, weights = weight_05)\n",
    "# plt.step(bins_05[:-1], hist_05.astype(np.float32)/50, color = \"blue\", where='mid',linewidth=3, alpha=0.7,label=\"$M_Z$=1500, $r_{inv}$=0.5\") \n",
    "\n",
    "# hist_1, bins_1 = np.histogram(twojet_invariantmass_1, bins=bin_size, weights = weight_1)\n",
    "# plt.step(bins_1[:-1], hist_1.astype(np.float32)/50, color = \"magenta\", where='mid',linewidth=3, alpha=0.7,label=\"$M_Z$=1500, $r_{inv}$=1.0\") \n",
    "\n",
    "\n",
    "plt.yscale('log') \n",
    "plt.xscale('log') \n",
    "plt.yticks([1,100,10000],[\"$10^0$\",\"$10^2$\",\"$10^4$\"], fontsize=25, rotation=0, verticalalignment='top', horizontalalignment=\"right\")\n",
    "\n",
    "plt.xticks([1E+3,3E+3,1E+4],[\"$10^3$\",\"$3\\\\times10^3$\",\"$10^4$\"], fontsize=25, rotation=0, verticalalignment='top', horizontalalignment=\"center\")\n",
    "\n",
    "plt.tick_params(axis='x',which='minor', length=6, color='k', direction=\"in\", width = 1.2)\n",
    "plt.tick_params(axis='x',which='major', length=10, color='k', direction=\"in\", width = 1.2)\n",
    "plt.tick_params(axis='y',which='minor', length=6, color='k', direction=\"in\", width = 1.2)\n",
    "plt.tick_params(axis='y',which='major', length=10, color='k', direction=\"in\", width = 1.2)\n",
    "\n",
    "\n",
    "plt.xlim((700,10000))\n",
    "plt.xlabel(\"$M_{jj}$ [GeV]\" , fontsize=30, horizontalalignment='right',x=1)  # plot x-axis label\n",
    "# plt.ylabel(\"d$\\sigma$/d$M_{jj}$ [pb]\", fontsize=30, horizontalalignment='right',y=1)  # plot y-axis label\n",
    "plt.ylabel(\"Events\", fontsize=30, horizontalalignment='right',y=1)  # plot y-axis label\n",
    "# plt.xticks(fontsize=15)   # set x-ticks size\n",
    "# plt.yticks(fontsize=15)   # set y-ticks size \n",
    "plt.legend(bbox_to_anchor=(1, 1),ncol=1,fontsize=25) # plot label tag\n",
    "# plt.savefig(\"./invariant_mass_SVJ.png\")  #save figure as png\n",
    "plt.show()"
   ]
  },
  {
   "cell_type": "code",
   "execution_count": 217,
   "metadata": {},
   "outputs": [
    {
     "name": "stdout",
     "output_type": "stream",
     "text": [
      "lambda:  10.00   alpha: 0.23  \n",
      "lambda:  50.00   alpha: 0.35  \n",
      "lambda: 100.00   alpha: 0.45  \n",
      "lambda: 150.00   alpha: 0.55  \n",
      "lambda: 200.00   alpha: 0.65  \n",
      "lambda: 250.00   alpha: 0.76  \n",
      "lambda: 300.00   alpha: 0.87  \n",
      "lambda: 350.00   alpha: 1.00  \n"
     ]
    }
   ],
   "source": [
    "aaa = [10,50,100,150,200,250,300,350]\n",
    "# print(aaa)\n",
    "for i, lambda_d in enumerate(aaa):\n",
    "    print(\"lambda: {:^7.2f}  alpha:{:^7.2f}\".format(aaa[i],np.pi*2/((11./3.*2-2./3.*2)*np.log(1000./lambda_d))))\n"
   ]
  },
  {
   "cell_type": "code",
   "execution_count": 526,
   "metadata": {},
   "outputs": [],
   "source": [
    "class BrachGenParticles:\n",
    "    def __init__(self,file):\n",
    "        self.Status = file[\"Particle.Status\"].array()\n",
    "        self.PID = file[\"Particle.PID\"].array()\n",
    "        self.M1 = file[\"Particle.M1\"].array()\n",
    "        self.M2 = file[\"Particle.M2\"].array()\n",
    "        self.D1 = file[\"Particle.D1\"].array()\n",
    "        self.D2  = file[\"Particle.D2\"].array()\n",
    "        self.PT = file[\"Particle.PT\"].array()\n",
    "        self.Eta =  file[\"Particle.Eta\"].array()\n",
    "        self.Phi = file[\"Particle.Phi\"].array()\n",
    "        self.Mass = file[\"Particle.Mass\"].array()\n",
    "        self.Labels = [\"Status\", \"PID\" , \"M1\", \"M2\", \"D1\", \"D2\", \"PT\", \"Eta\", \"Phi\", \"Mass\"]\n",
    "        \n",
    "#     def At(self, i):\n",
    "#         self.Status = file[\"Particle.Status\"].array()[i]\n",
    "#         self.PID = file[\"Particle.PID\"].array()[i]\n",
    "#         self.M1 = file[\"Particle.M1\"].array()[i]\n",
    "#         self.M2 = file[\"Particle.M2\"].array()[i]\n",
    "#         self.D1 = file[\"Particle.D1\"].array()[i]\n",
    "#         self.D2  = file[\"Particle.D2\"].array()[i]\n",
    "#         self.PT = file[\"Particle.PT\"].array()[i]\n",
    "#         self.Eta =  file[\"Particle.Eta\"].array()[i]\n",
    "#         self.Phi = file[\"Particle.Phi\"].array()[i]\n",
    "#         self.Mass = file[\"Particle.Mass\"].array()[i]"
   ]
  },
  {
   "cell_type": "code",
   "execution_count": 527,
   "metadata": {},
   "outputs": [],
   "source": [
    "filepath_03_10 = \"/home/Storage/MG5_Study_Group/ROOT/Scan_rinv_alpha_v3/SVJ_3_10.root\"\n",
    "file_03_10 = uproot.open(filepath_03_10)[\"Delphes;1\"]\n",
    "\n",
    "aaa = BrachGenParticles(file_03_10)\n",
    "\n"
   ]
  },
  {
   "cell_type": "code",
   "execution_count": 525,
   "metadata": {},
   "outputs": [
    {
     "data": {
      "text/plain": [
       "array([ 4,  4, 21, ...,  1,  1,  1], dtype=int32)"
      ]
     },
     "execution_count": 525,
     "metadata": {},
     "output_type": "execute_result"
    }
   ],
   "source": [
    "aaa.Status[7]"
   ]
  },
  {
   "cell_type": "code",
   "execution_count": 515,
   "metadata": {},
   "outputs": [],
   "source": [
    "aaa.At(3)\n",
    "\n"
   ]
  },
  {
   "cell_type": "code",
   "execution_count": 529,
   "metadata": {},
   "outputs": [
    {
     "data": {
      "text/plain": [
       "array([ 4,  4, 21, ...,  1,  1,  1], dtype=int32)"
      ]
     },
     "execution_count": 529,
     "metadata": {},
     "output_type": "execute_result"
    }
   ],
   "source": [
    "aaa.At(6)\n",
    "aaa.Status"
   ]
  },
  {
   "cell_type": "code",
   "execution_count": null,
   "metadata": {},
   "outputs": [],
   "source": []
  }
 ],
 "metadata": {
  "kernelspec": {
   "display_name": "Python 3",
   "language": "python",
   "name": "python3"
  },
  "language_info": {
   "codemirror_mode": {
    "name": "ipython",
    "version": 3
   },
   "file_extension": ".py",
   "mimetype": "text/x-python",
   "name": "python",
   "nbconvert_exporter": "python",
   "pygments_lexer": "ipython3",
   "version": "3.6.8"
  }
 },
 "nbformat": 4,
 "nbformat_minor": 4
}
