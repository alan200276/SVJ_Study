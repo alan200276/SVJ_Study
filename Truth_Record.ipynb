{
 "cells": [
  {
   "cell_type": "code",
   "execution_count": 127,
   "metadata": {},
   "outputs": [],
   "source": [
    "import uproot\n",
    "import numpy as np\n",
    "import pandas as pd\n",
    "import math\n",
    "import matplotlib.pyplot as plt\n",
    "import numpy as np"
   ]
  },
  {
   "cell_type": "markdown",
   "metadata": {},
   "source": [
    "## Define Function for Invariant Mass"
   ]
  },
  {
   "cell_type": "code",
   "execution_count": 238,
   "metadata": {},
   "outputs": [],
   "source": [
    "def M(pt1,eta1,phi1,m1,pt2,eta2,phi2,m2):\n",
    "    px1, py1, pz1 = pt1*np.cos(phi1), pt1*np.sin(phi1), np.sqrt(m1**2+pt1**2)*np.sinh(eta1)\n",
    "    e1 = np.sqrt(m1**2 + px1**2 + py1**2 + pz1**2)\n",
    "    px2, py2, pz2 = pt2*np.cos(phi2), pt2*np.sin(phi2), np.sqrt(m2**2+pt2**2)*np.sinh(eta2)\n",
    "    e2 = np.sqrt(m2**2 + px2**2 + py2**2 + pz2**2)\n",
    "    \n",
    "    return np.sqrt((e1+e2)**2-(px1+px2)**2-(py1+py2)**2-(pz1+pz2)**2)\n",
    "    "
   ]
  },
  {
   "cell_type": "markdown",
   "metadata": {},
   "source": [
    "## Import File"
   ]
  },
  {
   "cell_type": "code",
   "execution_count": 102,
   "metadata": {},
   "outputs": [],
   "source": [
    "roor_file_path = \"/home/Storage/MG5_Study_Group/ROOT/Scan_rinv_alpha/SVJ_9_3.root\"\n",
    "# filepath_0 = \"/home/Storage/MG5_Study_Group/ROOT/sig_schannel_up2jets_mz_1500_wz_auto_0.root\"\n",
    "# filepath_03 = \"/home/Storage/MG5_Study_Group/ROOT/sig_schannel_up2jets_mz_1500_wz_auto_03.root\"\n",
    "# filepath_05 = \"/home/Storage/MG5_Study_Group/ROOT/sig_schannel_up2jets_mz_1500_wz_auto_05.root\"\n",
    "# filepath_1 = \"/home/Storage/MG5_Study_Group/ROOT/sig_schannel_up2jets_mz_1500_wz_auto_1.root\"\n",
    "\n",
    "file_0 = uproot.open(roor_file_path)[\"Delphes;1\"]\n",
    "# file_03 = uproot.open(filepath_03)[\"Delphes;1\"]\n",
    "# file_05 = uproot.open(filepath_05)[\"Delphes;1\"]\n",
    "# file_1 = uproot.open(filepath_1)[\"Delphes;1\"]"
   ]
  },
  {
   "cell_type": "code",
   "execution_count": null,
   "metadata": {},
   "outputs": [],
   "source": [
    "file_0.show()"
   ]
  },
  {
   "cell_type": "code",
   "execution_count": 116,
   "metadata": {},
   "outputs": [],
   "source": [
    "def MyFunction(file):\n",
    "    GenParticle = np.array([file[\"Particle.Status\"].array(),\n",
    "                            file[\"Particle.PID\"].array(),\n",
    "                            file[\"Particle.M1\"].array(),\n",
    "                            file[\"Particle.M2\"].array(),\n",
    "                            file[\"Particle.D1\"].array(),\n",
    "                            file[\"Particle.D2\"].array(),\n",
    "                            file[\"Particle.PT\"].array(),\n",
    "                            file[\"Particle.Eta\"].array(),\n",
    "                            file[\"Particle.Phi\"].array(),\n",
    "                            file[\"Particle.Mass\"].array()])\n",
    "\n",
    "    Jet = np.array([file[\"Jet.PT\"].array(),\n",
    "                            file[\"Jet.Eta\"].array(),\n",
    "                            file[\"Jet.Phi\"].array(),\n",
    "                            file[\"Jet.Mass\"].array()\n",
    "                           ])\n",
    "\n",
    "    Event_Weight = np.array(file[\"Event.Weight\"].array())\n",
    "\n",
    "    return GenParticle, Jet, Event_Weight\n",
    "\n",
    "\n",
    "def Preselection(Jet):\n",
    "    twojet_invariantmass = []\n",
    "    survived_list = []\n",
    "    for i in range(len(Jet[0])):\n",
    "        if len(Jet[0][i]) < 2:\n",
    "                continue\n",
    "\n",
    "        if Jet[0][i][0] < 440 or Jet[0][i][1] < 60:\n",
    "            continue\n",
    "\n",
    "        if np.abs(Jet[1][i][0]-Jet[1][i][1]) < 1.2:\n",
    "            continue\n",
    "\n",
    "        twojet_invariantmass.append(M(Jet[0][i][0],Jet[1][i][0],Jet[2][i][0],Jet[3][i][0],Jet[0][i][1],Jet[1][i][1],Jet[2][i][1],Jet[3][i][1]))\n",
    "\n",
    "        survived_list.append(i)\n",
    "\n",
    "    print(\"There are {} events.\".format(len(twojet_invariantmass)))\n",
    "    \n",
    "    return np.array(twojet_invariantmass), np.array(survived_list)\n",
    "\n",
    "\n",
    "def Check_r_inv(GenParticle):\n",
    "    invis_count, vis_count = 0, 0\n",
    "    for i in range(len(GenParticle[1])):\n",
    "    # for i in range(10000,20000):\n",
    "        for j in range(len(GenParticle[0][i])):\n",
    "            PID = GenParticle[1][i][j]\n",
    "            D1 = GenParticle[4][i][j]\n",
    "            D2 = GenParticle[5][i][j]\n",
    "            \n",
    "            if (abs(PID) == 4900111) and (abs(GenParticle[1][i][D1]) != 4900111) and (abs(GenParticle[1][i][D2]) != 4900111):\n",
    "                if (abs(GenParticle[1][i][D1]) != 3) and (abs(GenParticle[1][i][D2]) != 3):\n",
    "                    invis_count += 1\n",
    "\n",
    "            if (abs(PID) == 4900111) and (abs(GenParticle[1][i][D1]) != 4900111) and (abs(GenParticle[1][i][D2]) != 4900111):\n",
    "                if (abs(GenParticle[1][i][D1]) == 3) or (abs(GenParticle[1][i][D2]) == 3):\n",
    "                    vis_count += 1\n",
    "\n",
    "            if (abs(PID) == 4900113) and (abs(GenParticle[1][i][D1]) != 4900113) and (abs(GenParticle[1][i][D2]) != 4900113):\n",
    "                if (abs(GenParticle[1][i][D1]) > 490000) or (abs(GenParticle[1][i][D2]) > 490000):\n",
    "                    invis_count += 1\n",
    "\n",
    "            if (abs(PID) == 4900113) and (abs(GenParticle[1][i][D1]) != 4900113) and (abs(GenParticle[1][i][D2]) != 4900113):\n",
    "                if (abs(GenParticle[1][i][D1]) < 6) or (abs(GenParticle[1][i][D2]) < 6):\n",
    "                    vis_count += 1\n",
    "\n",
    "#     print(\"There are {} events.\".format(len(GenParticle[0])))\n",
    "#     print(\"There are Dark meson {}  decay into invisible particle.\".format(invis_count))\n",
    "#     print(\"There are Dark meson {}  decay into visible particle.\".format(vis_count))\n",
    "#     print(\"r_inv = {:^4.4f} \".format(invis_count/(invis_count+vis_count)))\n",
    "    return invis_count/(invis_count+vis_count)\n",
    "    \n",
    "def CountNdarks(GenParticle):\n",
    "    Ndark = 0\n",
    "    for i in range(len(GenParticle[1])):\n",
    "        for j in range(len(GenParticle[0][i])):\n",
    "            PID = GenParticle[1][i][j]\n",
    "            D1 = GenParticle[4][i][j]\n",
    "            D2 = GenParticle[5][i][j]\n",
    "\n",
    "            if (abs(PID) == 4900211) and (D1 == -1) and (D2 == -1):\n",
    "                    Ndark += 1\n",
    "\n",
    "            if (abs(PID) == 4900213) and (D1 == -1) and (D2 == -1):\n",
    "                    Ndark += 1\n",
    "\n",
    "#     print(\"There are {} events.\".format(len(GenParticle[0])))\n",
    "#     print(\"There are {} stable Dark mesons.\".format(Ndark))\n",
    "#     print(\"Average = {:^4.4f} \".format(Ndark/len(GenParticle[0])))\n",
    "    return Ndark/len(GenParticle[0])"
   ]
  },
  {
   "cell_type": "markdown",
   "metadata": {},
   "source": [
    "## Fill particle information in to NumpyArray "
   ]
  },
  {
   "cell_type": "code",
   "execution_count": 103,
   "metadata": {},
   "outputs": [],
   "source": [
    "GenParticle_0, Jet_0, Event_Weight_0 = MyFunction(file_0)\n",
    "# GenParticle_03, Jet_03, Event_Weight_03 = MyFunction(file_03)\n",
    "# GenParticle_05, Jet_05, Event_Weight_05 = MyFunction(file_05)\n",
    "# GenParticle_1, Jet_1, Event_Weight_1 = MyFunction(file_1)"
   ]
  },
  {
   "cell_type": "markdown",
   "metadata": {},
   "source": [
    "# Check the Event Shape"
   ]
  },
  {
   "cell_type": "code",
   "execution_count": 104,
   "metadata": {},
   "outputs": [
    {
     "data": {
      "text/plain": [
       "(10, 20000)"
      ]
     },
     "execution_count": 104,
     "metadata": {},
     "output_type": "execute_result"
    }
   ],
   "source": [
    "np.array(GenParticle_0).shape"
   ]
  },
  {
   "cell_type": "markdown",
   "metadata": {},
   "source": [
    "## Check the $r_{inv}$"
   ]
  },
  {
   "cell_type": "code",
   "execution_count": 105,
   "metadata": {},
   "outputs": [
    {
     "name": "stdout",
     "output_type": "stream",
     "text": [
      "There are 20000 events.\n",
      "There are Dark meson 173369  decay into invisible particle.\n",
      "There are Dark meson 19314  decay into visible particle.\n",
      "r_inv = 0.8998 \n"
     ]
    }
   ],
   "source": [
    "Check_r_inv(GenParticle_0)\n",
    "# Check_r_inv(GenParticle_03)\n",
    "# Check_r_inv(GenParticle_05)\n",
    "# Check_r_inv(GenParticle_1)"
   ]
  },
  {
   "cell_type": "code",
   "execution_count": 106,
   "metadata": {},
   "outputs": [
    {
     "name": "stdout",
     "output_type": "stream",
     "text": [
      "There are 20000 events.\n",
      "There are 346738 stable Dark mesons.\n",
      "Average = 17.3369 \n"
     ]
    }
   ],
   "source": [
    "aaa = CountNdarks(GenParticle_0)"
   ]
  },
  {
   "cell_type": "code",
   "execution_count": 132,
   "metadata": {},
   "outputs": [],
   "source": [
    "ndark = np.load(\"./ndark_10.npy\")"
   ]
  },
  {
   "cell_type": "code",
   "execution_count": 133,
   "metadata": {},
   "outputs": [
    {
     "data": {
      "text/plain": [
       "<matplotlib.image.AxesImage at 0x7f499d0c6c50>"
      ]
     },
     "execution_count": 133,
     "metadata": {},
     "output_type": "execute_result"
    },
    {
     "data": {
      "image/png": "[encoded data removed]",
      "text/plain": [
       "<Figure size 432x288 with 1 Axes>"
      ]
     },
     "metadata": {
      "needs_background": "light"
     },
     "output_type": "display_data"
    }
   ],
   "source": [
    "import matplotlib.pyplot as plt\n",
    "\n",
    "fig, ax = plt.subplots(1,1, figsize=(20,5))\n",
    "plt.imshow(ndark.T,cmap=\"hot\",origin='lower')"
   ]
  },
  {
   "cell_type": "markdown",
   "metadata": {},
   "source": [
    "## Print the Truth Record in an Event"
   ]
  },
  {
   "cell_type": "code",
   "execution_count": null,
   "metadata": {},
   "outputs": [],
   "source": [
    "GenParticle = GenParticle_0\n",
    "print(\"There are {} information in this event.\".format(len(GenParticle[0][0])))\n",
    "print(\"GenParticle Information\")\n",
    "print(\"{:^5}{:^7}{:^7}{:^7}{:^7}{:^7}{:^7}{:^8}{:^8}{:^8}{:^8}\".format(\"#\",\"Status\",\"PID\", \"M1\", \"M2\", \"D1\", \"D2\", \"PT\", \"Eta\",\"Phi\", \"Mass\"))\n",
    "\n",
    "index = 0 ## which event you want to print out\n",
    "\n",
    "for j in range(len(GenParticle[0][index])):\n",
    "    print(\"{:^5}{:^7}{:^7}{:^7}{:^7}{:^7}{:^7}{:^8.5}{:^8.5}{:^8.5}{:^8.5}\".format( \\\n",
    "        j, GenParticle[0][index][j],  GenParticle[1][index][j], GenParticle[2][index][j], GenParticle[3][index][j],\n",
    "        GenParticle[4][index][j], GenParticle[5][index][j], GenParticle[6][index][j], GenParticle[7][index][j] ,GenParticle[8][index][j], GenParticle[9][index][j]))\n",
    "\n"
   ]
  },
  {
   "cell_type": "code",
   "execution_count": 235,
   "metadata": {},
   "outputs": [
    {
     "name": "stdout",
     "output_type": "stream",
     "text": [
      "There are 660 events.\n",
      "There are 356 events.\n",
      "There are 272 events.\n",
      "There are 84 events.\n"
     ]
    }
   ],
   "source": [
    "twojet_invariantmass_0, survived_list_0 = Preselection(Jet_0)\n",
    "twojet_invariantmass_03, survived_list_03 = Preselection(Jet_03)\n",
    "twojet_invariantmass_05, survived_list_05 = Preselection(Jet_05)\n",
    "twojet_invariantmass_1, survived_list_1 = Preselection(Jet_1)"
   ]
  },
  {
   "cell_type": "code",
   "execution_count": 236,
   "metadata": {},
   "outputs": [
    {
     "data": {
      "image/png": "[encoded data removed]",
      "text/plain": [
       "<Figure size 576x576 with 1 Axes>"
      ]
     },
     "metadata": {
      "needs_background": "light"
     },
     "output_type": "display_data"
    }
   ],
   "source": [
    "plt.figure(figsize=(8,8)) # plotsize\n",
    "\n",
    "weight_0 = Event_Weight_0[survived_list_0]/20000*37*1000\n",
    "weight_03 = Event_Weight_03[survived_list_03]/20000*37*1000\n",
    "weight_05 = Event_Weight_05[survived_list_05]/20000*37*1000\n",
    "weight_1 = Event_Weight_1[survived_list_1]/20000*37*1000\n",
    "\n",
    "bin_size = np.linspace(0,3000,61)\n",
    "\n",
    "\n",
    "hist_0, bins_0 = np.histogram(twojet_invariantmass_0, bins=bin_size, weights = weight_0)\n",
    "plt.step(bins_0[:-1], hist_0.astype(np.float32)/50, color = \"green\", where='mid',linewidth=3, alpha=0.7,label=\"$M_Z$=1500, $r_{inv}$=0.0\") \n",
    "\n",
    "hist_03, bins_03 = np.histogram(twojet_invariantmass_03, bins=bin_size, weights = weight_03)\n",
    "plt.step(bins_03[:-1], hist_03.astype(np.float32)/50, color = \"red\", where='mid',linewidth=3, alpha=0.7,label=\"$M_Z$=1500, $r_{inv}$=0.3\") \n",
    "\n",
    "hist_05, bins_05 = np.histogram(twojet_invariantmass_05, bins=bin_size, weights = weight_05)\n",
    "plt.step(bins_05[:-1], hist_05.astype(np.float32)/50, color = \"blue\", where='mid',linewidth=3, alpha=0.7,label=\"$M_Z$=1500, $r_{inv}$=0.5\") \n",
    "\n",
    "hist_1, bins_1 = np.histogram(twojet_invariantmass_1, bins=bin_size, weights = weight_1)\n",
    "plt.step(bins_1[:-1], hist_1.astype(np.float32)/50, color = \"magenta\", where='mid',linewidth=3, alpha=0.7,label=\"$M_Z$=1500, $r_{inv}$=1.0\") \n",
    "\n",
    "\n",
    "\n",
    "# plt.yscale('log') \n",
    "plt.xlabel(\"$M_{jj}$ [GeV]\" , fontsize=20, horizontalalignment='right',x=1)  # plot x-axis label\n",
    "plt.ylabel(\"d$\\sigma$/d$M_{jj}$ [pb]\", fontsize=20, horizontalalignment='right',y=1)  # plot y-axis label\n",
    "plt.xticks(fontsize=15)   # set x-ticks size\n",
    "plt.yticks(fontsize=15)   # set y-ticks size \n",
    "plt.legend(bbox_to_anchor=(1, 1),ncol=1,fontsize=15) # plot label tag\n",
    "# plt.savefig(\"./invariant_mass_SVJ.png\")  #save figure as png\n",
    "plt.show()"
   ]
  },
  {
   "cell_type": "code",
   "execution_count": null,
   "metadata": {},
   "outputs": [],
   "source": []
  }
 ],
 "metadata": {
  "kernelspec": {
   "display_name": "Python 3",
   "language": "python",
   "name": "python3"
  },
  "language_info": {
   "codemirror_mode": {
    "name": "ipython",
    "version": 3
   },
   "file_extension": ".py",
   "mimetype": "text/x-python",
   "name": "python",
   "nbconvert_exporter": "python",
   "pygments_lexer": "ipython3",
   "version": "3.6.8"
  }
 },
 "nbformat": 4,
 "nbformat_minor": 4
}
