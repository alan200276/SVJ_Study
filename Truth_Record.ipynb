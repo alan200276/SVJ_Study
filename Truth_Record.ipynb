{
 "cells": [
  {
   "cell_type": "code",
   "execution_count": 127,
   "metadata": {},
   "outputs": [],
   "source": [
    "import uproot\n",
    "import numpy as np\n",
    "import pandas as pd\n",
    "import math\n",
    "import matplotlib.pyplot as plt\n",
    "import numpy as np"
   ]
  },
  {
   "cell_type": "markdown",
   "metadata": {},
   "source": [
    "## Define Function for Invariant Mass"
   ]
  },
  {
   "cell_type": "markdown",
   "metadata": {},
   "source": [
    "## Fill particle information in to NumpyArray "
   ]
  },
  {
   "cell_type": "code",
   "execution_count": 610,
   "metadata": {},
   "outputs": [],
   "source": [
    "def MyFunction(file):\n",
    "    GenParticle = np.array([file[\"Particle.Status\"].array(),\n",
    "                            file[\"Particle.PID\"].array(),\n",
    "                            file[\"Particle.M1\"].array(),\n",
    "                            file[\"Particle.M2\"].array(),\n",
    "                            file[\"Particle.D1\"].array(),\n",
    "                            file[\"Particle.D2\"].array(),\n",
    "                            file[\"Particle.PT\"].array(),\n",
    "                            file[\"Particle.Eta\"].array(),\n",
    "                            file[\"Particle.Phi\"].array(),\n",
    "                            file[\"Particle.Mass\"].array()])\n",
    "\n",
    "    Jet = np.array([file[\"Jet.PT\"].array(),\n",
    "                            file[\"Jet.Eta\"].array(),\n",
    "                            file[\"Jet.Phi\"].array(),\n",
    "                            file[\"Jet.Mass\"].array()\n",
    "                           ])\n",
    "\n",
    "    Event_Weight = np.array(file[\"Event.Weight\"].array())\n",
    "\n",
    "    return GenParticle, Jet, Event_Weight\n",
    "\n",
    "\n",
    "def Preselection(Jet):\n",
    "    twojet_invariantmass = []\n",
    "    survived_list = []\n",
    "    for i in range(len(Jet[0])):\n",
    "        if len(Jet[0][i]) < 2:\n",
    "            continue\n",
    "\n",
    "        if Jet[0][i][0] < 440 or Jet[0][i][1] < 60:\n",
    "            continue\n",
    "\n",
    "        if np.abs(Jet[1][i][0]-Jet[1][i][1]) > 1.2:\n",
    "            continue\n",
    "\n",
    "        twojet_invariantmass.append(M(Jet[0][i][0],Jet[1][i][0],Jet[2][i][0],Jet[3][i][0],Jet[0][i][1],Jet[1][i][1],Jet[2][i][1],Jet[3][i][1]))\n",
    "\n",
    "        survived_list.append(i)\n",
    "\n",
    "    print(\"There are {} events.\".format(len(twojet_invariantmass)))\n",
    "    \n",
    "    return np.array(twojet_invariantmass), np.array(survived_list)\n",
    "\n",
    "\n",
    "def Check_r_inv(GenParticle):\n",
    "    invis_count, vis_count = 0, 0\n",
    "    Ndark = 0\n",
    "    for i in range(len(GenParticle[1])):\n",
    "        for j in range(len(GenParticle[0][i])):\n",
    "            PID = GenParticle[1][i][j]\n",
    "            M1 = GenParticle[2][i][j]\n",
    "            M2 = GenParticle[3][i][j]\n",
    "            D1 = GenParticle[4][i][j]\n",
    "            D2 = GenParticle[5][i][j]\n",
    "            status = GenParticle[0][i][j]\n",
    "            \n",
    "            if (abs(PID) == 4900111) and (abs(GenParticle[1][i][D1]) != 4900111) and (abs(GenParticle[1][i][D2]) != 4900111):\n",
    "                if (abs(GenParticle[1][i][D1]) != 3) and (abs(GenParticle[1][i][D2]) != 3):\n",
    "                    invis_count += 1\n",
    "\n",
    "            if (abs(PID) == 4900111) and (abs(GenParticle[1][i][D1]) != 4900111) and (abs(GenParticle[1][i][D2]) != 4900111):\n",
    "                if (abs(GenParticle[1][i][D1]) == 3) or (abs(GenParticle[1][i][D2]) == 3):\n",
    "                    vis_count += 1\n",
    "\n",
    "            if (abs(PID) == 4900113) and (abs(GenParticle[1][i][D1]) != 4900113) and (abs(GenParticle[1][i][D2]) != 4900113):\n",
    "                if (abs(GenParticle[1][i][D1]) > 490000) or (abs(GenParticle[1][i][D2]) > 490000):\n",
    "                    invis_count += 1\n",
    "#                     print(\"{:^5}{:^7}{:^7}{:^7}{:^7}{:^7}{:^7}{:^8.5}{:^8.5}{:^8.5}{:^8.5}\".format( \\\n",
    "#         j, GenParticle[0][i][j],  GenParticle[1][i][j], GenParticle[2][i][j], GenParticle[3][i][j],\n",
    "#         GenParticle[4][i][j], GenParticle[5][i][j], GenParticle[6][i][j], GenParticle[7][i][j] ,GenParticle[8][i][j], GenParticle[9][i][j]))\n",
    "\n",
    "\n",
    "\n",
    "\n",
    "            if (abs(PID) == 4900113) and (abs(GenParticle[1][i][D1]) != 4900113) and (abs(GenParticle[1][i][D2]) != 4900113):\n",
    "                if (abs(GenParticle[1][i][D1]) < 6) or (abs(GenParticle[1][i][D2]) < 6):\n",
    "                    vis_count += 1\n",
    "\n",
    "                    \n",
    "#             if (abs(PID) == 4900211) and (( abs(GenParticle[1][i][M1])== 4900101) or (abs(GenParticle[1][i][M2]) == 4900101)):\n",
    "#                     Ndark += 1\n",
    "\n",
    "#             if (abs(PID) == 4900213) and (( abs(GenParticle[1][i][M1])== 4900101) or (abs(GenParticle[1][i][M2]) == 4900101)):\n",
    "#                     Ndark += 1\n",
    "                    \n",
    "#             if (abs(PID) == 4900111) and (( abs(GenParticle[1][i][M1])== 4900101) or (abs(GenParticle[1][i][M2]) == 4900101)):\n",
    "#                     Ndark += 1\n",
    "                    \n",
    "#             if (abs(PID) == 4900113) and (( abs(GenParticle[1][i][M1])== 4900101) or (abs(GenParticle[1][i][M2]) == 4900101)):\n",
    "#                     Ndark += 1\n",
    "\n",
    "            if (abs(PID) == 4900211) and (status == 1):\n",
    "                    Ndark += 1\n",
    "\n",
    "            if (abs(PID) == 4900213) and (status == 1):\n",
    "                    Ndark += 1\n",
    "                    \n",
    "                    \n",
    "    print(\"There are {} events.\".format(len(GenParticle[0])))\n",
    "    print(\"There are Dark meson {}  decay into invisible particle.\".format(invis_count))\n",
    "    print(\"There are Dark meson {}  decay into visible particle.\".format(vis_count))\n",
    "    print(\"r_inv = {:^4.4f} \".format(invis_count/(invis_count+vis_count)))\n",
    "    \n",
    "    print(\"There are {} stable Dark mesons.\".format(Ndark))\n",
    "    print(\"Average = {:^4.4f} \".format(Ndark/len(GenParticle[0])))\n",
    "    return invis_count/(invis_count+vis_count), Ndark/len(GenParticle[0])\n",
    "    "
   ]
  },
  {
   "cell_type": "code",
   "execution_count": 403,
   "metadata": {},
   "outputs": [],
   "source": [
    "def M(pt1,eta1,phi1,m1,pt2,eta2,phi2,m2):\n",
    "    px1, py1, pz1 = pt1*np.cos(phi1), pt1*np.sin(phi1), np.sqrt(m1**2+pt1**2)*np.sinh(eta1)\n",
    "    e1 = np.sqrt(m1**2 + px1**2 + py1**2 + pz1**2)\n",
    "    px2, py2, pz2 = pt2*np.cos(phi2), pt2*np.sin(phi2), np.sqrt(m2**2+pt2**2)*np.sinh(eta2)\n",
    "    e2 = np.sqrt(m2**2 + px2**2 + py2**2 + pz2**2)\n",
    "    \n",
    "    return np.sqrt((e1+e2)**2-(px1+px2)**2-(py1+py2)**2-(pz1+pz2)**2)\n",
    "    "
   ]
  },
  {
   "cell_type": "markdown",
   "metadata": {},
   "source": [
    "## Import File"
   ]
  },
  {
   "cell_type": "code",
   "execution_count": 533,
   "metadata": {},
   "outputs": [],
   "source": [
    "\n",
    "filepath_03_10 = \"/home/Storage/MG5_Study_Group/ROOT/Scan_rinv_alpha/SVJ_3_10.root\"\n",
    "filepath_05_10 = \"/home/Storage/MG5_Study_Group/ROOT/Scan_rinv_alpha/SVJ_5_10.root\"\n",
    "filepath_09_10 = \"/home/Storage/MG5_Study_Group/ROOT/Scan_rinv_alpha/SVJ_9_10.root\"\n",
    "filepath_03_100 = \"/home/Storage/MG5_Study_Group/ROOT/Scan_rinv_alpha/SVJ_3_100.root\"\n",
    "filepath_05_100 = \"/home/Storage/MG5_Study_Group/ROOT/Scan_rinv_alpha/SVJ_5_100.root\"\n",
    "filepath_09_100 = \"/home/Storage/MG5_Study_Group/ROOT/Scan_rinv_alpha/SVJ_9_100.root\"\n",
    "filepath_03_300 = \"/home/Storage/MG5_Study_Group/ROOT/Scan_rinv_alpha/SVJ_3_300.root\"\n",
    "filepath_05_300 = \"/home/Storage/MG5_Study_Group/ROOT/Scan_rinv_alpha/SVJ_5_300.root\"\n",
    "filepath_09_300 = \"/home/Storage/MG5_Study_Group/ROOT/Scan_rinv_alpha/SVJ_9_300.root\"\n",
    "\n",
    "\n",
    "file_03_10 = uproot.open(filepath_03_10)[\"Delphes;1\"]\n",
    "file_05_10 = uproot.open(filepath_05_10)[\"Delphes;1\"]\n",
    "file_09_10 = uproot.open(filepath_09_10)[\"Delphes;1\"]\n",
    "file_03_100 = uproot.open(filepath_03_100)[\"Delphes;1\"]\n",
    "file_05_100 = uproot.open(filepath_05_100)[\"Delphes;1\"]\n",
    "file_09_100 = uproot.open(filepath_09_100)[\"Delphes;1\"]\n",
    "file_03_300 = uproot.open(filepath_03_300)[\"Delphes;1\"]\n",
    "file_05_300 = uproot.open(filepath_05_300)[\"Delphes;1\"]\n",
    "file_09_300 = uproot.open(filepath_09_300)[\"Delphes;1\"]"
   ]
  },
  {
   "cell_type": "code",
   "execution_count": 405,
   "metadata": {},
   "outputs": [],
   "source": [
    "# file_0.show()"
   ]
  },
  {
   "cell_type": "code",
   "execution_count": 534,
   "metadata": {},
   "outputs": [],
   "source": [
    "\n",
    "GenParticle_03_10, Jet_03_10, Event_Weight_03_10 = MyFunction(file_03_10)\n",
    "GenParticle_05_10, Jet_05_10, Event_Weight_05_10 = MyFunction(file_05_10)\n",
    "GenParticle_09_10, Jet_09_10, Event_Weight_09_10 = MyFunction(file_09_10)\n",
    "\n",
    "GenParticle_03_100, Jet_03_100, Event_Weight_03_100 = MyFunction(file_03_100)\n",
    "GenParticle_05_100, Jet_05_100, Event_Weight_05_100 = MyFunction(file_05_100)\n",
    "GenParticle_09_100, Jet_09_100, Event_Weight_09_100 = MyFunction(file_09_100)\n",
    "\n",
    "GenParticle_03_300, Jet_03_300, Event_Weight_03_300 = MyFunction(file_03_300)\n",
    "GenParticle_05_300, Jet_05_300, Event_Weight_05_300 = MyFunction(file_05_300)\n",
    "GenParticle_09_300, Jet_09_300, Event_Weight_09_300 = MyFunction(file_09_300)"
   ]
  },
  {
   "cell_type": "markdown",
   "metadata": {},
   "source": [
    "# Check the Event Shape"
   ]
  },
  {
   "cell_type": "code",
   "execution_count": 408,
   "metadata": {},
   "outputs": [
    {
     "data": {
      "text/plain": [
       "(10, 4791)"
      ]
     },
     "execution_count": 408,
     "metadata": {},
     "output_type": "execute_result"
    }
   ],
   "source": [
    "np.array(GenParticle_05_300).shape"
   ]
  },
  {
   "cell_type": "markdown",
   "metadata": {},
   "source": [
    "## Check the $r_{inv}$"
   ]
  },
  {
   "cell_type": "code",
   "execution_count": null,
   "metadata": {},
   "outputs": [],
   "source": [
    "Check_r_inv(GenParticle_03_10)\n",
    "Check_r_inv(GenParticle_05_10)\n",
    "Check_r_inv(GenParticle_09_10)\n",
    "Check_r_inv(GenParticle_03_100)\n",
    "Check_r_inv(GenParticle_05_100)\n",
    "Check_r_inv(GenParticle_09_100)\n",
    "Check_r_inv(GenParticle_03_300)\n",
    "Check_r_inv(GenParticle_05_300)\n",
    "Check_r_inv(GenParticle_09_300)"
   ]
  },
  {
   "cell_type": "code",
   "execution_count": null,
   "metadata": {},
   "outputs": [],
   "source": [
    "# ndark_2, rinv = [], []\n",
    "# for i in [10,50,100,150,200,250,300,350]:\n",
    "#         roor_file_path = \"/home/Storage/MG5_Study_Group/ROOT/Scan_rinv_alpha_v2/SVJ_3_\"+str(i)+\".root\"\n",
    "#         file = uproot.open(roor_file_path)[\"Delphes;1\"]\n",
    "#         GenParticle, _, _ = MyFunction(file)\n",
    "#         tmp = Check_r_inv(GenParticle)\n",
    "#         ndark_2.append(tmp[0])\n",
    "#         rinv.append(tmp[1])"
   ]
  },
  {
   "cell_type": "code",
   "execution_count": null,
   "metadata": {},
   "outputs": [],
   "source": [
    "# ndark_2"
   ]
  },
  {
   "cell_type": "code",
   "execution_count": null,
   "metadata": {},
   "outputs": [],
   "source": [
    "# print(ndark_2)"
   ]
  },
  {
   "cell_type": "code",
   "execution_count": 536,
   "metadata": {},
   "outputs": [
    {
     "name": "stdout",
     "output_type": "stream",
     "text": [
      "(8, 11)\n",
      "[[ 7.45212766  8.84302689 10.27156348 11.85652084 13.26351068 14.69529652\n",
      "  16.14110689 17.81967905 19.02572684 20.56392743 22.17843097]\n",
      " [ 7.90729866  9.48115205 11.05733803 12.44211848 14.34430698 15.57473421\n",
      "  17.27862126 18.89529652 20.3253112  21.98442761 23.35362319]\n",
      " [ 6.83472107  8.10524109  9.43594045 10.7907563  12.3465704  13.59859301\n",
      "  14.96215764 16.16776316 17.38736091 18.95923061 20.30261233]\n",
      " [ 6.02687946  7.20901812  8.24209424  9.50458716 10.5807383  11.83176397\n",
      "  12.96260504 14.06436587 15.19315811 16.34818825 17.71357306]\n",
      " [ 5.41479634  6.36352175  7.40033713  8.44053944  9.38097234 10.45864815\n",
      "  11.56827644 12.5401369  13.55615194 14.57344754 15.60370995]\n",
      " [ 4.90234702  5.81921379  6.76423786  7.76015069  8.51361542  9.4472153\n",
      "  10.47666254 11.32741169 12.23976485 13.26677713 14.13923525]\n",
      " [ 4.52357585  5.39092961  6.19285567  7.04185852  7.92475329  8.66416197\n",
      "   9.61035758 10.47600849 11.34243124 12.08655462 12.85690412]\n",
      " [ 4.2215256   4.96505263  5.74085555  6.52526539  7.42229659  8.07857889\n",
      "   8.83142321  9.61362692 10.45839356 11.20176545 12.14377995]]\n"
     ]
    }
   ],
   "source": [
    "ndark = np.load(\"./ndark_10.npy\")\n",
    "print(ndark.shape)\n",
    "print(ndark)"
   ]
  },
  {
   "cell_type": "code",
   "execution_count": 609,
   "metadata": {},
   "outputs": [
    {
     "data": {
      "image/png": "[encoded data removed]",
      "text/plain": [
       "<Figure size 720x720 with 2 Axes>"
      ]
     },
     "metadata": {
      "needs_background": "light"
     },
     "output_type": "display_data"
    }
   ],
   "source": [
    "import matplotlib.pyplot as plt\n",
    "from matplotlib.ticker import MaxNLocator\n",
    "from matplotlib.colors import ListedColormap, LinearSegmentedColormap, BoundaryNorm\n",
    "from matplotlib.collections import LineCollection\n",
    "from matplotlib import cm\n",
    "\n",
    "\n",
    "fig, ax = plt.subplots(1,1, figsize=(10,10))\n",
    "plt.imshow(ndark,cmap=\"hot\",origin='lower')\n",
    "plt.subplots_adjust(bottom=0.1, right=0.8, top=0.9)\n",
    "\n",
    "cax = plt.axes([0.83, 0.25, 0.02, 0.5])\n",
    "cbar = plt.colorbar(cax=cax)  \n",
    "cbar.ax.tick_params(labelsize=15)\n",
    "cbar.ax.yaxis.set_major_locator(MaxNLocator(4))\n",
    "cbar.set_label(\"$n_{dark}$\", rotation=270, fontsize=25, labelpad=35, y=0.5)\n",
    "\n",
    "ax.set_ylabel(\"$\\\\alpha_d$\", fontsize=30, horizontalalignment='right',y=1)\n",
    "ax.set_yticks([0,1,2,3,4,5,6,7,8])\n",
    "ax.set_yticklabels([\"0.23\",\"0.35\",\"0.45\",\"0.55\",\"0.65\",\"0.76\",\"0.87\",\"1.0\"], fontsize=25, rotation=0, verticalalignment='top', horizontalalignment=\"right\")\n",
    "\n",
    "ax.set_xticks([0,2,4,6,8,10])\n",
    "ax.set_xticklabels([\"0\",\"0.2\",\"0.4\",\"0.6\",\"0.8\",\"1.0\"], fontsize=25, rotation=0, verticalalignment='top', horizontalalignment=\"center\")\n",
    "ax.set_xlabel(\"$r_{inv}$\", fontsize=30,horizontalalignment='right',x=1)\n",
    "\n",
    "ax.tick_params(axis='x', direction=\"in\", labelsize=20)\n",
    "ax.tick_params(axis='y', direction=\"in\", labelsize=20)\n",
    "\n",
    "plt.text(x=-500,y=24, s=\"$M_d$ = 10 TeV\", rotation=0 ,fontsize=30)\n",
    "plt.text(x=-620,y=21, s=\"$\\sqrt{s}$ = 13 TeV\", rotation=0 ,fontsize=20, c=\"w\")\n",
    "plt.text(x=-620,y=19, s=\"$M_Z'$ = 1500 GeV\", rotation=0 ,fontsize=20, c=\"w\")\n",
    "        \n",
    "ax.set_xlim((0,10))\n",
    "ax.set_ylim((0,7))\n",
    "plt.subplots_adjust(wspace=0.1, hspace=0.1)\n",
    "plt.savefig(\"./ndark_10.pdf\", transparent=True)\n",
    "plt.show()\n"
   ]
  },
  {
   "cell_type": "markdown",
   "metadata": {},
   "source": [
    "## Print the Truth Record in an Event"
   ]
  },
  {
   "cell_type": "code",
   "execution_count": null,
   "metadata": {},
   "outputs": [],
   "source": [
    "GenParticle = GenParticle_03_10\n",
    "print(\"There are {} information in this event.\".format(len(GenParticle[0][0])))\n",
    "print(\"GenParticle Information\")\n",
    "print(\"{:^5}{:^7}{:^7}{:^7}{:^7}{:^7}{:^7}{:^8}{:^8}{:^8}{:^8}\".format(\"#\",\"Status\",\"PID\", \"M1\", \"M2\", \"D1\", \"D2\", \"PT\", \"Eta\",\"Phi\", \"Mass\"))\n",
    "\n",
    "index = 0 ## which event you want to print out\n",
    "\n",
    "for j in range(len(GenParticle[0][index])):\n",
    "    print(\"{:^5}{:^7}{:^7}{:^7}{:^7}{:^7}{:^7}{:^8.5}{:^8.5}{:^8.5}{:^8.5}\".format( \\\n",
    "        j, GenParticle[0][index][j],  GenParticle[1][index][j], GenParticle[2][index][j], GenParticle[3][index][j],\n",
    "        GenParticle[4][index][j], GenParticle[5][index][j], GenParticle[6][index][j], GenParticle[7][index][j] ,GenParticle[8][index][j], GenParticle[9][index][j]))\n",
    "\n"
   ]
  },
  {
   "cell_type": "code",
   "execution_count": 400,
   "metadata": {},
   "outputs": [
    {
     "name": "stdout",
     "output_type": "stream",
     "text": [
      "There are 392 events.\n"
     ]
    }
   ],
   "source": [
    "twojet_invariantmass_0, survived_list_0 = Preselection(Jet_03)\n",
    "# twojet_invariantmass_03, survived_list_03 = Preselection(Jet_03)\n",
    "# twojet_invariantmass_05, survived_list_05 = Preselection(Jet_05)\n",
    "# twojet_invariantmass_1, survived_list_1 = Preselection(Jet_1)"
   ]
  },
  {
   "cell_type": "code",
   "execution_count": 401,
   "metadata": {},
   "outputs": [
    {
     "data": {
      "image/png": "[encoded data removed]",
      "text/plain": [
       "<Figure size 576x576 with 1 Axes>"
      ]
     },
     "metadata": {
      "needs_background": "light"
     },
     "output_type": "display_data"
    }
   ],
   "source": [
    "plt.figure(figsize=(8,8)) # plotsize\n",
    "\n",
    "weight_0 = Event_Weight_0[survived_list_0]/20000*37*1000\n",
    "# weight_03 = Event_Weight_03[survived_list_03]/20000*37*1000\n",
    "# weight_05 = Event_Weight_05[survived_list_05]/20000*37*1000\n",
    "# weight_1 = Event_Weight_1[survived_list_1]/20000*37*1000\n",
    "\n",
    "bin_size = np.linspace(0,3000,61)\n",
    "\n",
    "\n",
    "hist_0, bins_0 = np.histogram(twojet_invariantmass_0, bins=bin_size, weights = weight_0)\n",
    "plt.step(bins_0[:-1], hist_0.astype(np.float32)/50, color = \"green\", where='mid',linewidth=3, alpha=0.7,label=\"$M_Z$=1500, $r_{inv}$=0.0\") \n",
    "\n",
    "# hist_03, bins_03 = np.histogram(twojet_invariantmass_03, bins=bin_size, weights = weight_03)\n",
    "# plt.step(bins_03[:-1], hist_03.astype(np.float32)/50, color = \"red\", where='mid',linewidth=3, alpha=0.7,label=\"$M_Z$=1500, $r_{inv}$=0.3\") \n",
    "\n",
    "# hist_05, bins_05 = np.histogram(twojet_invariantmass_05, bins=bin_size, weights = weight_05)\n",
    "# plt.step(bins_05[:-1], hist_05.astype(np.float32)/50, color = \"blue\", where='mid',linewidth=3, alpha=0.7,label=\"$M_Z$=1500, $r_{inv}$=0.5\") \n",
    "\n",
    "# hist_1, bins_1 = np.histogram(twojet_invariantmass_1, bins=bin_size, weights = weight_1)\n",
    "# plt.step(bins_1[:-1], hist_1.astype(np.float32)/50, color = \"magenta\", where='mid',linewidth=3, alpha=0.7,label=\"$M_Z$=1500, $r_{inv}$=1.0\") \n",
    "\n",
    "\n",
    "\n",
    "# plt.yscale('log') \n",
    "plt.xlabel(\"$M_{jj}$ [GeV]\" , fontsize=20, horizontalalignment='right',x=1)  # plot x-axis label\n",
    "plt.ylabel(\"d$\\sigma$/d$M_{jj}$ [pb]\", fontsize=20, horizontalalignment='right',y=1)  # plot y-axis label\n",
    "plt.xticks(fontsize=15)   # set x-ticks size\n",
    "plt.yticks(fontsize=15)   # set y-ticks size \n",
    "plt.legend(bbox_to_anchor=(1, 1),ncol=1,fontsize=15) # plot label tag\n",
    "# plt.savefig(\"./invariant_mass_SVJ.png\")  #save figure as png\n",
    "plt.show()"
   ]
  },
  {
   "cell_type": "code",
   "execution_count": 217,
   "metadata": {},
   "outputs": [
    {
     "name": "stdout",
     "output_type": "stream",
     "text": [
      "lambda:  10.00   alpha: 0.23  \n",
      "lambda:  50.00   alpha: 0.35  \n",
      "lambda: 100.00   alpha: 0.45  \n",
      "lambda: 150.00   alpha: 0.55  \n",
      "lambda: 200.00   alpha: 0.65  \n",
      "lambda: 250.00   alpha: 0.76  \n",
      "lambda: 300.00   alpha: 0.87  \n",
      "lambda: 350.00   alpha: 1.00  \n"
     ]
    }
   ],
   "source": [
    "aaa = [10,50,100,150,200,250,300,350]\n",
    "# print(aaa)\n",
    "for i, lambda_d in enumerate(aaa):\n",
    "    print(\"lambda: {:^7.2f}  alpha:{:^7.2f}\".format(aaa[i],np.pi*2/((11./3.*2-2./3.*2)*np.log(1000./lambda_d))))\n"
   ]
  },
  {
   "cell_type": "code",
   "execution_count": 526,
   "metadata": {},
   "outputs": [],
   "source": [
    "class BrachGenParticles:\n",
    "    def __init__(self,file):\n",
    "        self.Status = file[\"Particle.Status\"].array()\n",
    "        self.PID = file[\"Particle.PID\"].array()\n",
    "        self.M1 = file[\"Particle.M1\"].array()\n",
    "        self.M2 = file[\"Particle.M2\"].array()\n",
    "        self.D1 = file[\"Particle.D1\"].array()\n",
    "        self.D2  = file[\"Particle.D2\"].array()\n",
    "        self.PT = file[\"Particle.PT\"].array()\n",
    "        self.Eta =  file[\"Particle.Eta\"].array()\n",
    "        self.Phi = file[\"Particle.Phi\"].array()\n",
    "        self.Mass = file[\"Particle.Mass\"].array()\n",
    "        self.Labels = [\"Status\", \"PID\" , \"M1\", \"M2\", \"D1\", \"D2\", \"PT\", \"Eta\", \"Phi\", \"Mass\"]\n",
    "        \n",
    "#     def At(self, i):\n",
    "#         self.Status = file[\"Particle.Status\"].array()[i]\n",
    "#         self.PID = file[\"Particle.PID\"].array()[i]\n",
    "#         self.M1 = file[\"Particle.M1\"].array()[i]\n",
    "#         self.M2 = file[\"Particle.M2\"].array()[i]\n",
    "#         self.D1 = file[\"Particle.D1\"].array()[i]\n",
    "#         self.D2  = file[\"Particle.D2\"].array()[i]\n",
    "#         self.PT = file[\"Particle.PT\"].array()[i]\n",
    "#         self.Eta =  file[\"Particle.Eta\"].array()[i]\n",
    "#         self.Phi = file[\"Particle.Phi\"].array()[i]\n",
    "#         self.Mass = file[\"Particle.Mass\"].array()[i]"
   ]
  },
  {
   "cell_type": "code",
   "execution_count": 527,
   "metadata": {},
   "outputs": [],
   "source": [
    "filepath_03_10 = \"/home/Storage/MG5_Study_Group/ROOT/Scan_rinv_alpha_v3/SVJ_3_10.root\"\n",
    "file_03_10 = uproot.open(filepath_03_10)[\"Delphes;1\"]\n",
    "\n",
    "aaa = BrachGenParticles(file_03_10)\n",
    "\n"
   ]
  },
  {
   "cell_type": "code",
   "execution_count": 525,
   "metadata": {},
   "outputs": [
    {
     "data": {
      "text/plain": [
       "array([ 4,  4, 21, ...,  1,  1,  1], dtype=int32)"
      ]
     },
     "execution_count": 525,
     "metadata": {},
     "output_type": "execute_result"
    }
   ],
   "source": [
    "aaa.Status[7]"
   ]
  },
  {
   "cell_type": "code",
   "execution_count": 515,
   "metadata": {},
   "outputs": [],
   "source": [
    "aaa.At(3)\n",
    "\n"
   ]
  },
  {
   "cell_type": "code",
   "execution_count": 529,
   "metadata": {},
   "outputs": [
    {
     "data": {
      "text/plain": [
       "array([ 4,  4, 21, ...,  1,  1,  1], dtype=int32)"
      ]
     },
     "execution_count": 529,
     "metadata": {},
     "output_type": "execute_result"
    }
   ],
   "source": [
    "aaa.At(6)\n",
    "aaa.Status"
   ]
  },
  {
   "cell_type": "code",
   "execution_count": null,
   "metadata": {},
   "outputs": [],
   "source": []
  }
 ],
 "metadata": {
  "kernelspec": {
   "display_name": "Python 3",
   "language": "python",
   "name": "python3"
  },
  "language_info": {
   "codemirror_mode": {
    "name": "ipython",
    "version": 3
   },
   "file_extension": ".py",
   "mimetype": "text/x-python",
   "name": "python",
   "nbconvert_exporter": "python",
   "pygments_lexer": "ipython3",
   "version": "3.6.8"
  }
 },
 "nbformat": 4,
 "nbformat_minor": 4
}
