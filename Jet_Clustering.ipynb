{
 "cells": [
  {
   "cell_type": "markdown",
   "metadata": {},
   "source": [
    "# In this example, we will rely on `pyjet` for jet clustering.\n",
    "\n",
    "pyjet: https://github.com/scikit-hep/pyjet"
   ]
  },
  {
   "cell_type": "code",
   "execution_count": 1,
   "metadata": {},
   "outputs": [],
   "source": [
    "import uproot\n",
    "import pyjet\n",
    "import numpy as np\n",
    "import pandas as pd\n",
    "import math\n",
    "import matplotlib.pyplot as plt\n",
    "import numpy as np\n",
    "import sys, os\n",
    "import importlib\n",
    "import time\n",
    "\n",
    "import matplotlib.pyplot as plt\n",
    "from matplotlib.ticker import MaxNLocator\n",
    "from matplotlib.colors import ListedColormap, LinearSegmentedColormap, BoundaryNorm\n",
    "from matplotlib.collections import LineCollection\n",
    "from matplotlib import cm\n"
   ]
  },
  {
   "cell_type": "markdown",
   "metadata": {},
   "source": [
    "## Define the class to fill particle information in to NumpyArray \n",
    "\n",
    "### User can use \n",
    "```\n",
    "GenParticles = BrachGenParticles(file)\n",
    "PID_all = GenParticles.PID\n",
    "```\n",
    "### to get all GenParticles PID array\n",
    "### or\n",
    "```\n",
    "GenParticles = BrachGenParticles(file)\n",
    "PID = GenParticles.PID_At(i)\n",
    "```\n",
    "### to get the GenParticles PID array in the ith event"
   ]
  },
  {
   "cell_type": "code",
   "execution_count": 2,
   "metadata": {},
   "outputs": [],
   "source": [
    "class BrachGenParticles:\n",
    "    def __init__(self,file):\n",
    "        self.file = file\n",
    "        self.length = len(file[\"Particle.Status\"].array())\n",
    "        self.Status = file[\"Particle.Status\"].array()\n",
    "        self.PID = file[\"Particle.PID\"].array()\n",
    "        self.M1 = file[\"Particle.M1\"].array()\n",
    "        self.M2 = file[\"Particle.M2\"].array()\n",
    "        self.D1 = file[\"Particle.D1\"].array()\n",
    "        self.D2  = file[\"Particle.D2\"].array()\n",
    "        self.PT = file[\"Particle.PT\"].array()\n",
    "        self.Eta =  file[\"Particle.Eta\"].array()\n",
    "        self.Phi = file[\"Particle.Phi\"].array()\n",
    "        self.Mass = file[\"Particle.Mass\"].array()\n",
    "        self.Labels = [\"Status\", \"PID\" , \"M1\", \"M2\", \"D1\", \"D2\", \"PT\", \"Eta\", \"Phi\", \"Mass\"]\n",
    "        \n",
    "    def length_At(self, i):\n",
    "        return len(self.Status[i])\n",
    "    def Status_At(self, i):\n",
    "        return self.Status[i]\n",
    "    def PID_At(self, i):\n",
    "        return self.PID[i]\n",
    "    def M1_At(self, i):\n",
    "        return self.M1[i]\n",
    "    def M2_At(self, i):\n",
    "        return self.M2[i]\n",
    "    def D1_At(self, i):\n",
    "        return self.D1[i]\n",
    "    def D2_At(self, i):\n",
    "        return self.D2[i]\n",
    "    def PT_At(self, i):\n",
    "        return self.PT[i]\n",
    "    def Eta_At(self, i):\n",
    "        return self.Eta[i]\n",
    "    def Phi_At(self, i):\n",
    "        return self.Phi[i]\n",
    "    def Mass_At(self, i):\n",
    "        return self.Mass[i]\n",
    "    \n",
    "class BrachJet:\n",
    "    def __init__(self,file):\n",
    "        self.file = file\n",
    "        self.length = len(file[\"Jet.PT\"].array())\n",
    "        self.PT = file[\"Jet.PT\"].array()\n",
    "        self.Eta =  file[\"Jet.Eta\"].array()\n",
    "        self.Phi = file[\"Jet.Phi\"].array()\n",
    "        self.Mass = file[\"Jet.Mass\"].array()\n",
    "        \n",
    "    def PT_At(self, i):\n",
    "        return self.PT[i]\n",
    "    def Eta_At(self, i):\n",
    "        return self.Eta[i]\n",
    "    def Phi_At(self, i):\n",
    "        return self.Phi[i]\n",
    "    def Mass_At(self, i):\n",
    "        return self.Mass[i]\n",
    "    \n",
    "class Event_Weight:\n",
    "    def __init__(self,file):\n",
    "        self.file = file\n",
    "        self.length = len(file[\"Event.Weight\"].array())\n",
    "        self.Event_Weight = np.array(file[\"Event.Weight\"].array())\n",
    "        \n",
    "    def Event_Weight_At(self, i):\n",
    "        return self.Event_Weight[i]"
   ]
  },
  {
   "cell_type": "markdown",
   "metadata": {},
   "source": [
    "## Define Function for Invariant Mass, Transverse Mass\n",
    "\n",
    "### NOTE: the MT formula here is not compatible with MT in the collider physics, please modify this formula by yourself."
   ]
  },
  {
   "cell_type": "code",
   "execution_count": 3,
   "metadata": {},
   "outputs": [],
   "source": [
    "def M(pt1,eta1,phi1,m1,pt2,eta2,phi2,m2):\n",
    "    px1, py1, pz1 = pt1*np.cos(phi1), pt1*np.sin(phi1), np.sqrt(m1**2+pt1**2)*np.sinh(eta1)\n",
    "    e1 = np.sqrt(m1**2 + px1**2 + py1**2 + pz1**2)\n",
    "    px2, py2, pz2 = pt2*np.cos(phi2), pt2*np.sin(phi2), np.sqrt(m2**2+pt2**2)*np.sinh(eta2)\n",
    "    e2 = np.sqrt(m2**2 + px2**2 + py2**2 + pz2**2)\n",
    "    \n",
    "    return np.sqrt((e1+e2)**2-(px1+px2)**2-(py1+py2)**2-(pz1+pz2)**2)\n",
    "    \n",
    "def MT(pt1,eta1,phi1,m1,pt2,eta2,phi2,m2):\n",
    "    px1, py1, pz1 = pt1*np.cos(phi1), pt1*np.sin(phi1), np.sqrt(m1**2+pt1**2)*np.sinh(eta1)\n",
    "    e1 = np.sqrt(m1**2 + px1**2 + py1**2 + pz1**2)\n",
    "    px2, py2, pz2 = pt2*np.cos(phi2), pt2*np.sin(phi2), np.sqrt(m2**2+pt2**2)*np.sinh(eta2)\n",
    "    e2 = np.sqrt(m2**2 + px2**2 + py2**2 + pz2**2)\n",
    "    \n",
    "    ET1, ET2  = np.sqrt(m1**2 + pt1**2), np.sqrt(m2**2 + pt2**2)\n",
    "    MT = np.sqrt( (ET1+ET2)**2 - (px1+px2)**2 - (py1+py2)**2 )\n",
    "    return MT\n",
    "    \n",
    "    "
   ]
  },
  {
   "cell_type": "markdown",
   "metadata": {},
   "source": [
    "## Define Function for Check $r_{inv}$ and Preselection"
   ]
  },
  {
   "cell_type": "code",
   "execution_count": 4,
   "metadata": {},
   "outputs": [],
   "source": [
    "def Check_r_inv(GenParticle):\n",
    "    invis_count, vis_count = 0, 0\n",
    "    Ndark = 0\n",
    "    for i in range(GenParticle.length):\n",
    "        for j in range(len(GenParticle.Status_At(i))):\n",
    "            PID = GenParticle.PID_At(i)[j]\n",
    "            M1 = GenParticle.M1_At(i)[j]\n",
    "            M2 = GenParticle.M2_At(i)[j]\n",
    "            D1 = GenParticle.D1_At(i)[j]\n",
    "            D2 = GenParticle.D2_At(i)[j]\n",
    "            status = GenParticle.Status_At(i)[j]\n",
    "            \n",
    "            if (abs(PID) == 4900111) and (abs( GenParticle.PID_At(i)[D1]) != 4900111) and (abs( GenParticle.PID_At(i)[D2]) != 4900111):\n",
    "                if (abs(GenParticle.PID_At(i)[D1]) != 3) and (abs( GenParticle.PID_At(i)[D2]) != 3):\n",
    "                    invis_count += 1\n",
    "\n",
    "            if (abs(PID) == 4900111) and (abs( GenParticle.PID_At(i)[D1]) != 4900111) and (abs( GenParticle.PID_At(i)[D2]) != 4900111):\n",
    "                if (abs( GenParticle.PID_At(i)[D1]) == 3) or (abs( GenParticle.PID_At(i)[D2]) == 3):\n",
    "                    vis_count += 1\n",
    "\n",
    "            if (abs(PID) == 4900113) and (abs( GenParticle.PID_At(i)[D1]) != 4900113) and (abs( GenParticle.PID_At(i)[D2]) != 4900113):\n",
    "                if (abs( GenParticle.PID_At(i)[D1]) > 490000) or (abs( GenParticle.PID_At(i)[D2]) > 490000):\n",
    "                    invis_count += 1\n",
    "\n",
    "            if (abs(PID) == 4900113) and (abs( GenParticle.PID_At(i)[D1]) != 4900113) and (abs( GenParticle.PID_At(i)[D2]) != 4900113):\n",
    "                if (abs( GenParticle.PID_At(i)[D1]) < 6) or (abs( GenParticle.PID_At(i)[D2]) < 6):\n",
    "                    vis_count += 1\n",
    "\n",
    "            if (abs(PID) == 4900211) and (status == 1):\n",
    "                    Ndark += 1\n",
    "\n",
    "            if (abs(PID) == 4900213) and (status == 1):\n",
    "                    Ndark += 1\n",
    "    \n",
    "    print(\"There are {} events.\".format(len(GenParticle.Status)))\n",
    "    print(\"There are Dark meson {}  decay into invisible particle.\".format(invis_count))\n",
    "    print(\"There are Dark meson {}  decay into visible particle.\".format(vis_count))\n",
    "    print(\"r_inv = {:^4.4f} \".format(invis_count/(invis_count+vis_count)))\n",
    "    \n",
    "    print(\"There are {} stable Dark mesons.\".format(Ndark))\n",
    "    print(\"Average = {:^4.4f} \".format(Ndark/len(GenParticle.Status)))\n",
    "    \n",
    "    return invis_count/(invis_count+vis_count), Ndark/len(GenParticle.Status)\n",
    "\n",
    "\n",
    "\n",
    "def Find_xdxd(GenParticle):\n",
    "    m_xdxd = []\n",
    "    for i in range(GenParticle.length):\n",
    "        for j in range(len(GenParticle.Status_At(i))):\n",
    "            PID = GenParticle.PID_At(i)[j]\n",
    "            M1 = GenParticle.M1_At(i)[j]\n",
    "            M2 = GenParticle.M2_At(i)[j]\n",
    "            D1 = GenParticle.D1_At(i)[j]\n",
    "            D2 = GenParticle.D2_At(i)[j]\n",
    "            status = GenParticle.Status_At(i)[j]\n",
    "            \n",
    "            if PID == 4900101:\n",
    "                tmp_1_pt = GenParticle.PT_At(i)[j]\n",
    "                tmp_1_eta = GenParticle.Eta_At(i)[j]\n",
    "                tmp_1_phi = GenParticle.Phi_At(i)[j]\n",
    "                tmp_1_m = GenParticle.Mass_At(i)[j]\n",
    "#                 print(tmp_1_pt,tmp_1_eta,tmp_1_phi,tmp_1_m)\n",
    "                break\n",
    "                \n",
    "        for j in range(len(GenParticle.Status_At(i))):\n",
    "            PID = GenParticle.PID_At(i)[j]\n",
    "            M1 = GenParticle.M1_At(i)[j]\n",
    "            M2 = GenParticle.M2_At(i)[j]\n",
    "            D1 = GenParticle.D1_At(i)[j]\n",
    "            D2 = GenParticle.D2_At(i)[j]\n",
    "            status = GenParticle.Status_At(i)[j]\n",
    "            \n",
    "            \n",
    "            if PID == -4900101:\n",
    "                tmp_2_pt = GenParticle.PT_At(i)[j]\n",
    "                tmp_2_eta = GenParticle.Eta_At(i)[j]\n",
    "                tmp_2_phi = GenParticle.Phi_At(i)[j]\n",
    "                tmp_2_m = GenParticle.Mass_At(i)[j]\n",
    "#                 print(tmp_2_pt,tmp_2_eta,tmp_2_phi,tmp_2_m)\n",
    "                break\n",
    "                \n",
    "                \n",
    "        m_xdxd.append(M(tmp_1_pt,tmp_1_eta,tmp_1_phi,tmp_1_m,tmp_2_pt,tmp_2_eta,tmp_2_phi,tmp_2_m))\n",
    "        \n",
    "    return np.array(m_xdxd)\n",
    "\n",
    "    \n",
    "def Preselection(Jet):\n",
    "    twojet_invariantmass = []\n",
    "    survived_list = []\n",
    "    for i in range(Jet.length):\n",
    "        if len(Jet.PT_At(i)) < 2:\n",
    "            continue\n",
    "\n",
    "#         if Jet.PT_At(i)[0] < 440 or Jet.PT_At(i)[1] < 60:\n",
    "#             continue\n",
    "\n",
    "#         if np.abs(Jet.Eta_At(i)[0]- Jet.Eta_At(i)[1]) > 1.2:\n",
    "#             continue\n",
    "\n",
    "        twojet_invariantmass.append(M(Jet.PT_At(i)[0],Jet.Eta_At(i)[0],Jet.Phi_At(i)[0],Jet.Mass_At(i)[0],\n",
    "                                      Jet.PT_At(i)[1],Jet.Eta_At(i)[1],Jet.Phi_At(i)[1],Jet.Mass_At(i)[1]))\n",
    "\n",
    "        survived_list.append(i)\n",
    "\n",
    "    print(\"There are {} events.\".format(len(twojet_invariantmass)))\n",
    "    \n",
    "    return np.array(twojet_invariantmass), np.array(survived_list)"
   ]
  },
  {
   "cell_type": "markdown",
   "metadata": {},
   "source": [
    "## Import File"
   ]
  },
  {
   "cell_type": "code",
   "execution_count": 87,
   "metadata": {},
   "outputs": [],
   "source": [
    "path = \"/home/MG5_Study_Group/tutorial\"\n",
    "filepath_3_5 = path + \"/SVJ_0_03.root\"\n",
    "\n",
    "file_3_5 = uproot.open(filepath_3_5)[\"Delphes;1\"]\n"
   ]
  },
  {
   "cell_type": "markdown",
   "metadata": {},
   "source": [
    "#  Print the Branch in the Delphes"
   ]
  },
  {
   "cell_type": "code",
   "execution_count": 88,
   "metadata": {},
   "outputs": [],
   "source": [
    "# file_3_5.show()"
   ]
  },
  {
   "cell_type": "markdown",
   "metadata": {},
   "source": [
    "## Load event via class"
   ]
  },
  {
   "cell_type": "code",
   "execution_count": 89,
   "metadata": {},
   "outputs": [],
   "source": [
    "GenParticle_3_5, Jet_3_5, Event_Weight_3_5 = BrachGenParticles(file_3_5), BrachJet(file_3_5), Event_Weight(file_3_5) \n"
   ]
  },
  {
   "cell_type": "markdown",
   "metadata": {},
   "source": [
    "# Select Stable Final State Particles\n",
    "\n",
    "#### The `status` of stable final state particles in truth record is `1`.\n",
    "#### We will loop over each event to build a `event_list` for final state particles."
   ]
  },
  {
   "cell_type": "code",
   "execution_count": 90,
   "metadata": {},
   "outputs": [
    {
     "name": "stdout",
     "output_type": "stream",
     "text": [
      "Wed Sep 16 13:51:55 2020\n",
      "There are 10000 events in this event list.\n",
      "\u001b[3;33mTime Cost : 5.7434 min\u001b[0;m\n"
     ]
    }
   ],
   "source": [
    "print(time.strftime(\"%a %b %d %H:%M:%S %Y\", time.localtime()))\n",
    "ticks_1 = time.time()\n",
    "\n",
    "GenParticle = GenParticle_3_5\n",
    "\n",
    "event_list = []\n",
    "\n",
    "\n",
    "for N in range(GenParticle.length):\n",
    "    \n",
    "    event_list_tmp = []\n",
    "    \n",
    "    for j in range(GenParticle.length_At(N)):\n",
    "        \n",
    "        if GenParticle.Status_At(N)[j] == 1: #Stable Final State Particles\n",
    "            \n",
    "            event_list_tmp.append([GenParticle.PT_At(N)[j],  GenParticle.Eta_At(N)[j], GenParticle.Phi_At(N)[j], GenParticle.Mass_At(N)[j], GenParticle.PID_At(N)[j]])\n",
    "            \n",
    "    event_list_tmp = np.array(event_list_tmp)\n",
    "    event_list.append(event_list_tmp)\n",
    "\n",
    "#     if index == 1000:\n",
    "#         break\n",
    "\n",
    "\n",
    "print(\"There are {} events in this event list.\".format(len(event_list)))\n",
    "\n",
    "ticks_2 = time.time()\n",
    "totaltime =  ticks_2 - ticks_1\n",
    "print(\"\\033[3;33mTime Cost : {:.4f} min\\033[0;m\".format(totaltime/60.))"
   ]
  },
  {
   "cell_type": "markdown",
   "metadata": {},
   "source": [
    "# Let's do jet clustering!!\n",
    "### We use ` np.core.records.fromarrays` to assign the name of kinematic variables and PID\n",
    "### In `pyjet`, the data type are only \n",
    "`\n",
    "np.dtype([('pT', 'f8'), ('eta', 'f8'), ('phi', 'f8'), ('mass', 'f8')])\n",
    "`\n",
    "### or (cluster(..., ep=True))\n",
    "`\n",
    "np.dtype([('E', 'f8'), ('px', 'f8'), ('py', 'f8'), ('pz', 'f8')])  \n",
    "`\n",
    "### In this example, we use `(pt, eta, phi and mass)`.\n",
    "### After assigning the name for our each event list, the `pyjet.cluster` and `inclusive_jets` will help us do jet clustering.\n",
    "`\n",
    "sequence_cluster = pyjet.cluster(to_cluster, R = 0.4,p = -1)\n",
    "jets_cluster = sequence_cluster.inclusive_jets(pt_min)\n",
    "`\n",
    "#### Variable: `R` is the cone size of the jet.\n",
    "#### Variable: `p` is the jet clustering algorithm. `-1: anti-kt , 0: Cambridge-Aachen(C/A), 1: kt`\n",
    "#### Variable: `pt_min` is the minimum jet's pt.\n",
    "\n"
   ]
  },
  {
   "cell_type": "code",
   "execution_count": 16,
   "metadata": {},
   "outputs": [],
   "source": [
    "event_list_clustered = []\n",
    "for i in range(len(event_list)):\n",
    "    to_cluster = np.core.records.fromarrays(event_list[i].transpose(), \n",
    "                                                 names=\"pT, eta, phi, mass, PID\",\n",
    "                                                 formats = \"f8, f8, f8, f8, f8\")\n",
    "    pt_min = 200\n",
    "    sequence_cluster = pyjet.cluster(to_cluster, R = 0.6, p = -1) # p = -1: anti-kt , 0: Cambridge-Aachen(C/A), 1: kt\n",
    "    jets_cluster = sequence_cluster.inclusive_jets(pt_min)\n",
    "    event_list_clustered.append(jets_cluster)\n"
   ]
  },
  {
   "cell_type": "markdown",
   "metadata": {},
   "source": [
    "# Print jets in the Nth event"
   ]
  },
  {
   "cell_type": "code",
   "execution_count": 91,
   "metadata": {},
   "outputs": [
    {
     "name": "stdout",
     "output_type": "stream",
     "text": [
      "No.0 Jet's Information\n",
      "PseudoJet(pt=604.553, eta=-0.064, phi=-1.720, mass=184.148)\n",
      "-------------------------------------------------------------------------\n",
      " Constituent's PID  Constituent's Four Momentum \n",
      "-------------------------------------------------------------------------\n",
      "        211         PseudoJet(pt=4.461, eta=-0.469, phi=-2.125, mass=0.140) \n",
      "        211         PseudoJet(pt=1.569, eta=-0.390, phi=-2.186, mass=0.140) \n",
      "       -321         PseudoJet(pt=1.444, eta=0.148, phi=-2.255, mass=0.494) \n",
      "        211         PseudoJet(pt=0.595, eta=0.270, phi=-1.251, mass=0.140) \n",
      "        22          PseudoJet(pt=0.395, eta=-0.162, phi=-2.263, mass=0.000) \n",
      "        22          PseudoJet(pt=0.172, eta=-0.036, phi=-2.262, mass=0.000) \n",
      "        211         PseudoJet(pt=1.424, eta=0.480, phi=-1.714, mass=0.140) \n",
      "        14          PseudoJet(pt=0.511, eta=0.350, phi=-2.048, mass=0.000) \n",
      "        22          PseudoJet(pt=1.049, eta=-0.571, phi=-1.673, mass=-0.000) \n",
      "        321         PseudoJet(pt=1.097, eta=-0.360, phi=-2.132, mass=0.494) \n",
      "       -211         PseudoJet(pt=0.224, eta=-0.302, phi=-2.158, mass=0.140) \n",
      "        211         PseudoJet(pt=3.977, eta=-0.289, phi=-2.124, mass=0.140) \n",
      "        22          PseudoJet(pt=1.321, eta=-0.504, phi=-1.580, mass=0.000) \n",
      "       -211         PseudoJet(pt=6.146, eta=-0.167, phi=-2.121, mass=0.140) \n",
      "       -211         PseudoJet(pt=1.028, eta=0.298, phi=-1.930, mass=0.140) \n",
      "        211         PseudoJet(pt=1.284, eta=-0.273, phi=-2.060, mass=0.140) \n",
      "        211         PseudoJet(pt=1.376, eta=-0.291, phi=-2.045, mass=0.140) \n",
      "       -211         PseudoJet(pt=1.044, eta=-0.077, phi=-2.113, mass=0.140) \n",
      "        211         PseudoJet(pt=11.258, eta=-0.386, phi=-1.933, mass=0.140) \n",
      "        211         PseudoJet(pt=1.040, eta=0.081, phi=-2.082, mass=0.140) \n",
      "       -211         PseudoJet(pt=1.867, eta=-0.418, phi=-1.840, mass=0.140) \n",
      "     -4900213       PseudoJet(pt=6.435, eta=-0.450, phi=-1.374, mass=9.990) \n",
      "        211         PseudoJet(pt=1.008, eta=-0.427, phi=-1.694, mass=0.140) \n",
      "        22          PseudoJet(pt=0.531, eta=-0.414, phi=-1.713, mass=-0.000) \n",
      "       -211         PseudoJet(pt=4.069, eta=-0.371, phi=-1.856, mass=0.140) \n",
      "       -2112        PseudoJet(pt=2.988, eta=-0.264, phi=-1.985, mass=0.940) \n",
      "      4900213       PseudoJet(pt=30.387, eta=-0.343, phi=-1.905, mass=9.990) \n",
      "        22          PseudoJet(pt=0.507, eta=-0.289, phi=-1.942, mass=0.000) \n",
      "        11          PseudoJet(pt=3.707, eta=0.291, phi=-1.498, mass=0.001) \n",
      "       -211         PseudoJet(pt=1.940, eta=0.265, phi=-1.916, mass=0.140) \n",
      "       -321         PseudoJet(pt=10.251, eta=-0.365, phi=-1.768, mass=0.494) \n",
      "        22          PseudoJet(pt=1.762, eta=-0.144, phi=-2.008, mass=-0.000) \n",
      "        22          PseudoJet(pt=0.126, eta=-0.084, phi=-1.358, mass=-0.000) \n",
      "      4900213       PseudoJet(pt=7.095, eta=-0.454, phi=-1.472, mass=9.990) \n",
      "        22          PseudoJet(pt=0.864, eta=-0.319, phi=-1.576, mass=-0.000) \n",
      "       -211         PseudoJet(pt=1.236, eta=-0.215, phi=-1.928, mass=0.140) \n",
      "        22          PseudoJet(pt=1.075, eta=0.216, phi=-1.907, mass=0.000) \n",
      "        22          PseudoJet(pt=1.398, eta=0.274, phi=-1.557, mass=0.000) \n",
      "        -13         PseudoJet(pt=3.792, eta=0.238, phi=-1.503, mass=0.106) \n",
      "       -211         PseudoJet(pt=0.995, eta=0.292, phi=-1.634, mass=0.140) \n",
      "        22          PseudoJet(pt=0.132, eta=-0.049, phi=-1.386, mass=0.000) \n",
      "        211         PseudoJet(pt=2.458, eta=-0.288, phi=-1.797, mass=0.140) \n",
      "        22          PseudoJet(pt=0.533, eta=0.274, phi=-1.739, mass=0.000) \n",
      "        22          PseudoJet(pt=0.437, eta=0.109, phi=-1.438, mass=-0.000) \n",
      "        22          PseudoJet(pt=0.202, eta=-0.229, phi=-1.857, mass=0.000) \n",
      "        22          PseudoJet(pt=0.134, eta=-0.122, phi=-1.933, mass=0.000) \n",
      "        22          PseudoJet(pt=0.323, eta=-0.264, phi=-1.738, mass=-0.000) \n",
      "        22          PseudoJet(pt=2.995, eta=-0.253, phi=-1.726, mass=0.000) \n",
      "        22          PseudoJet(pt=2.657, eta=-0.230, phi=-1.586, mass=0.000) \n",
      "        22          PseudoJet(pt=0.516, eta=0.233, phi=-1.727, mass=0.000) \n",
      "       -211         PseudoJet(pt=3.635, eta=0.194, phi=-1.564, mass=0.140) \n",
      "       -211         PseudoJet(pt=1.066, eta=-0.162, phi=-1.513, mass=0.140) \n",
      "        22          PseudoJet(pt=0.137, eta=-0.239, phi=-1.657, mass=-0.000) \n",
      "        -12         PseudoJet(pt=3.553, eta=0.216, phi=-1.712, mass=0.000) \n",
      "        22          PseudoJet(pt=0.448, eta=0.195, phi=-1.604, mass=0.000) \n",
      "       -211         PseudoJet(pt=3.044, eta=-0.225, phi=-1.659, mass=0.140) \n",
      "        22          PseudoJet(pt=1.941, eta=-0.226, phi=-1.677, mass=0.000) \n",
      "        22          PseudoJet(pt=0.432, eta=0.205, phi=-1.669, mass=0.000) \n",
      "        22          PseudoJet(pt=0.513, eta=0.195, phi=-1.737, mass=-0.000) \n",
      "       -211         PseudoJet(pt=1.487, eta=-0.163, phi=-1.560, mass=0.140) \n",
      "        211         PseudoJet(pt=2.700, eta=-0.095, phi=-1.509, mass=0.140) \n",
      "        22          PseudoJet(pt=2.320, eta=-0.200, phi=-1.733, mass=-0.000) \n",
      "        22          PseudoJet(pt=0.853, eta=0.094, phi=-1.859, mass=0.000) \n",
      "        22          PseudoJet(pt=1.001, eta=0.175, phi=-1.674, mass=0.000) \n",
      "        211         PseudoJet(pt=0.922, eta=0.124, phi=-1.572, mass=0.140) \n",
      "        22          PseudoJet(pt=0.089, eta=0.131, phi=-1.603, mass=0.000) \n",
      "        22          PseudoJet(pt=3.061, eta=-0.155, phi=-1.755, mass=0.000) \n",
      "        211         PseudoJet(pt=0.550, eta=-0.038, phi=-1.841, mass=0.140) \n",
      "        22          PseudoJet(pt=6.634, eta=-0.144, phi=-1.632, mass=0.000) \n",
      "        211         PseudoJet(pt=2.386, eta=0.135, phi=-1.690, mass=0.140) \n",
      "        22          PseudoJet(pt=2.413, eta=0.060, phi=-1.569, mass=-0.000) \n",
      "        22          PseudoJet(pt=3.556, eta=0.122, phi=-1.650, mass=0.000) \n",
      "        321         PseudoJet(pt=4.585, eta=0.125, phi=-1.723, mass=0.494) \n",
      "        22          PseudoJet(pt=0.166, eta=0.025, phi=-1.825, mass=0.000) \n",
      "        211         PseudoJet(pt=9.298, eta=-0.109, phi=-1.777, mass=0.140) \n",
      "        22          PseudoJet(pt=3.138, eta=-0.087, phi=-1.593, mass=0.000) \n",
      "        22          PseudoJet(pt=1.313, eta=-0.081, phi=-1.592, mass=0.000) \n",
      "        22          PseudoJet(pt=4.344, eta=0.096, phi=-1.628, mass=0.000) \n",
      "        22          PseudoJet(pt=2.554, eta=-0.099, phi=-1.766, mass=-0.000) \n",
      "        22          PseudoJet(pt=1.660, eta=-0.109, phi=-1.639, mass=0.000) \n",
      "        22          PseudoJet(pt=0.999, eta=0.059, phi=-1.604, mass=0.000) \n",
      "        22          PseudoJet(pt=0.948, eta=-0.115, phi=-1.677, mass=0.000) \n",
      "        211         PseudoJet(pt=4.294, eta=-0.087, phi=-1.628, mass=0.140) \n",
      "        22          PseudoJet(pt=1.709, eta=-0.077, phi=-1.762, mass=-0.000) \n",
      "       -211         PseudoJet(pt=2.405, eta=-0.058, phi=-1.778, mass=0.140) \n",
      "        22          PseudoJet(pt=1.536, eta=0.049, phi=-1.777, mass=0.000) \n",
      "       -211         PseudoJet(pt=1.476, eta=-0.092, phi=-1.729, mass=0.140) \n",
      "        211         PseudoJet(pt=4.752, eta=-0.080, phi=-1.740, mass=0.140) \n",
      "       -321         PseudoJet(pt=8.483, eta=-0.083, phi=-1.732, mass=0.494) \n",
      "       -211         PseudoJet(pt=14.191, eta=-0.063, phi=-1.750, mass=0.140) \n",
      "        130         PseudoJet(pt=20.434, eta=-0.074, phi=-1.720, mass=0.498) \n",
      "       -211         PseudoJet(pt=2.038, eta=-0.054, phi=-1.721, mass=0.140) \n",
      "        211         PseudoJet(pt=3.112, eta=-0.046, phi=-1.717, mass=0.140) \n",
      "       -211         PseudoJet(pt=2.432, eta=-0.004, phi=-1.759, mass=0.140) \n",
      "        22          PseudoJet(pt=2.154, eta=-0.008, phi=-1.748, mass=-0.000) \n",
      "      4900213       PseudoJet(pt=74.299, eta=0.022, phi=-1.720, mass=9.990) \n",
      "     -4900213       PseudoJet(pt=80.207, eta=0.016, phi=-1.721, mass=9.990) \n",
      "        130         PseudoJet(pt=5.118, eta=0.039, phi=-1.616, mass=0.498) \n",
      "        22          PseudoJet(pt=1.822, eta=-0.050, phi=-1.674, mass=0.000) \n",
      "        211         PseudoJet(pt=5.504, eta=-0.037, phi=-1.639, mass=0.140) \n",
      "        22          PseudoJet(pt=0.406, eta=-0.008, phi=-1.625, mass=0.000) \n",
      "        130         PseudoJet(pt=3.688, eta=0.021, phi=-1.652, mass=0.498) \n",
      "      4900213       PseudoJet(pt=81.270, eta=-0.003, phi=-1.653, mass=9.990) \n",
      "     -4900213       PseudoJet(pt=82.533, eta=-0.009, phi=-1.661, mass=9.990) \n",
      "-------------------------------------------------------------------------\n",
      "No.1 Jet's Information\n",
      "PseudoJet(pt=529.714, eta=-0.486, phi=1.204, mass=161.955)\n",
      "-------------------------------------------------------------------------\n",
      " Constituent's PID  Constituent's Four Momentum \n",
      "-------------------------------------------------------------------------\n",
      "        22          PseudoJet(pt=0.732, eta=-0.915, phi=1.565, mass=0.000) \n",
      "        22          PseudoJet(pt=1.164, eta=-0.988, phi=1.438, mass=0.000) \n",
      "        211         PseudoJet(pt=0.096, eta=-0.837, phi=1.740, mass=0.140) \n",
      "        22          PseudoJet(pt=0.941, eta=-0.671, phi=1.692, mass=0.000) \n",
      "        22          PseudoJet(pt=0.921, eta=-0.696, phi=1.676, mass=0.000) \n",
      "        22          PseudoJet(pt=0.232, eta=-0.599, phi=0.703, mass=-0.000) \n",
      "     -4900213       PseudoJet(pt=27.491, eta=-0.898, phi=0.995, mass=9.990) \n",
      "        130         PseudoJet(pt=7.601, eta=-0.076, phi=0.987, mass=0.498) \n",
      "       -211         PseudoJet(pt=0.264, eta=-0.430, phi=0.808, mass=0.140) \n",
      "       -211         PseudoJet(pt=0.815, eta=-0.103, phi=1.228, mass=0.140) \n",
      "       -211         PseudoJet(pt=2.682, eta=-0.224, phi=1.476, mass=0.140) \n",
      "     -4900213       PseudoJet(pt=65.212, eta=-0.181, phi=1.077, mass=9.990) \n",
      "       2212         PseudoJet(pt=0.794, eta=-0.305, phi=1.401, mass=0.938) \n",
      "        211         PseudoJet(pt=0.741, eta=-0.479, phi=1.510, mass=0.140) \n",
      "        22          PseudoJet(pt=8.346, eta=-0.501, phi=1.487, mass=-0.000) \n",
      "        211         PseudoJet(pt=44.792, eta=-0.533, phi=1.502, mass=0.140) \n",
      "        22          PseudoJet(pt=3.293, eta=-0.525, phi=1.497, mass=0.000) \n",
      "        211         PseudoJet(pt=0.352, eta=-0.196, phi=1.190, mass=0.140) \n",
      "       -211         PseudoJet(pt=0.600, eta=-0.703, phi=1.012, mass=0.140) \n",
      "        130         PseudoJet(pt=0.449, eta=-0.393, phi=1.073, mass=0.498) \n",
      "        22          PseudoJet(pt=0.415, eta=-0.715, phi=1.108, mass=0.000) \n",
      "       -211         PseudoJet(pt=0.232, eta=-0.374, phi=1.374, mass=0.140) \n",
      "       -211         PseudoJet(pt=0.532, eta=-0.520, phi=1.410, mass=0.140) \n",
      "      4900213       PseudoJet(pt=13.660, eta=-0.401, phi=1.109, mass=9.990) \n",
      "     -4900213       PseudoJet(pt=13.634, eta=-0.380, phi=1.171, mass=9.990) \n",
      "      4900213       PseudoJet(pt=34.110, eta=-0.370, phi=1.306, mass=9.990) \n",
      "      4900213       PseudoJet(pt=159.550, eta=-0.459, phi=1.166, mass=9.990) \n",
      "        22          PseudoJet(pt=0.255, eta=-0.464, phi=1.249, mass=0.000) \n",
      "       -211         PseudoJet(pt=1.900, eta=-0.641, phi=1.266, mass=0.140) \n",
      "        22          PseudoJet(pt=1.635, eta=-0.593, phi=1.153, mass=0.000) \n",
      "        211         PseudoJet(pt=5.319, eta=-0.576, phi=1.163, mass=0.140) \n",
      "        22          PseudoJet(pt=8.715, eta=-0.572, phi=1.182, mass=0.000) \n",
      "        211         PseudoJet(pt=21.408, eta=-0.560, phi=1.203, mass=0.140) \n",
      "        321         PseudoJet(pt=47.945, eta=-0.589, phi=1.220, mass=0.494) \n",
      "       -321         PseudoJet(pt=57.557, eta=-0.592, phi=1.224, mass=0.494) \n",
      "-------------------------------------------------------------------------\n"
     ]
    }
   ],
   "source": [
    "N = 0\n",
    "\n",
    "for i, jets in enumerate(event_list_clustered[N]):\n",
    "    print(\"{}\".format(\"No.\" +str(i)+\" Jet's Information\"))\n",
    "    print(jets)\n",
    "    print(\"-------------------------------------------------------------------------\")\n",
    "    print(\"{:^19} {:^20} \".format(\"Constituent's PID\",\"Constituent's Four Momentum\"))\n",
    "    print(\"-------------------------------------------------------------------------\")\n",
    "    \n",
    "    for constituent in jets: # get constituent in each \"jet_element\"\n",
    "        print(\"{:^19} {} \".format(int(constituent.PID), constituent))\n",
    "    print(\"-------------------------------------------------------------------------\")"
   ]
  },
  {
   "cell_type": "markdown",
   "metadata": {},
   "source": [
    "# Print the Truth Record in an Event"
   ]
  },
  {
   "cell_type": "code",
   "execution_count": null,
   "metadata": {},
   "outputs": [],
   "source": [
    "GenParticle = GenParticle_3_5\n",
    "# GenParticle = GenParticle_ppzjj\n",
    "print(\"There are {} information in this event.\".format(len(GenParticle.Status[0])))\n",
    "print(\"GenParticle Information\")\n",
    "print(\"{:^5}{:^7}{:^7}{:^7}{:^7}{:^7}{:^7}{:^8}{:^8}{:^8}{:^8}\".format(\"#\",\"Status\",\"PID\", \"M1\", \"M2\", \"D1\", \"D2\", \"PT\", \"Eta\",\"Phi\", \"Mass\"))\n",
    "\n",
    "index = 0 ## which event you want to print out\n",
    "\n",
    "for j in range(len(GenParticle.Status_At(index))):\n",
    "    \n",
    "    if GenParticle.Status_At(index)[j] == 1: ##Selet the Stable Final State Particles\n",
    "\n",
    "        print(\"{:^5}{:^7}{:^7}{:^7}{:^7}{:^7}{:^7}{:^8.5}{:^8.5}{:^8.5}{:^8.5}\".format( \\\n",
    "        j, GenParticle.Status_At(index)[j],  GenParticle.PID_At(index)[j], GenParticle.M1_At(index)[j], GenParticle.M2_At(index)[j],\n",
    "         GenParticle.D1_At(index)[j], GenParticle.D2_At(index)[j],  GenParticle.PT_At(index)[j],  GenParticle.Eta_At(index)[j], GenParticle.Phi_At(index)[j], GenParticle.Mass_At(index)[j]))\n",
    "\n"
   ]
  },
  {
   "cell_type": "markdown",
   "metadata": {},
   "source": [
    "## Findin the first two Xd(`4900101`) and $\\bar{\\mathrm{Xd}}$(`-4900101`) in the truth record table for invariant mass calculation."
   ]
  },
  {
   "cell_type": "code",
   "execution_count": 93,
   "metadata": {},
   "outputs": [],
   "source": [
    "m_dxdx = Find_xdxd(GenParticle_3_5)"
   ]
  },
  {
   "cell_type": "markdown",
   "metadata": {},
   "source": [
    "# Calculate di-jet Inavariant Mass from Detector Simulation"
   ]
  },
  {
   "cell_type": "code",
   "execution_count": 94,
   "metadata": {},
   "outputs": [
    {
     "name": "stdout",
     "output_type": "stream",
     "text": [
      "There are 417 events.\n"
     ]
    }
   ],
   "source": [
    "dijet_invariantmass, survived_list = Preselection(Jet_3_5)"
   ]
  },
  {
   "cell_type": "markdown",
   "metadata": {},
   "source": [
    "## Calculate the number of event for event weight \n",
    "## Luminosity $\\mathcal{L}$  = 37 $fb^{-1}$"
   ]
  },
  {
   "cell_type": "code",
   "execution_count": 105,
   "metadata": {},
   "outputs": [],
   "source": [
    "weight_03_5 = Event_Weight_3_5.Event_Weight/10000"
   ]
  },
  {
   "cell_type": "markdown",
   "metadata": {},
   "source": [
    "# Di-Jet Events' Selection From Truth Record\n",
    "### We want to compare the inavriant mass distribution between two reconstructed jets and two dark quarks.\n",
    "### We need select the events with # of jet >=2."
   ]
  },
  {
   "cell_type": "code",
   "execution_count": 96,
   "metadata": {},
   "outputs": [
    {
     "name": "stdout",
     "output_type": "stream",
     "text": [
      "There are 9136 events passed this di-jet selection.\n"
     ]
    }
   ],
   "source": [
    "M_JJ = []\n",
    "event_sele = []\n",
    "for N in range(len(event_list_clustered)):\n",
    "    \n",
    "    if len(event_list_clustered[N]) >= 2: # at least two jets in this event.\n",
    "        jet_1 = event_list_clustered[N][0] #leading jet's information\n",
    "        jet_2 = event_list_clustered[N][1] #subleading jet's information\n",
    "        \n",
    "        M_JJ.append( M(jet_1.pt,jet_1.eta,jet_1.phi,jet_1.mass,jet_2.pt,jet_2.eta,jet_2.phi,jet_2.mass))\n",
    "        event_sele.append(N)\n",
    "        \n",
    "print(\"There are {} events passed this di-jet selection.\".format(len(M_JJ)))"
   ]
  },
  {
   "cell_type": "markdown",
   "metadata": {},
   "source": [
    "## Example 1: Plot in differential number of event"
   ]
  },
  {
   "cell_type": "code",
   "execution_count": 106,
   "metadata": {},
   "outputs": [
    {
     "name": "stdout",
     "output_type": "stream",
     "text": [
      "total events: 10000 \n"
     ]
    },
    {
     "data": {
      "image/png": "[encoded data removed]",
      "text/plain": [
       "<Figure size 576x576 with 1 Axes>"
      ]
     },
     "metadata": {
      "needs_background": "light"
     },
     "output_type": "display_data"
    }
   ],
   "source": [
    "plt.figure(figsize=(8,8)) # plotsize\n",
    "\n",
    "print(\"total events: {} \".format(len(m_dxdx)))\n",
    "\n",
    "bin_size = np.linspace(0,5000,251)\n",
    "\n",
    "hist, bins = np.histogram(m_dxdx, bins=bin_size, weights = weight_03_5*37*1000)\n",
    "plt.step(bins[:-1], hist.astype(np.float32),color = \"green\", where='mid',linewidth=3, alpha=0.7,label=\"$M_{xd,\\\\bar{xd}}$\") \n",
    "\n",
    "hist_M_JJ, bins_M_JJ = np.histogram(M_JJ, bins=bin_size, weights = weight_03_5[event_sele]*37*1000)\n",
    "plt.step(bins_M_JJ[:-1], hist_M_JJ.astype(np.float32), color = \"red\", where='mid',linewidth=3, alpha=0.7,label=\"$M^{truth}_{jj}$\") \n",
    "\n",
    "hist_M_JJ_detec, bins_M_JJ_detec = np.histogram(dijet_invariantmass, bins=bin_size, weights = weight_03_5[survived_list]*37*1000)\n",
    "plt.step(bins_M_JJ_detec[:-1], hist_M_JJ_detec.astype(np.float32), color = \"blue\", where='mid',linewidth=3, alpha=0.7,label=\"$M^{detector}_{jj}$\") \n",
    "\n",
    "\n",
    "\n",
    "plt.text(180, 4000, \"$\\mathcal{L}$ = 37 $\\mathrm{fb}^{-1}$\", fontsize=20)\n",
    "plt.text(180, 2800, \"M(Z') = 1500 GeV\", fontsize=20)\n",
    "plt.text(180, 1800, \"N($M_{xd,\\\\bar{xd}}$) = \" + str(np.round(np.sum(hist.astype(np.float32)),2)), fontsize=20)\n",
    "plt.text(180, 1000, \"N($M^{truth}_{jj}$) = \" + str(np.round(np.sum(hist_M_JJ.astype(np.float32)),2)), fontsize=20)\n",
    "plt.text(180, 600, \"N($M^{detector}_{jj}$) = \" + str(np.round(np.sum(hist_M_JJ_detec.astype(np.float32)),2)), fontsize=20)\n",
    "\n",
    "\n",
    "\n",
    "plt.legend(bbox_to_anchor=(0.71, 1),ncol=2,fontsize=20,frameon=False)\n",
    "# plt.legend(ncol=2,fontsize=25)# plot label tag\n",
    "plt.yscale('log') \n",
    "# plt.xscale('log') \n",
    "plt.xlabel(\"X [GeV]\" , fontsize=20, horizontalalignment='right',x=1)  # plot x-axis label\n",
    "plt.ylabel(\"dN/dX  / 20 GeV \", fontsize=20, horizontalalignment='right',y=1)  # plot y-axis label\n",
    "plt.xticks(fontsize=20)   # set x-ticks size\n",
    "plt.yticks(fontsize=20)   # set y-ticks size \n",
    "plt.xlim((0,2000))\n",
    "# plt.ylim((10,3000))\n",
    "# plt.savefig(\"./invariant_mass_SVJ.png\")  #save figure as png\n",
    "plt.show()"
   ]
  },
  {
   "cell_type": "markdown",
   "metadata": {},
   "source": [
    "##### Example 2: Plot in normalized to one"
   ]
  },
  {
   "cell_type": "code",
   "execution_count": 107,
   "metadata": {},
   "outputs": [
    {
     "name": "stdout",
     "output_type": "stream",
     "text": [
      "total events: 10000 \n"
     ]
    },
    {
     "data": {
      "image/png": "[encoded data removed]",
      "text/plain": [
       "<Figure size 576x576 with 1 Axes>"
      ]
     },
     "metadata": {
      "needs_background": "light"
     },
     "output_type": "display_data"
    }
   ],
   "source": [
    "plt.figure(figsize=(8,8)) # plotsize\n",
    "\n",
    "print(\"total events: {} \".format(len(m_dxdx)))\n",
    "\n",
    "bin_size = np.linspace(0,5000,251)\n",
    "\n",
    "hist, bins = np.histogram(m_dxdx, bins=bin_size, weights = weight_03_5)\n",
    "plt.step(bins[:-1], hist.astype(np.float32)/np.sum(hist),color = \"green\", where='mid',linewidth=3, alpha=0.7,label=\"$M_{xd,\\\\bar{xd}}$\") \n",
    "\n",
    "\n",
    "hist_M_JJ, bins_M_JJ = np.histogram(M_JJ, bins=bin_size, weights = weight_03_5[event_sele]*37*1000)\n",
    "plt.step(bins_M_JJ[:-1], hist_M_JJ.astype(np.float32)/np.sum(hist_M_JJ), color = \"red\", where='mid',linewidth=3, alpha=0.7,label=\"$M^{truth}_{jj}$\") \n",
    "\n",
    "hist_M_JJ_detec, bins_M_JJ_detec = np.histogram(dijet_invariantmass, bins=bin_size, weights = weight_03_5[survived_list]*37*1000)\n",
    "plt.step(bins_M_JJ_detec[:-1], hist_M_JJ_detec.astype(np.float32)/np.sum(hist_M_JJ_detec), color = \"blue\", where='mid',linewidth=3, alpha=0.7,label=\"$M^{detector}_{jj}$\") \n",
    "\n",
    "\n",
    "\n",
    "\n",
    "\n",
    "plt.text(100, 0.17, \"$\\mathcal{L}$ = 37 $\\mathrm{fb}^{-1}$\", fontsize=20)\n",
    "plt.text(100, 0.12, \"M(Z') = 1500 GeV\", fontsize=20)\n",
    "plt.text(100, 0.08, \"$M_{xd,\\\\bar{xd}}$ area = \" + str(np.round(np.sum(hist.astype(np.float32)/np.sum(hist)),2)), fontsize=20)\n",
    "plt.text(100, 0.06, \"$M_{jj}$ area = \" + str(np.round(np.sum(hist_M_JJ.astype(np.float32))/np.sum(hist_M_JJ),2)[0]), fontsize=20)\n",
    "plt.text(100, 0.04, \"$M^{detector}_{jj}$ area = \" + str(np.round(np.sum(hist_M_JJ_detec.astype(np.float32))/np.sum(hist_M_JJ_detec),2)[0]), fontsize=20)\n",
    "\n",
    "\n",
    "\n",
    "\n",
    "\n",
    "plt.legend(bbox_to_anchor=(0.75, 1),ncol=2,fontsize=20,frameon=False)\n",
    "# plt.legend(ncol=2,fontsize=25)# plot label tag\n",
    "plt.yscale('log') \n",
    "# plt.xscale('log') \n",
    "plt.xlabel(\"X [GeV]\" , fontsize=20, horizontalalignment='right',x=1)  # plot x-axis label\n",
    "plt.ylabel(\"1/N dN/dX / 20 GeV \", fontsize=20, horizontalalignment='right',y=1)  # plot y-axis label\n",
    "plt.xticks(fontsize=20)   # set x-ticks size\n",
    "plt.yticks(fontsize=20)   # set y-ticks size \n",
    "plt.xlim((0,2000))\n",
    "plt.ylim((0.001,1))\n",
    "# plt.savefig(\"./invariant_mass_SVJ.pdf\")  #save figure as pdf\n",
    "plt.show()"
   ]
  },
  {
   "cell_type": "markdown",
   "metadata": {},
   "source": [
    "## Example 3: Plot in differential cross section\n",
    "### Please check that the area under the curve is total cross section.\n",
    " "
   ]
  },
  {
   "cell_type": "code",
   "execution_count": 108,
   "metadata": {},
   "outputs": [
    {
     "name": "stdout",
     "output_type": "stream",
     "text": [
      "total events: 10000 \n"
     ]
    },
    {
     "data": {
      "image/png": "[encoded data removed]",
      "text/plain": [
       "<Figure size 576x576 with 1 Axes>"
      ]
     },
     "metadata": {
      "needs_background": "light"
     },
     "output_type": "display_data"
    }
   ],
   "source": [
    "plt.figure(figsize=(8,8)) # plotsize\n",
    "\n",
    "print(\"total events: {} \".format(len(m_dxdx)))\n",
    "\n",
    "bin_size = np.linspace(0,5000,251)\n",
    "\n",
    "hist, bins = np.histogram(m_dxdx, bins=bin_size, weights = weight_03_5)\n",
    "plt.step(bins[:-1], hist.astype(np.float32),color = \"green\", where='mid',linewidth=3, alpha=0.7,label=\"$M_{xd,\\\\bar{xd}}$\") \n",
    "\n",
    "hist_M_JJ, bins_M_JJ = np.histogram(M_JJ, bins=bin_size, weights = weight_03_5[event_sele])\n",
    "plt.step(bins_M_JJ[:-1], hist_M_JJ.astype(np.float32), color = \"red\", where='mid',linewidth=3, alpha=0.7,label=\"$M^{truth}_{jj}$\") \n",
    "\n",
    "hist_M_JJ_detec, bins_M_JJ_detec = np.histogram(dijet_invariantmass, bins=bin_size, weights = weight_03_5[survived_list])\n",
    "plt.step(bins_M_JJ_detec[:-1], hist_M_JJ_detec.astype(np.float32), color = \"blue\", where='mid',linewidth=3, alpha=0.7,label=\"$M^{detector}_{jj}$\") \n",
    "\n",
    "\n",
    "plt.text(100, 0.17 , \"$\\mathcal{L}$ = 37 $\\mathrm{fb}^{-1}$\", fontsize=20)\n",
    "plt.text(100, 0.12, \"M(Z') = 1500 GeV\", fontsize=20)\n",
    "plt.text(100, 0.08, \"$\\sigma$($M_{xd,\\\\bar{xd}}$) = \" + str(np.round(np.sum(hist)[0],2)) + \" pb\", fontsize=20)\n",
    "plt.text(100, 0.05, \"$\\sigma$($M^{truth}_{jj}$ ) = \" + str(np.round(np.sum(hist_M_JJ)[0],2))+ \" pb\", fontsize=20)\n",
    "plt.text(100, 0.03, \"$\\sigma$($M^{detector}_{jj}$ ) = \" + str(np.round(np.sum(hist_M_JJ_detec)[0],2))+ \" pb\", fontsize=20)\n",
    "\n",
    "\n",
    "\n",
    "plt.legend(bbox_to_anchor=(0.75, 1),ncol=2,fontsize=20,frameon=False)\n",
    "# plt.legend(ncol=2,fontsize=25)# plot label tag\n",
    "plt.yscale('log') \n",
    "# plt.xscale('log') \n",
    "plt.xlabel(\"X [GeV]\" , fontsize=20, horizontalalignment='right',x=1)  # plot x-axis label\n",
    "plt.ylabel(\"d$\\sigma$/dX / 20 GeV \", fontsize=20, horizontalalignment='right',y=1)  # plot y-axis label\n",
    "plt.xticks(fontsize=20)   # set x-ticks size\n",
    "plt.yticks(fontsize=20)   # set y-ticks size \n",
    "plt.xlim((0,2000))\n",
    "plt.ylim((0.001,1))\n",
    "# plt.savefig(\"./invariant_mass_SVJ.pdf\")  #save figure as pdf\n",
    "plt.show()"
   ]
  },
  {
   "cell_type": "markdown",
   "metadata": {},
   "source": [
    "## Check the $r_{inv}$"
   ]
  },
  {
   "cell_type": "code",
   "execution_count": 50,
   "metadata": {},
   "outputs": [
    {
     "name": "stdout",
     "output_type": "stream",
     "text": [
      "There are 14860 events.\n",
      "There are Dark meson 29205  decay into invisible particle.\n",
      "There are Dark meson 67733  decay into visible particle.\n",
      "r_inv = 0.3013 \n",
      "There are 58410 stable Dark mesons.\n",
      "Average = 3.9307 \n"
     ]
    },
    {
     "data": {
      "text/plain": [
       "(0.3012750417792816, 3.930686406460296)"
      ]
     },
     "execution_count": 50,
     "metadata": {},
     "output_type": "execute_result"
    }
   ],
   "source": [
    "Check_r_inv(GenParticle_3_5)\n"
   ]
  },
  {
   "cell_type": "code",
   "execution_count": 13,
   "metadata": {},
   "outputs": [
    {
     "name": "stdout",
     "output_type": "stream",
     "text": [
      "lambda:  1.000   alpha: 0.152 \n",
      "lambda:  5.000   alpha: 0.198 \n",
      "lambda: 10.000   alpha: 0.227 \n",
      "lambda: 50.000   alpha: 0.350 \n",
      "lambda: 100.000  alpha: 0.455 \n",
      "lambda: 150.000  alpha: 0.552 \n",
      "lambda: 200.000  alpha: 0.651 \n",
      "lambda: 250.000  alpha: 0.755 \n",
      "lambda: 300.000  alpha: 0.870 \n",
      "lambda: 350.000  alpha: 0.997 \n"
     ]
    }
   ],
   "source": [
    "Lambda_d = [1,5,10,50,100,150,200,250,300,350]\n",
    "for i, lambda_d in enumerate(Lambda_d):\n",
    "    print(\"lambda: {:^7.3f}  alpha:{:^7.3f}\".format(Lambda_d[i],np.pi*2/((11./3.*2-2./3.*2)*np.log(1000./lambda_d))))\n"
   ]
  },
  {
   "cell_type": "code",
   "execution_count": null,
   "metadata": {},
   "outputs": [],
   "source": []
  }
 ],
 "metadata": {
  "kernelspec": {
   "display_name": "Python 3",
   "language": "python",
   "name": "python3"
  },
  "language_info": {
   "codemirror_mode": {
    "name": "ipython",
    "version": 3
   },
   "file_extension": ".py",
   "mimetype": "text/x-python",
   "name": "python",
   "nbconvert_exporter": "python",
   "pygments_lexer": "ipython3",
   "version": "3.6.8"
  }
 },
 "nbformat": 4,
 "nbformat_minor": 4
}
