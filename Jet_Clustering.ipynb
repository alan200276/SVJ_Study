{
 "cells": [
  {
   "cell_type": "markdown",
   "metadata": {},
   "source": [
    "# In this example, we will rely on `pyjet` for jet clustering.\n",
    "\n",
    "pyjet: https://github.com/scikit-hep/pyjet"
   ]
  },
  {
   "cell_type": "code",
   "execution_count": 114,
   "metadata": {},
   "outputs": [],
   "source": [
    "import uproot\n",
    "import pyjet\n",
    "import numpy as np\n",
    "import pandas as pd\n",
    "import math\n",
    "import matplotlib.pyplot as plt\n",
    "import numpy as np\n",
    "import sys, os\n",
    "import importlib\n",
    "import time\n",
    "\n",
    "import matplotlib.pyplot as plt\n",
    "from matplotlib.ticker import MaxNLocator\n",
    "from matplotlib.colors import ListedColormap, LinearSegmentedColormap, BoundaryNorm\n",
    "from matplotlib.collections import LineCollection\n",
    "from matplotlib import cm\n"
   ]
  },
  {
   "cell_type": "markdown",
   "metadata": {},
   "source": [
    "## Define the class to fill particle information in to NumpyArray \n",
    "\n",
    "### User can use \n",
    "```\n",
    "GenParticles = BrachGenParticles(file)\n",
    "PID_all = GenParticles.PID\n",
    "```\n",
    "### to get all GenParticles PID array\n",
    "### or\n",
    "```\n",
    "GenParticles = BrachGenParticles(file)\n",
    "PID = GenParticles.PID_At(i)\n",
    "```\n",
    "### to get the GenParticles PID array in the ith event"
   ]
  },
  {
   "cell_type": "code",
   "execution_count": 2,
   "metadata": {},
   "outputs": [],
   "source": [
    "class BrachGenParticles:\n",
    "    def __init__(self,file):\n",
    "        self.file = file\n",
    "        self.length = len(file[\"Particle.Status\"].array())\n",
    "        self.Status = file[\"Particle.Status\"].array()\n",
    "        self.PID = file[\"Particle.PID\"].array()\n",
    "        self.M1 = file[\"Particle.M1\"].array()\n",
    "        self.M2 = file[\"Particle.M2\"].array()\n",
    "        self.D1 = file[\"Particle.D1\"].array()\n",
    "        self.D2  = file[\"Particle.D2\"].array()\n",
    "        self.PT = file[\"Particle.PT\"].array()\n",
    "        self.Eta =  file[\"Particle.Eta\"].array()\n",
    "        self.Phi = file[\"Particle.Phi\"].array()\n",
    "        self.Mass = file[\"Particle.Mass\"].array()\n",
    "        self.Labels = [\"Status\", \"PID\" , \"M1\", \"M2\", \"D1\", \"D2\", \"PT\", \"Eta\", \"Phi\", \"Mass\"]\n",
    "        \n",
    "    def length_At(self, i):\n",
    "        return len(self.Status[i])\n",
    "    def Status_At(self, i):\n",
    "        return self.Status[i]\n",
    "    def PID_At(self, i):\n",
    "        return self.PID[i]\n",
    "    def M1_At(self, i):\n",
    "        return self.M1[i]\n",
    "    def M2_At(self, i):\n",
    "        return self.M2[i]\n",
    "    def D1_At(self, i):\n",
    "        return self.D1[i]\n",
    "    def D2_At(self, i):\n",
    "        return self.D2[i]\n",
    "    def PT_At(self, i):\n",
    "        return self.PT[i]\n",
    "    def Eta_At(self, i):\n",
    "        return self.Eta[i]\n",
    "    def Phi_At(self, i):\n",
    "        return self.Phi[i]\n",
    "    def Mass_At(self, i):\n",
    "        return self.Mass[i]\n",
    "    \n",
    "class BrachJet:\n",
    "    def __init__(self,file):\n",
    "        self.file = file\n",
    "        self.length = len(file[\"Jet.PT\"].array())\n",
    "        self.PT = file[\"Jet.PT\"].array()\n",
    "        self.Eta =  file[\"Jet.Eta\"].array()\n",
    "        self.Phi = file[\"Jet.Phi\"].array()\n",
    "        self.Mass = file[\"Jet.Mass\"].array()\n",
    "        \n",
    "    def PT_At(self, i):\n",
    "        return self.PT[i]\n",
    "    def Eta_At(self, i):\n",
    "        return self.Eta[i]\n",
    "    def Phi_At(self, i):\n",
    "        return self.Phi[i]\n",
    "    def Mass_At(self, i):\n",
    "        return self.Mass[i]\n",
    "    \n",
    "class Event_Weight:\n",
    "    def __init__(self,file):\n",
    "        self.file = file\n",
    "        self.length = len(file[\"Event.Weight\"].array())\n",
    "        self.Event_Weight = np.array(file[\"Event.Weight\"].array())\n",
    "        \n",
    "    def Event_Weight_At(self, i):\n",
    "        return self.Event_Weight[i]"
   ]
  },
  {
   "cell_type": "markdown",
   "metadata": {},
   "source": [
    "## Define Function for Invariant Mass, Transverse Mass\n",
    "\n",
    "### NOTE: the MT formula here is not compatible with MT in the collider physics, please modify this formula by yourself."
   ]
  },
  {
   "cell_type": "code",
   "execution_count": 3,
   "metadata": {},
   "outputs": [],
   "source": [
    "def M(pt1,eta1,phi1,m1,pt2,eta2,phi2,m2):\n",
    "    px1, py1, pz1 = pt1*np.cos(phi1), pt1*np.sin(phi1), np.sqrt(m1**2+pt1**2)*np.sinh(eta1)\n",
    "    e1 = np.sqrt(m1**2 + px1**2 + py1**2 + pz1**2)\n",
    "    px2, py2, pz2 = pt2*np.cos(phi2), pt2*np.sin(phi2), np.sqrt(m2**2+pt2**2)*np.sinh(eta2)\n",
    "    e2 = np.sqrt(m2**2 + px2**2 + py2**2 + pz2**2)\n",
    "    \n",
    "    return np.sqrt((e1+e2)**2-(px1+px2)**2-(py1+py2)**2-(pz1+pz2)**2)\n",
    "    \n",
    "def MT(pt1,eta1,phi1,m1,pt2,eta2,phi2,m2):\n",
    "    px1, py1, pz1 = pt1*np.cos(phi1), pt1*np.sin(phi1), np.sqrt(m1**2+pt1**2)*np.sinh(eta1)\n",
    "    e1 = np.sqrt(m1**2 + px1**2 + py1**2 + pz1**2)\n",
    "    px2, py2, pz2 = pt2*np.cos(phi2), pt2*np.sin(phi2), np.sqrt(m2**2+pt2**2)*np.sinh(eta2)\n",
    "    e2 = np.sqrt(m2**2 + px2**2 + py2**2 + pz2**2)\n",
    "    \n",
    "    ET1, ET2  = np.sqrt(m1**2 + pt1**2), np.sqrt(m2**2 + pt2**2)\n",
    "    MT = np.sqrt( (ET1+ET2)**2 - (px1+px2)**2 - (py1+py2)**2 )\n",
    "    return MT\n",
    "    \n",
    "    "
   ]
  },
  {
   "cell_type": "markdown",
   "metadata": {},
   "source": [
    "## Define Function for Check $r_{inv}$ and Preselection"
   ]
  },
  {
   "cell_type": "code",
   "execution_count": 135,
   "metadata": {},
   "outputs": [],
   "source": [
    "def Check_r_inv(GenParticle):\n",
    "    invis_count, vis_count = 0, 0\n",
    "    Ndark = 0\n",
    "    for i in range(GenParticle.length):\n",
    "        for j in range(len(GenParticle.Status_At(i))):\n",
    "            PID = GenParticle.PID_At(i)[j]\n",
    "            M1 = GenParticle.M1_At(i)[j]\n",
    "            M2 = GenParticle.M2_At(i)[j]\n",
    "            D1 = GenParticle.D1_At(i)[j]\n",
    "            D2 = GenParticle.D2_At(i)[j]\n",
    "            status = GenParticle.Status_At(i)[j]\n",
    "            \n",
    "            if (abs(PID) == 4900111) and (abs( GenParticle.PID_At(i)[D1]) != 4900111) and (abs( GenParticle.PID_At(i)[D2]) != 4900111):\n",
    "                if (abs(GenParticle.PID_At(i)[D1]) != 3) and (abs( GenParticle.PID_At(i)[D2]) != 3):\n",
    "                    invis_count += 1\n",
    "\n",
    "            if (abs(PID) == 4900111) and (abs( GenParticle.PID_At(i)[D1]) != 4900111) and (abs( GenParticle.PID_At(i)[D2]) != 4900111):\n",
    "                if (abs( GenParticle.PID_At(i)[D1]) == 3) or (abs( GenParticle.PID_At(i)[D2]) == 3):\n",
    "                    vis_count += 1\n",
    "\n",
    "            if (abs(PID) == 4900113) and (abs( GenParticle.PID_At(i)[D1]) != 4900113) and (abs( GenParticle.PID_At(i)[D2]) != 4900113):\n",
    "                if (abs( GenParticle.PID_At(i)[D1]) > 490000) or (abs( GenParticle.PID_At(i)[D2]) > 490000):\n",
    "                    invis_count += 1\n",
    "\n",
    "            if (abs(PID) == 4900113) and (abs( GenParticle.PID_At(i)[D1]) != 4900113) and (abs( GenParticle.PID_At(i)[D2]) != 4900113):\n",
    "                if (abs( GenParticle.PID_At(i)[D1]) < 6) or (abs( GenParticle.PID_At(i)[D2]) < 6):\n",
    "                    vis_count += 1\n",
    "\n",
    "            if (abs(PID) == 4900211) and (status == 1):\n",
    "                    Ndark += 1\n",
    "\n",
    "            if (abs(PID) == 4900213) and (status == 1):\n",
    "                    Ndark += 1\n",
    "    \n",
    "    print(\"There are {} events.\".format(len(GenParticle.Status)))\n",
    "    print(\"There are Dark meson {}  decay into invisible particle.\".format(invis_count))\n",
    "    print(\"There are Dark meson {}  decay into visible particle.\".format(vis_count))\n",
    "    print(\"r_inv = {:^4.4f} \".format(invis_count/(invis_count+vis_count)))\n",
    "    \n",
    "    print(\"There are {} stable Dark mesons.\".format(Ndark))\n",
    "    print(\"Average = {:^4.4f} \".format(Ndark/len(GenParticle.Status)))\n",
    "    \n",
    "    return invis_count/(invis_count+vis_count), Ndark/len(GenParticle.Status)\n",
    "\n",
    "\n",
    "\n",
    "def Find_xdxd(GenParticle):\n",
    "    m_xdxd = []\n",
    "    for i in range(GenParticle.length):\n",
    "        for j in range(len(GenParticle.Status_At(i))):\n",
    "            PID = GenParticle.PID_At(i)[j]\n",
    "            M1 = GenParticle.M1_At(i)[j]\n",
    "            M2 = GenParticle.M2_At(i)[j]\n",
    "            D1 = GenParticle.D1_At(i)[j]\n",
    "            D2 = GenParticle.D2_At(i)[j]\n",
    "            status = GenParticle.Status_At(i)[j]\n",
    "            \n",
    "            if PID == 4900101:\n",
    "                tmp_1_pt = GenParticle.PT_At(i)[j]\n",
    "                tmp_1_eta = GenParticle.Eta_At(i)[j]\n",
    "                tmp_1_phi = GenParticle.Phi_At(i)[j]\n",
    "                tmp_1_m = GenParticle.Mass_At(i)[j]\n",
    "#                 print(tmp_1_pt,tmp_1_eta,tmp_1_phi,tmp_1_m)\n",
    "                break\n",
    "                \n",
    "        for j in range(len(GenParticle.Status_At(i))):\n",
    "            PID = GenParticle.PID_At(i)[j]\n",
    "            M1 = GenParticle.M1_At(i)[j]\n",
    "            M2 = GenParticle.M2_At(i)[j]\n",
    "            D1 = GenParticle.D1_At(i)[j]\n",
    "            D2 = GenParticle.D2_At(i)[j]\n",
    "            status = GenParticle.Status_At(i)[j]\n",
    "            \n",
    "            \n",
    "            if PID == -4900101:\n",
    "                tmp_2_pt = GenParticle.PT_At(i)[j]\n",
    "                tmp_2_eta = GenParticle.Eta_At(i)[j]\n",
    "                tmp_2_phi = GenParticle.Phi_At(i)[j]\n",
    "                tmp_2_m = GenParticle.Mass_At(i)[j]\n",
    "#                 print(tmp_2_pt,tmp_2_eta,tmp_2_phi,tmp_2_m)\n",
    "                break\n",
    "                \n",
    "                \n",
    "        m_xdxd.append(M(tmp_1_pt,tmp_1_eta,tmp_1_phi,tmp_1_m,tmp_2_pt,tmp_2_eta,tmp_2_phi,tmp_2_m))\n",
    "        \n",
    "    return np.array(m_xdxd)\n",
    "\n",
    "    \n",
    "def Preselection(Jet):\n",
    "    twojet_invariantmass = []\n",
    "    survived_list = []\n",
    "    for i in range(Jet.length):\n",
    "        if len(Jet.PT_At(i)) < 2:\n",
    "            continue\n",
    "\n",
    "        if Jet.PT_At(i)[0] < 440 or Jet.PT_At(i)[1] < 60:\n",
    "            continue\n",
    "\n",
    "        if np.abs(Jet.Eta_At(i)[0]- Jet.Eta_At(i)[1]) > 1.2:\n",
    "            continue\n",
    "\n",
    "        twojet_invariantmass.append(M(Jet.PT_At(i)[0],Jet.Eta_At(i)[0],Jet.Phi_At(i)[0],Jet.Mass_At(i)[0],\n",
    "                                      Jet.PT_At(i)[1],Jet.Eta_At(i)[1],Jet.Phi_At(i)[1],Jet.Mass_At(i)[1]))\n",
    "\n",
    "        survived_list.append(i)\n",
    "\n",
    "    print(\"There are {} events.\".format(len(twojet_invariantmass)))\n",
    "    \n",
    "    return np.array(twojet_invariantmass), np.array(survived_list)"
   ]
  },
  {
   "cell_type": "markdown",
   "metadata": {},
   "source": [
    "## Import File"
   ]
  },
  {
   "cell_type": "code",
   "execution_count": 136,
   "metadata": {},
   "outputs": [],
   "source": [
    "path = \"/home/MG5_Study_Group/ROOT/author\"\n",
    "filepath_3_5 = path + \"/SVJ_3_5.root\"\n",
    "\n",
    "file_3_5 = uproot.open(filepath_3_5)[\"Delphes;1\"]\n"
   ]
  },
  {
   "cell_type": "markdown",
   "metadata": {},
   "source": [
    "#  Print the Branch in the Delphes"
   ]
  },
  {
   "cell_type": "code",
   "execution_count": 36,
   "metadata": {},
   "outputs": [],
   "source": [
    "# file_3_5.show()"
   ]
  },
  {
   "cell_type": "markdown",
   "metadata": {},
   "source": [
    "## Load event via class"
   ]
  },
  {
   "cell_type": "code",
   "execution_count": 137,
   "metadata": {},
   "outputs": [],
   "source": [
    "GenParticle_3_5, Jet_3_5, Event_Weight_3_5 = BrachGenParticles(file_3_5), BrachJet(file_3_5), Event_Weight(file_3_5) \n"
   ]
  },
  {
   "cell_type": "markdown",
   "metadata": {},
   "source": [
    "# Select Stable Final State Particles\n",
    "\n",
    "#### The `status` of stable final state particles in truth record is `1`.\n",
    "#### We will loop over each event to build a `event_list` for final state particles."
   ]
  },
  {
   "cell_type": "code",
   "execution_count": 173,
   "metadata": {},
   "outputs": [
    {
     "name": "stdout",
     "output_type": "stream",
     "text": [
      "Wed Aug 26 15:52:10 2020\n",
      "There are 14860 events in this event list.\n",
      "\u001b[3;33mTime Cost : 7.2843 min\u001b[0;m\n"
     ]
    }
   ],
   "source": [
    "print(time.strftime(\"%a %b %d %H:%M:%S %Y\", time.localtime()))\n",
    "ticks_1 = time.time()\n",
    "\n",
    "GenParticle = GenParticle_3_5\n",
    "\n",
    "event_list = []\n",
    "\n",
    "\n",
    "for N in range(GenParticle.length):\n",
    "    \n",
    "    event_list_tmp = []\n",
    "    \n",
    "    for j in range(GenParticle.length_At(N)):\n",
    "        \n",
    "        if GenParticle.Status_At(N)[j] == 1: #Stable Final State Particles\n",
    "            \n",
    "            event_list_tmp.append([GenParticle.PT_At(N)[j],  GenParticle.Eta_At(N)[j], GenParticle.Phi_At(N)[j], GenParticle.Mass_At(N)[j], GenParticle.PID_At(N)[j]])\n",
    "            \n",
    "    event_list_tmp = np.array(event_list_tmp)\n",
    "    event_list.append(event_list_tmp)\n",
    "\n",
    "#     if index == 1000:\n",
    "#         break\n",
    "\n",
    "\n",
    "print(\"There are {} events in this event list.\".format(len(event_list)))\n",
    "\n",
    "ticks_2 = time.time()\n",
    "totaltime =  ticks_2 - ticks_1\n",
    "print(\"\\033[3;33mTime Cost : {:.4f} min\\033[0;m\".format(totaltime/60.))"
   ]
  },
  {
   "cell_type": "markdown",
   "metadata": {},
   "source": [
    "# Let's do jet clustering!!\n",
    "### We use ` np.core.records.fromarrays` to assign the name of kinematic variables and PID\n",
    "### In `pyjet`, the data type are only \n",
    "`\n",
    "np.dtype([('pT', 'f8'), ('eta', 'f8'), ('phi', 'f8'), ('mass', 'f8')])\n",
    "`\n",
    "### or (cluster(..., ep=True))\n",
    "`\n",
    "np.dtype([('E', 'f8'), ('px', 'f8'), ('py', 'f8'), ('pz', 'f8')])  \n",
    "`\n",
    "### In this example, we use `(pt, eta, phi and mass)`.\n",
    "### After assigning the name for our each event list, the `pyjet.cluster` and `inclusive_jets` will help us do jet clustering.\n",
    "`\n",
    "sequence_cluster = pyjet.cluster(to_cluster, R = 0.4,p = -1)\n",
    "jets_cluster = sequence_cluster.inclusive_jets(pt_min)\n",
    "`\n",
    "#### Variable: `R` is the cone size of the jet.\n",
    "#### Variable: `p` is the jet clustering algorithm. `-1: anti-kt , 0: Cam/Aachen, 1: kt`\n",
    "#### Variable: `pt_min` is the minimum jet's pt.\n",
    "\n"
   ]
  },
  {
   "cell_type": "code",
   "execution_count": 174,
   "metadata": {},
   "outputs": [],
   "source": [
    "event_list_clustered = []\n",
    "for i in range(len(event_list)):\n",
    "    to_cluster = np.core.records.fromarrays(event_list[i].transpose(), \n",
    "                                                 names=\"pT, eta, phi, mass, PID\",\n",
    "                                                 formats = \"f8, f8, f8, f8, f8\")\n",
    "    pt_min = 20\n",
    "    sequence_cluster = pyjet.cluster(to_cluster, R = 0.4, p = -1) # p = -1: anti-kt , 0: Cam/Aachen, 1: kt\n",
    "    jets_cluster = sequence_cluster.inclusive_jets(pt_min)\n",
    "    event_list_clustered.append(jets_cluster)\n"
   ]
  },
  {
   "cell_type": "markdown",
   "metadata": {},
   "source": [
    "# Print jets in the Nth event"
   ]
  },
  {
   "cell_type": "code",
   "execution_count": 220,
   "metadata": {},
   "outputs": [
    {
     "name": "stdout",
     "output_type": "stream",
     "text": [
      "No.0 Jet's Information\n",
      "PseudoJet(pt=100.215, eta=3.042, phi=-1.013, mass=20.000)\n",
      "-------------------------------------------------------------------------\n",
      " Constituent's PID  Constituent's Four Momentum \n",
      "-------------------------------------------------------------------------\n",
      "        22          PseudoJet(pt=0.067, eta=-1.370, phi=2.311, mass=0.000) \n",
      "        22          PseudoJet(pt=0.690, eta=-1.168, phi=2.260, mass=-0.000) \n",
      "        211         PseudoJet(pt=0.342, eta=-1.201, phi=2.073, mass=0.140) \n",
      "        22          PseudoJet(pt=0.373, eta=-1.341, phi=1.819, mass=0.000) \n",
      "        22          PseudoJet(pt=0.442, eta=-1.184, phi=2.040, mass=-0.000) \n",
      "      4900213       PseudoJet(pt=10.417, eta=-1.640, phi=2.044, mass=9.990) \n",
      "     -4900213       PseudoJet(pt=10.666, eta=-1.590, phi=1.980, mass=9.990) \n",
      "-------------------------------------------------------------------------\n",
      "No.1 Jet's Information\n",
      "PseudoJet(pt=42.371, eta=-0.311, phi=1.928, mass=5.358)\n",
      "-------------------------------------------------------------------------\n",
      " Constituent's PID  Constituent's Four Momentum \n",
      "-------------------------------------------------------------------------\n",
      "        22          PseudoJet(pt=0.067, eta=-1.370, phi=2.311, mass=0.000) \n",
      "        22          PseudoJet(pt=0.690, eta=-1.168, phi=2.260, mass=-0.000) \n",
      "        211         PseudoJet(pt=0.342, eta=-1.201, phi=2.073, mass=0.140) \n",
      "        22          PseudoJet(pt=0.373, eta=-1.341, phi=1.819, mass=0.000) \n",
      "        22          PseudoJet(pt=0.442, eta=-1.184, phi=2.040, mass=-0.000) \n",
      "      4900213       PseudoJet(pt=10.417, eta=-1.640, phi=2.044, mass=9.990) \n",
      "     -4900213       PseudoJet(pt=10.666, eta=-1.590, phi=1.980, mass=9.990) \n",
      "-------------------------------------------------------------------------\n",
      "No.2 Jet's Information\n",
      "PseudoJet(pt=38.155, eta=-0.324, phi=2.391, mass=4.045)\n",
      "-------------------------------------------------------------------------\n",
      " Constituent's PID  Constituent's Four Momentum \n",
      "-------------------------------------------------------------------------\n",
      "        22          PseudoJet(pt=0.067, eta=-1.370, phi=2.311, mass=0.000) \n",
      "        22          PseudoJet(pt=0.690, eta=-1.168, phi=2.260, mass=-0.000) \n",
      "        211         PseudoJet(pt=0.342, eta=-1.201, phi=2.073, mass=0.140) \n",
      "        22          PseudoJet(pt=0.373, eta=-1.341, phi=1.819, mass=0.000) \n",
      "        22          PseudoJet(pt=0.442, eta=-1.184, phi=2.040, mass=-0.000) \n",
      "      4900213       PseudoJet(pt=10.417, eta=-1.640, phi=2.044, mass=9.990) \n",
      "     -4900213       PseudoJet(pt=10.666, eta=-1.590, phi=1.980, mass=9.990) \n",
      "-------------------------------------------------------------------------\n",
      "No.3 Jet's Information\n",
      "PseudoJet(pt=37.191, eta=-0.722, phi=1.645, mass=5.306)\n",
      "-------------------------------------------------------------------------\n",
      " Constituent's PID  Constituent's Four Momentum \n",
      "-------------------------------------------------------------------------\n",
      "        22          PseudoJet(pt=0.067, eta=-1.370, phi=2.311, mass=0.000) \n",
      "        22          PseudoJet(pt=0.690, eta=-1.168, phi=2.260, mass=-0.000) \n",
      "        211         PseudoJet(pt=0.342, eta=-1.201, phi=2.073, mass=0.140) \n",
      "        22          PseudoJet(pt=0.373, eta=-1.341, phi=1.819, mass=0.000) \n",
      "        22          PseudoJet(pt=0.442, eta=-1.184, phi=2.040, mass=-0.000) \n",
      "      4900213       PseudoJet(pt=10.417, eta=-1.640, phi=2.044, mass=9.990) \n",
      "     -4900213       PseudoJet(pt=10.666, eta=-1.590, phi=1.980, mass=9.990) \n",
      "-------------------------------------------------------------------------\n",
      "No.4 Jet's Information\n",
      "PseudoJet(pt=22.954, eta=-1.589, phi=2.018, mass=20.853)\n",
      "-------------------------------------------------------------------------\n",
      " Constituent's PID  Constituent's Four Momentum \n",
      "-------------------------------------------------------------------------\n",
      "        22          PseudoJet(pt=0.067, eta=-1.370, phi=2.311, mass=0.000) \n",
      "        22          PseudoJet(pt=0.690, eta=-1.168, phi=2.260, mass=-0.000) \n",
      "        211         PseudoJet(pt=0.342, eta=-1.201, phi=2.073, mass=0.140) \n",
      "        22          PseudoJet(pt=0.373, eta=-1.341, phi=1.819, mass=0.000) \n",
      "        22          PseudoJet(pt=0.442, eta=-1.184, phi=2.040, mass=-0.000) \n",
      "      4900213       PseudoJet(pt=10.417, eta=-1.640, phi=2.044, mass=9.990) \n",
      "     -4900213       PseudoJet(pt=10.666, eta=-1.590, phi=1.980, mass=9.990) \n",
      "-------------------------------------------------------------------------\n"
     ]
    }
   ],
   "source": [
    "N = 0\n",
    "\n",
    "for i, jet in enumerate(event_list_clustered[N]):\n",
    "    print(\"{}\".format(\"No.\" +str(i)+\" Jet's Information\"))\n",
    "    print(jet)\n",
    "    print(\"-------------------------------------------------------------------------\")\n",
    "    print(\"{:^19} {:^20} \".format(\"Constituent's PID\",\"Constituent's Four Momentum\"))\n",
    "    print(\"-------------------------------------------------------------------------\")\n",
    "    \n",
    "    for constituent in jet_element: # get constituent in each \"jet_element\"\n",
    "        print(\"{:^19} {} \".format(int(constituent.PID), constituent))\n",
    "    print(\"-------------------------------------------------------------------------\")"
   ]
  },
  {
   "cell_type": "markdown",
   "metadata": {},
   "source": [
    "# Print the Truth Record in an Event"
   ]
  },
  {
   "cell_type": "code",
   "execution_count": null,
   "metadata": {},
   "outputs": [],
   "source": [
    "GenParticle = GenParticle_3_5\n",
    "# GenParticle = GenParticle_ppzjj\n",
    "print(\"There are {} information in this event.\".format(len(GenParticle.Status[0])))\n",
    "print(\"GenParticle Information\")\n",
    "print(\"{:^5}{:^7}{:^7}{:^7}{:^7}{:^7}{:^7}{:^8}{:^8}{:^8}{:^8}\".format(\"#\",\"Status\",\"PID\", \"M1\", \"M2\", \"D1\", \"D2\", \"PT\", \"Eta\",\"Phi\", \"Mass\"))\n",
    "\n",
    "index = 0 ## which event you want to print out\n",
    "\n",
    "for j in range(len(GenParticle.Status_At(index))):\n",
    "    \n",
    "#     if GenParticle.Status_At(index)[j] == 1: ##Selet the Stable Final State Particles\n",
    "\n",
    "        print(\"{:^5}{:^7}{:^7}{:^7}{:^7}{:^7}{:^7}{:^8.5}{:^8.5}{:^8.5}{:^8.5}\".format( \\\n",
    "        j, GenParticle.Status_At(index)[j],  GenParticle.PID_At(index)[j], GenParticle.M1_At(index)[j], GenParticle.M2_At(index)[j],\n",
    "         GenParticle.D1_At(index)[j], GenParticle.D2_At(index)[j],  GenParticle.PT_At(index)[j],  GenParticle.Eta_At(index)[j], GenParticle.Phi_At(index)[j], GenParticle.Mass_At(index)[j]))\n",
    "\n"
   ]
  },
  {
   "cell_type": "markdown",
   "metadata": {},
   "source": [
    "## Findin the first two Xd(`4900101`) and $\\bar{\\mathrm{Xd}}$(`-4900101`) in the truth record table for invariant mass calculation."
   ]
  },
  {
   "cell_type": "code",
   "execution_count": 158,
   "metadata": {},
   "outputs": [],
   "source": [
    "m_dxdx = Find_xdxd(GenParticle_3_5)"
   ]
  },
  {
   "cell_type": "markdown",
   "metadata": {},
   "source": [
    "## Calculate the number of event for event weight \n",
    "## Luminosity $\\mathcal{L}$  = 37 $fb^{-1}$"
   ]
  },
  {
   "cell_type": "code",
   "execution_count": 155,
   "metadata": {},
   "outputs": [],
   "source": [
    "weight_03_5 = Event_Weight_3_5.Event_Weight/20000"
   ]
  },
  {
   "cell_type": "markdown",
   "metadata": {},
   "source": [
    "# Di-Jet Events' Selection\n",
    "## We want to compare the inavriant mass distribution between two reconstructed jets and two dark quarks."
   ]
  },
  {
   "cell_type": "code",
   "execution_count": 201,
   "metadata": {},
   "outputs": [
    {
     "name": "stdout",
     "output_type": "stream",
     "text": [
      "There are 14680 events passed this di-jet selection.\n"
     ]
    }
   ],
   "source": [
    "M_JJ = []\n",
    "event_sele = []\n",
    "for N in range(len(event_list_clustered)):\n",
    "    \n",
    "    if len(event_list_clustered[N]) >= 2: # at least two jets in this event.\n",
    "        jet_1 = event_list_clustered[N][0] #leading jet's information\n",
    "        jet_2 = event_list_clustered[N][1] #subleading jet's information\n",
    "        \n",
    "        M_JJ.append( M(jet_1.pt,jet_1.eta,jet_1.phi,jet_1.mass,jet_2.pt,jet_2.eta,jet_2.phi,jet_2.mass))\n",
    "        event_sele.append(N)\n",
    "        \n",
    "print(\"There are {} events passed this di-jet selection.\".format(len(M_JJ)))"
   ]
  },
  {
   "cell_type": "markdown",
   "metadata": {},
   "source": [
    "## Example 1: Plot in differential number of event"
   ]
  },
  {
   "cell_type": "code",
   "execution_count": 216,
   "metadata": {},
   "outputs": [
    {
     "name": "stdout",
     "output_type": "stream",
     "text": [
      "total events: 14860 \n"
     ]
    },
    {
     "data": {
      "image/png": "[encoded data removed]",
      "text/plain": [
       "<Figure size 576x576 with 1 Axes>"
      ]
     },
     "metadata": {
      "needs_background": "light"
     },
     "output_type": "display_data"
    }
   ],
   "source": [
    "plt.figure(figsize=(8,8)) # plotsize\n",
    "\n",
    "print(\"total events: {} \".format(len(m_dxdx)))\n",
    "\n",
    "bin_size = np.linspace(0,5000,251)\n",
    "\n",
    "hist, bins = np.histogram(m_dxdx, bins=bin_size, weights = weight_03_5*37*1000)\n",
    "plt.step(bins[:-1], hist.astype(np.float32),color = \"green\", where='mid',linewidth=3, alpha=0.7,label=\"$M_{xd,\\\\bar{xd}}$\") \n",
    "\n",
    "hist_M_JJ, bins_M_JJ = np.histogram(M_JJ, bins=bin_size, weights = weight_03_5[event_sele]*37*1000)\n",
    "plt.step(bins_M_JJ[:-1], hist_M_JJ.astype(np.float32), color = \"red\", where='mid',linewidth=3, alpha=0.7,label=\"$M_{jj}$\") \n",
    "\n",
    "\n",
    "\n",
    "plt.text(180, 1100, \"$\\mathcal{L}$ = 37 $\\mathrm{fb}^{-1}$\", fontsize=20)\n",
    "plt.text(180, 680, \"M(Z') = 1500 GeV\", fontsize=20)\n",
    "plt.text(180, 420, \"N($M_{xd,\\\\bar{xd}}$) = \" + str(np.round(np.sum(hist.astype(np.float32)),2)), fontsize=20)\n",
    "plt.text(180, 290, \"N($M_{jj}$) = \" + str(np.round(np.sum(hist_M_JJ.astype(np.float32)),2)), fontsize=20)\n",
    "\n",
    "plt.legend(bbox_to_anchor=(0.68, 1),ncol=2,fontsize=20,frameon=False)\n",
    "# plt.legend(ncol=2,fontsize=25)# plot label tag\n",
    "plt.yscale('log') \n",
    "# plt.xscale('log') \n",
    "plt.xlabel(\"X [GeV]\" , fontsize=20, horizontalalignment='right',x=1)  # plot x-axis label\n",
    "plt.ylabel(\"dN/dX  / 20 GeV \", fontsize=20, horizontalalignment='right',y=1)  # plot y-axis label\n",
    "plt.xticks(fontsize=20)   # set x-ticks size\n",
    "plt.yticks(fontsize=20)   # set y-ticks size \n",
    "plt.xlim((0,2000))\n",
    "plt.ylim((10,3000))\n",
    "# plt.savefig(\"./invariant_mass_SVJ.png\")  #save figure as png\n",
    "plt.show()"
   ]
  },
  {
   "cell_type": "markdown",
   "metadata": {},
   "source": [
    "## Example 2: Plot in normalized to one"
   ]
  },
  {
   "cell_type": "code",
   "execution_count": 217,
   "metadata": {},
   "outputs": [
    {
     "name": "stdout",
     "output_type": "stream",
     "text": [
      "total events: 14860 \n"
     ]
    },
    {
     "data": {
      "image/png": "[encoded data removed]",
      "text/plain": [
       "<Figure size 576x576 with 1 Axes>"
      ]
     },
     "metadata": {
      "needs_background": "light"
     },
     "output_type": "display_data"
    }
   ],
   "source": [
    "plt.figure(figsize=(8,8)) # plotsize\n",
    "\n",
    "print(\"total events: {} \".format(len(m_dxdx)))\n",
    "\n",
    "bin_size = np.linspace(0,5000,251)\n",
    "\n",
    "hist, bins = np.histogram(m_dxdx, bins=bin_size, weights = weight_03_5)\n",
    "plt.step(bins[:-1], hist.astype(np.float32)/np.sum(hist),color = \"green\", where='mid',linewidth=3, alpha=0.7,label=\"$M_{xd,\\\\bar{xd}}$\") \n",
    "\n",
    "\n",
    "hist_M_JJ, bins_M_JJ = np.histogram(M_JJ, bins=bin_size, weights = weight_03_5[event_sele]*37*1000)\n",
    "plt.step(bins_M_JJ[:-1], hist_M_JJ.astype(np.float32)/np.sum(hist_M_JJ), color = \"red\", where='mid',linewidth=3, alpha=0.7,label=\"$M_{jj}$\") \n",
    "\n",
    "\n",
    "\n",
    "plt.text(200, 0.04, \"$\\mathcal{L}$ = 37 $\\mathrm{fb}^{-1}$\", fontsize=20)\n",
    "plt.text(200, 0.03, \"M(Z') = 1500 GeV\", fontsize=20)\n",
    "plt.text(200, 0.022, \"$M_{xd,\\\\bar{xd}}$ area = \" + str(np.round(np.sum(hist.astype(np.float32)/np.sum(hist)),2)), fontsize=20)\n",
    "plt.text(200, 0.016, \"$M_{jj}$ area = \" + str(np.round(np.sum(hist_M_JJ.astype(np.float32))/np.sum(hist_M_JJ),2)[0]), fontsize=20)\n",
    "\n",
    "\n",
    "\n",
    "\n",
    "plt.legend(bbox_to_anchor=(0.65, 1),ncol=2,fontsize=20,frameon=False)\n",
    "# plt.legend(ncol=2,fontsize=25)# plot label tag\n",
    "plt.yscale('log') \n",
    "# plt.xscale('log') \n",
    "plt.xlabel(\"X [GeV]\" , fontsize=20, horizontalalignment='right',x=1)  # plot x-axis label\n",
    "plt.ylabel(\"1/N dN/dX / 20 GeV \", fontsize=20, horizontalalignment='right',y=1)  # plot y-axis label\n",
    "plt.xticks(fontsize=20)   # set x-ticks size\n",
    "plt.yticks(fontsize=20)   # set y-ticks size \n",
    "plt.xlim((0,2000))\n",
    "plt.ylim((0.001,0.1))\n",
    "# plt.savefig(\"./invariant_mass_SVJ.pdf\")  #save figure as pdf\n",
    "plt.show()"
   ]
  },
  {
   "cell_type": "markdown",
   "metadata": {},
   "source": [
    "## Example 3: Plot in differential cross section\n",
    "### Please check that the area under the curve is total cross section.\n",
    " "
   ]
  },
  {
   "cell_type": "code",
   "execution_count": 219,
   "metadata": {},
   "outputs": [
    {
     "name": "stdout",
     "output_type": "stream",
     "text": [
      "total events: 14860 \n"
     ]
    },
    {
     "data": {
      "image/png": "[encoded data removed]",
      "text/plain": [
       "<Figure size 576x576 with 1 Axes>"
      ]
     },
     "metadata": {
      "needs_background": "light"
     },
     "output_type": "display_data"
    }
   ],
   "source": [
    "plt.figure(figsize=(8,8)) # plotsize\n",
    "\n",
    "print(\"total events: {} \".format(len(m_dxdx)))\n",
    "\n",
    "bin_size = np.linspace(0,5000,251)\n",
    "\n",
    "hist, bins = np.histogram(m_dxdx, bins=bin_size, weights = weight_03_5)\n",
    "plt.step(bins[:-1], hist.astype(np.float32),color = \"green\", where='mid',linewidth=3, alpha=0.7,label=\"$M_{xd,\\\\bar{xd}}$\") \n",
    "\n",
    "hist_M_JJ, bins_M_JJ = np.histogram(M_JJ, bins=bin_size, weights = weight_03_5[event_sele])\n",
    "plt.step(bins_M_JJ[:-1], hist_M_JJ.astype(np.float32), color = \"red\", where='mid',linewidth=3, alpha=0.7,label=\"$M_{jj}$\") \n",
    "\n",
    "\n",
    "\n",
    "plt.text(200, 0.04, \"$\\mathcal{L}$ = 37 $\\mathrm{fb}^{-1}$\", fontsize=20)\n",
    "plt.text(200, 0.03, \"M(Z') = 1500 GeV\", fontsize=20)\n",
    "plt.text(200, 0.022, \"$\\sigma$($M_{xd,\\\\bar{xd}}$) = \" + str(np.round(np.sum(hist)[0],2)) + \" pb\", fontsize=20)\n",
    "plt.text(200, 0.016, \"$\\sigma$($M_{jj}$ ) = \" + str(np.round(np.sum(hist_M_JJ)[0],2))+ \" pb\", fontsize=20)\n",
    "\n",
    "\n",
    "\n",
    "\n",
    "\n",
    "plt.legend(bbox_to_anchor=(0.65, 1),ncol=2,fontsize=20,frameon=False)\n",
    "# plt.legend(ncol=2,fontsize=25)# plot label tag\n",
    "plt.yscale('log') \n",
    "# plt.xscale('log') \n",
    "plt.xlabel(\"X [GeV]\" , fontsize=20, horizontalalignment='right',x=1)  # plot x-axis label\n",
    "plt.ylabel(\"d$\\sigma$/dX / 20 GeV \", fontsize=20, horizontalalignment='right',y=1)  # plot y-axis label\n",
    "plt.xticks(fontsize=20)   # set x-ticks size\n",
    "plt.yticks(fontsize=20)   # set y-ticks size \n",
    "plt.xlim((0,2000))\n",
    "plt.ylim((0.001,0.1))\n",
    "# plt.savefig(\"./invariant_mass_SVJ.pdf\")  #save figure as pdf\n",
    "plt.show()"
   ]
  },
  {
   "cell_type": "markdown",
   "metadata": {},
   "source": [
    "## Check the $r_{inv}$"
   ]
  },
  {
   "cell_type": "code",
   "execution_count": 50,
   "metadata": {},
   "outputs": [
    {
     "name": "stdout",
     "output_type": "stream",
     "text": [
      "There are 14860 events.\n",
      "There are Dark meson 29205  decay into invisible particle.\n",
      "There are Dark meson 67733  decay into visible particle.\n",
      "r_inv = 0.3013 \n",
      "There are 58410 stable Dark mesons.\n",
      "Average = 3.9307 \n"
     ]
    },
    {
     "data": {
      "text/plain": [
       "(0.3012750417792816, 3.930686406460296)"
      ]
     },
     "execution_count": 50,
     "metadata": {},
     "output_type": "execute_result"
    }
   ],
   "source": [
    "Check_r_inv(GenParticle_3_5)\n"
   ]
  },
  {
   "cell_type": "code",
   "execution_count": 13,
   "metadata": {},
   "outputs": [
    {
     "name": "stdout",
     "output_type": "stream",
     "text": [
      "lambda:  1.000   alpha: 0.152 \n",
      "lambda:  5.000   alpha: 0.198 \n",
      "lambda: 10.000   alpha: 0.227 \n",
      "lambda: 50.000   alpha: 0.350 \n",
      "lambda: 100.000  alpha: 0.455 \n",
      "lambda: 150.000  alpha: 0.552 \n",
      "lambda: 200.000  alpha: 0.651 \n",
      "lambda: 250.000  alpha: 0.755 \n",
      "lambda: 300.000  alpha: 0.870 \n",
      "lambda: 350.000  alpha: 0.997 \n"
     ]
    }
   ],
   "source": [
    "Lambda_d = [1,5,10,50,100,150,200,250,300,350]\n",
    "for i, lambda_d in enumerate(Lambda_d):\n",
    "    print(\"lambda: {:^7.3f}  alpha:{:^7.3f}\".format(Lambda_d[i],np.pi*2/((11./3.*2-2./3.*2)*np.log(1000./lambda_d))))\n"
   ]
  },
  {
   "cell_type": "code",
   "execution_count": null,
   "metadata": {},
   "outputs": [],
   "source": []
  }
 ],
 "metadata": {
  "kernelspec": {
   "display_name": "Python 3",
   "language": "python",
   "name": "python3"
  },
  "language_info": {
   "codemirror_mode": {
    "name": "ipython",
    "version": 3
   },
   "file_extension": ".py",
   "mimetype": "text/x-python",
   "name": "python",
   "nbconvert_exporter": "python",
   "pygments_lexer": "ipython3",
   "version": "3.6.8"
  }
 },
 "nbformat": 4,
 "nbformat_minor": 4
}
