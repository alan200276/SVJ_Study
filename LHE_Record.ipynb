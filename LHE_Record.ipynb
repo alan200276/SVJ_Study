{
 "cells": [
  {
   "cell_type": "markdown",
   "metadata": {},
   "source": [
    "## Import Packages"
   ]
  },
  {
   "cell_type": "code",
   "execution_count": 1,
   "metadata": {},
   "outputs": [],
   "source": [
    "# import ROOT \n",
    "import pylhe\n",
    "import math\n",
    "import matplotlib.pyplot as plt\n",
    "import numpy as np"
   ]
  },
  {
   "cell_type": "markdown",
   "metadata": {},
   "source": [
    "## Define Mass Function"
   ]
  },
  {
   "cell_type": "code",
   "execution_count": 50,
   "metadata": {},
   "outputs": [],
   "source": [
    "def invariant_mass(p1,p2):\n",
    "    return math.sqrt(sum((1 if index=='e' else -1)*(getattr(p1,index)+getattr(p2,index))**2 for index in ['e','px','py','pz']))\n",
    "\n",
    "def invariant_mass_one(p1):\n",
    "    return math.sqrt(sum((1 if index=='e' else -1)*(getattr(p1,index))**2 for index in ['e','px','py','pz']))\n",
    "\n",
    "def transvers_mass(p1,p2):\n",
    "#     return math.sqrt(sum((1 if index=='e' else -1)*(getattr(p1,index))**2 for index in ['e','pz']))\n",
    "    return math.sqrt(sum((1 if index=='e' else -1)*(getattr(p1,index)+getattr(p2,index))**2 for index in ['e','pz']))"
   ]
  },
  {
   "cell_type": "markdown",
   "metadata": {},
   "source": [
    "## Create a Event List and Mass List"
   ]
  },
  {
   "cell_type": "code",
   "execution_count": 5,
   "metadata": {},
   "outputs": [],
   "source": [
    "process_path_MZ_1500 = '/home/Storage/MG5_Study_Group/sig_schannel_wz_auto/Events/run_01/unweighted_events.lhe' \n",
    "\n",
    "sig_schannel_MZ_1500 = pylhe.readLHE(process_path_MZ_1500)\n",
    "\n",
    "m, mT, event_list = [], [], []\n",
    "\n",
    "\n",
    "\n",
    "for event in sig_schannel_MZ_1500:\n",
    "    m.append(invariant_mass(event.particles[-1],event.particles[-2]))\n",
    "    mT.append(transvers_mass(event.particles[-1],event.particles[-2]))\n",
    "    event_list.append(event)\n",
    "    \n",
    "m, mT = np.array(m), np.array(mT)\n"
   ]
  },
  {
   "cell_type": "markdown",
   "metadata": {},
   "source": [
    "generate p p > t t~ QED=0, (t > W+ b, W+ > j j), (t~ > w- b~, w- > j j )"
   ]
  },
  {
   "cell_type": "code",
   "execution_count": 85,
   "metadata": {},
   "outputs": [
    {
     "name": "stdout",
     "output_type": "stream",
     "text": [
      "total events: 1000 \n"
     ]
    }
   ],
   "source": [
    "ttbar = '/home/Storage/MG5_Study_Group/pptt/Events/run_01/unweighted_events.lhe' \n",
    "\n",
    "ttbar = pylhe.readLHE(ttbar)\n",
    "\n",
    "nm, pm, mT, event_list = [], [], [], []\n",
    "ntm, ptm = [], []\n",
    "nW , pW, nB, pB, pT, nT = 0,0,0,0,0,0\n",
    "\n",
    "\n",
    "\n",
    "for event in ttbar:\n",
    "    for i in range(len(event.particles)):\n",
    "        \n",
    "        if event.particles[i].id == -24:\n",
    "            nW = i\n",
    "            \n",
    "        elif event.particles[i].id == -5:\n",
    "            nB = i   \n",
    "            \n",
    "        elif event.particles[i].id == 24:\n",
    "            pW = i\n",
    "            \n",
    "        elif event.particles[i].id == 5:\n",
    "            pB = i   \n",
    "            \n",
    "        elif event.particles[i].id == 6:\n",
    "            pT = i \n",
    "        \n",
    "        elif event.particles[i].id == -6:\n",
    "            nT = i \n",
    "            \n",
    "    nm.append(invariant_mass(event.particles[nW],event.particles[nB]))\n",
    "    pm.append(invariant_mass(event.particles[pW],event.particles[pB]))\n",
    "    ptm.append(invariant_mass_one(event.particles[pT]))\n",
    "    ntm.append(invariant_mass_one(event.particles[nT]))\n",
    "    mT.append(transvers_mass(event.particles[nW],event.particles[nB]))\n",
    "        \n",
    "    event_list.append(event)\n",
    "    \n",
    "mn, pm = np.array(nm), np.array(pm)\n",
    "ptm, ntm = np.array(ptm), np.array(ntm)\n",
    "mT = np.array(mT)\n",
    "\n",
    "print(\"total events: {} \".format(len(event_list)))"
   ]
  },
  {
   "cell_type": "markdown",
   "metadata": {},
   "source": [
    "## Check variables stored in particle"
   ]
  },
  {
   "cell_type": "code",
   "execution_count": 28,
   "metadata": {},
   "outputs": [
    {
     "data": {
      "text/plain": [
       "['__class__',\n",
       " '__delattr__',\n",
       " '__dict__',\n",
       " '__dir__',\n",
       " '__doc__',\n",
       " '__eq__',\n",
       " '__format__',\n",
       " '__ge__',\n",
       " '__getattribute__',\n",
       " '__gt__',\n",
       " '__hash__',\n",
       " '__init__',\n",
       " '__init_subclass__',\n",
       " '__le__',\n",
       " '__lt__',\n",
       " '__module__',\n",
       " '__ne__',\n",
       " '__new__',\n",
       " '__reduce__',\n",
       " '__reduce_ex__',\n",
       " '__repr__',\n",
       " '__setattr__',\n",
       " '__sizeof__',\n",
       " '__str__',\n",
       " '__subclasshook__',\n",
       " '__weakref__',\n",
       " 'color1',\n",
       " 'color2',\n",
       " 'e',\n",
       " 'event',\n",
       " 'fieldnames',\n",
       " 'fromstring',\n",
       " 'id',\n",
       " 'lifetime',\n",
       " 'm',\n",
       " 'mother1',\n",
       " 'mother2',\n",
       " 'mothers',\n",
       " 'px',\n",
       " 'py',\n",
       " 'pz',\n",
       " 'spin',\n",
       " 'status']"
      ]
     },
     "execution_count": 28,
     "metadata": {},
     "output_type": "execute_result"
    }
   ],
   "source": [
    "dir(event_list[0].particles[0]) "
   ]
  },
  {
   "cell_type": "markdown",
   "metadata": {},
   "source": [
    "## Print Information for First Event"
   ]
  },
  {
   "cell_type": "code",
   "execution_count": 86,
   "metadata": {},
   "outputs": [
    {
     "name": "stdout",
     "output_type": "stream",
     "text": [
      "     #         id      mother1     mother2        e           px          py          pz        status   \n",
      "     0         21         0           0        743.734      0.000       0.000      743.734        -1     \n",
      "     1         21         0           0        127.589      -0.000      -0.000     -127.589       -1     \n",
      "     2          6         1           2        199.922      96.493      1.091      -25.320        2      \n",
      "     3         24         3           3        106.465      23.139      58.468     -19.054        2      \n",
      "     4         -6         1           2        671.400     -96.493      -1.091     641.466        2      \n",
      "     5         -24        5           5        457.799     -68.920      65.746     440.528        2      \n",
      "     6          4         4           4         43.236      33.896      12.960      23.504        1      \n",
      "     7         -3         4           4         63.229     -10.757      45.508     -42.558        1      \n",
      "     8          5         3           3         93.457      73.354     -57.377      -6.266        1      \n",
      "     9          1         6           6        301.547     -11.625      60.093     295.270        1      \n",
      "     10        -2         6           6        156.252     -57.295      5.653      145.258        1      \n",
      "     11        -5         5           5        213.601     -27.573     -66.837     200.937        1      \n"
     ]
    }
   ],
   "source": [
    "print(\"{:^12}{:^9}{:^12}{:^12}{:^12}{:^12}{:^12}{:^12}{:^12}\".format(\"#\",\"id\",\"mother1\",\"mother2\",\"e\",\"px\",\"py\",\"pz\",\"status\"))\n",
    "\n",
    "for i, element in  enumerate(event_list[8].particles):\n",
    "    print(\"{:^12}{:^9.0f}{:^12.0f}{:^12.0f}{:^12.3f}{:^12.3f}{:^12.3f}{:^12.3f}{:^12.0f}\".format(i, element.id,element.mother1,element.mother2,element.e,element.px,element.py,element.pz,element.status))\n",
    "\n",
    "\n"
   ]
  },
  {
   "cell_type": "code",
   "execution_count": 87,
   "metadata": {},
   "outputs": [
    {
     "data": {
      "text/plain": [
       "[<pylhe.LHEEvent at 0x7f9026fb1080>,\n",
       " <pylhe.LHEEvent at 0x7f9026fb1080>,\n",
       " <pylhe.LHEEvent at 0x7f9026fb1080>,\n",
       " <pylhe.LHEEvent at 0x7f9026fb1080>,\n",
       " <pylhe.LHEEvent at 0x7f9026fb1080>,\n",
       " <pylhe.LHEEvent at 0x7f9026fb1080>,\n",
       " <pylhe.LHEEvent at 0x7f9026fb1080>,\n",
       " <pylhe.LHEEvent at 0x7f9026fb1080>,\n",
       " <pylhe.LHEEvent at 0x7f9026fb1080>,\n",
       " <pylhe.LHEEvent at 0x7f9026fb1080>,\n",
       " <pylhe.LHEEvent at 0x7f9026fb1080>,\n",
       " <pylhe.LHEEvent at 0x7f9026fb1080>]"
      ]
     },
     "execution_count": 87,
     "metadata": {},
     "output_type": "execute_result"
    }
   ],
   "source": [
    "[i.event for i in event_list[0].particles]"
   ]
  },
  {
   "cell_type": "code",
   "execution_count": 88,
   "metadata": {},
   "outputs": [
    {
     "data": {
      "text/plain": [
       "[-1.0, -1.0, 2.0, 2.0, 2.0, 2.0, 1.0, 1.0, 1.0, 1.0, 1.0, 1.0]"
      ]
     },
     "execution_count": 88,
     "metadata": {},
     "output_type": "execute_result"
    }
   ],
   "source": [
    "[i.status for i in event_list[0].particles] #particle status for first event (Parton level)"
   ]
  },
  {
   "cell_type": "code",
   "execution_count": 89,
   "metadata": {},
   "outputs": [
    {
     "data": {
      "text/plain": [
       "[<bound method LHEParticle.mothers of <pylhe.LHEParticle object at 0x7f9029a44e80>>,\n",
       " <bound method LHEParticle.mothers of <pylhe.LHEParticle object at 0x7f9029a44e48>>,\n",
       " <bound method LHEParticle.mothers of <pylhe.LHEParticle object at 0x7f9029a44f98>>,\n",
       " <bound method LHEParticle.mothers of <pylhe.LHEParticle object at 0x7f9029a44f60>>,\n",
       " <bound method LHEParticle.mothers of <pylhe.LHEParticle object at 0x7f9029a44fd0>>,\n",
       " <bound method LHEParticle.mothers of <pylhe.LHEParticle object at 0x7f9029a44e10>>,\n",
       " <bound method LHEParticle.mothers of <pylhe.LHEParticle object at 0x7f9029a44dd8>>,\n",
       " <bound method LHEParticle.mothers of <pylhe.LHEParticle object at 0x7f9029a44d68>>,\n",
       " <bound method LHEParticle.mothers of <pylhe.LHEParticle object at 0x7f9029a44eb8>>,\n",
       " <bound method LHEParticle.mothers of <pylhe.LHEParticle object at 0x7f9029a44d30>>,\n",
       " <bound method LHEParticle.mothers of <pylhe.LHEParticle object at 0x7f9029a44cc0>>,\n",
       " <bound method LHEParticle.mothers of <pylhe.LHEParticle object at 0x7f9029a44c88>>]"
      ]
     },
     "execution_count": 89,
     "metadata": {},
     "output_type": "execute_result"
    }
   ],
   "source": [
    "[i.mothers for i in event_list[0].particles] #particle id for first event (Parton level)"
   ]
  },
  {
   "cell_type": "markdown",
   "metadata": {},
   "source": [
    "## Make a Plot for $M_{xd, \\bar{xd}}$"
   ]
  },
  {
   "cell_type": "code",
   "execution_count": 90,
   "metadata": {},
   "outputs": [
    {
     "name": "stdout",
     "output_type": "stream",
     "text": [
      "total events: 1000 \n"
     ]
    },
    {
     "data": {
      "image/png": "[encoded data removed]",
      "text/plain": [
       "<Figure size 576x576 with 1 Axes>"
      ]
     },
     "metadata": {
      "needs_background": "light"
     },
     "output_type": "display_data"
    }
   ],
   "source": [
    "plt.figure(figsize=(8,8)) # plotsize\n",
    "\n",
    "print(\"total events: {} \".format(len(pm)))\n",
    "\n",
    "bin_size = np.linspace(100,250,76)\n",
    "hist, bins = np.histogram(pm, bins=bin_size)\n",
    "plt.step(bins[:-1], hist.astype(np.float32)/2,color = \"green\", where='mid',linewidth=2, alpha=0.7,label=\"$M_{W^+,b}$\") \n",
    "\n",
    "plt.legend(bbox_to_anchor=(1, 1),ncol=2,fontsize=20) # plot label tag\n",
    "plt.yscale('log') \n",
    "plt.xlabel(\"$M_{W^+,b}$ [GeV]\" , fontsize=20, horizontalalignment='right',x=1)  # plot x-axis label\n",
    "plt.ylabel(\"dN/d$M_{W^+,b}$\", fontsize=20, horizontalalignment='right',y=1)  # plot y-axis label\n",
    "plt.xticks(fontsize=15)   # set x-ticks size\n",
    "plt.yticks(fontsize=15)   # set y-ticks size \n",
    "# plt.savefig(\"./invariant_mass_SVJ.png\")  #save figure as png\n",
    "plt.show()"
   ]
  },
  {
   "cell_type": "code",
   "execution_count": 91,
   "metadata": {},
   "outputs": [
    {
     "name": "stdout",
     "output_type": "stream",
     "text": [
      "total events: 1000 \n"
     ]
    },
    {
     "data": {
      "image/png": "[encoded data removed]",
      "text/plain": [
       "<Figure size 576x576 with 1 Axes>"
      ]
     },
     "metadata": {
      "needs_background": "light"
     },
     "output_type": "display_data"
    }
   ],
   "source": [
    "plt.figure(figsize=(8,8)) # plotsize\n",
    "\n",
    "print(\"total events: {} \".format(len(nm)))\n",
    "\n",
    "bin_size = np.linspace(100,250,76)\n",
    "hist, bins = np.histogram(nm, bins=bin_size)\n",
    "plt.step(bins[:-1], hist.astype(np.float32)/2,color = \"green\", where='mid',linewidth=2, alpha=0.7,label=\"$M_{W^-,\\\\bar{b}}$\") \n",
    "\n",
    "plt.legend(bbox_to_anchor=(1, 1),ncol=2,fontsize=20) # plot label tag\n",
    "plt.yscale('log') \n",
    "plt.xlabel(\"$M_{W^-,\\\\bar{b}}$ [GeV]\" , fontsize=20, horizontalalignment='right',x=1)  # plot x-axis label\n",
    "plt.ylabel(\"dN/d$M_{W^-,\\\\bar{b}}$\", fontsize=20, horizontalalignment='right',y=1)  # plot y-axis label\n",
    "plt.xticks(fontsize=15)   # set x-ticks size\n",
    "plt.yticks(fontsize=15)   # set y-ticks size \n",
    "# plt.savefig(\"./invariant_mass_SVJ.png\")  #save figure as png\n",
    "plt.show()"
   ]
  },
  {
   "cell_type": "code",
   "execution_count": null,
   "metadata": {},
   "outputs": [],
   "source": [
    "plt.figure(figsize=(8,8)) # plotsize\n",
    "\n",
    "bin_size = np.linspace(0,200,201)\n",
    "hist, bins = np.histogram(m, bins=bin_size)\n",
    "plt.step(bins[:-1], hist.astype(np.float32)/10,color = \"green\", where='mid',linewidth=2, alpha=0.7,label=\"$M_{xd,\\\\bar{xd}}$\") \n",
    "\n",
    "plt.legend(bbox_to_anchor=(1, 1),ncol=2,fontsize=20) # plot label tag\n",
    "plt.yscale('log') \n",
    "plt.xlabel(\"$M_{xd,\\\\bar{xd}}$ [GeV]\" , fontsize=20, horizontalalignment='right',x=1)  # plot x-axis label\n",
    "plt.ylabel(\"dN/d$M_{xd,\\\\bar{xd}}$\", fontsize=20, horizontalalignment='right',y=1)  # plot y-axis label\n",
    "plt.xticks(fontsize=15)   # set x-ticks size\n",
    "plt.yticks(fontsize=15)   # set y-ticks size \n",
    "# plt.savefig(\"./invariant_mass_SVJ.png\")  #save figure as png\n",
    "plt.show()"
   ]
  },
  {
   "cell_type": "code",
   "execution_count": null,
   "metadata": {},
   "outputs": [],
   "source": [
    "plt.figure(figsize=(8,8)) # plotsize\n",
    "\n",
    "bin_size = np.linspace(0,2000,201)\n",
    "hist, bins = np.histogram(mT, bins=bin_size)\n",
    "plt.step(bins[:-1], hist.astype(np.float32)/10,color = \"green\", where='mid',linewidth=2, alpha=0.7,label=\"$M_{xd,\\\\bar{xd}}$\") \n",
    "\n",
    "plt.legend(bbox_to_anchor=(1, 1),ncol=2,fontsize=20) # plot label tag\n",
    "plt.yscale('log') \n",
    "plt.xlabel(\"$M_{xd,\\\\bar{xd}}$ [GeV]\" , fontsize=20, horizontalalignment='right',x=1)  # plot x-axis label\n",
    "plt.ylabel(\"dN/d$MT_{xd,\\\\bar{xd}}$\", fontsize=20, horizontalalignment='right',y=1)  # plot y-axis label\n",
    "plt.xticks(fontsize=15)   # set x-ticks size\n",
    "plt.yticks(fontsize=15)   # set y-ticks size \n",
    "# plt.savefig(\"./invariant_mass_SVJ.png\")  #save figure as png\n",
    "plt.show()"
   ]
  },
  {
   "cell_type": "code",
   "execution_count": null,
   "metadata": {},
   "outputs": [],
   "source": []
  }
 ],
 "metadata": {
  "kernelspec": {
   "display_name": "Python 3",
   "language": "python",
   "name": "python3"
  },
  "language_info": {
   "codemirror_mode": {
    "name": "ipython",
    "version": 3
   },
   "file_extension": ".py",
   "mimetype": "text/x-python",
   "name": "python",
   "nbconvert_exporter": "python",
   "pygments_lexer": "ipython3",
   "version": "3.6.8"
  }
 },
 "nbformat": 4,
 "nbformat_minor": 4
}
