{
 "cells": [
  {
   "cell_type": "code",
   "execution_count": 1,
   "metadata": {},
   "outputs": [],
   "source": [
    "import uproot\n",
    "import numpy as np\n",
    "import pandas as pd\n",
    "import math\n",
    "import matplotlib.pyplot as plt\n",
    "import numpy as np\n",
    "import sys, os\n",
    "import importlib\n",
    "\n",
    "import matplotlib.pyplot as plt\n",
    "from matplotlib.ticker import MaxNLocator\n",
    "from matplotlib.colors import ListedColormap, LinearSegmentedColormap, BoundaryNorm\n",
    "from matplotlib.collections import LineCollection\n",
    "from matplotlib import cm"
   ]
  },
  {
   "cell_type": "markdown",
   "metadata": {},
   "source": [
    "## Define the class to fill particle information in to NumpyArray \n",
    "\n",
    "### User can use \n",
    "```\n",
    "GenParticles = BrachGenParticles(file)\n",
    "PID_all = GenParticles.PID\n",
    "```\n",
    "### to get all GenParticles PID array\n",
    "### or\n",
    "```\n",
    "GenParticles = BrachGenParticles(file)\n",
    "PID = GenParticles.PID_At(i)\n",
    "```\n",
    "### to get the GenParticles PID array in the ith event"
   ]
  },
  {
   "cell_type": "code",
   "execution_count": 2,
   "metadata": {},
   "outputs": [],
   "source": [
    "class BrachGenParticles:\n",
    "    def __init__(self,file):\n",
    "        self.file = file\n",
    "        self.length = len(file[\"Particle.Status\"].array())\n",
    "        self.Status = file[\"Particle.Status\"].array()\n",
    "        self.PID = file[\"Particle.PID\"].array()\n",
    "        self.M1 = file[\"Particle.M1\"].array()\n",
    "        self.M2 = file[\"Particle.M2\"].array()\n",
    "        self.D1 = file[\"Particle.D1\"].array()\n",
    "        self.D2  = file[\"Particle.D2\"].array()\n",
    "        self.PT = file[\"Particle.PT\"].array()\n",
    "        self.Eta =  file[\"Particle.Eta\"].array()\n",
    "        self.Phi = file[\"Particle.Phi\"].array()\n",
    "        self.Mass = file[\"Particle.Mass\"].array()\n",
    "        self.Labels = [\"Status\", \"PID\" , \"M1\", \"M2\", \"D1\", \"D2\", \"PT\", \"Eta\", \"Phi\", \"Mass\"]\n",
    "        \n",
    "    def length_At(self, i):\n",
    "        return len(self.Status[i])\n",
    "    def Status_At(self, i):\n",
    "        return self.Status[i]\n",
    "    def PID_At(self, i):\n",
    "        return self.PID[i]\n",
    "    def M1_At(self, i):\n",
    "        return self.M1[i]\n",
    "    def M2_At(self, i):\n",
    "        return self.M2[i]\n",
    "    def D1_At(self, i):\n",
    "        return self.D1[i]\n",
    "    def D2_At(self, i):\n",
    "        return self.D2[i]\n",
    "    def PT_At(self, i):\n",
    "        return self.PT[i]\n",
    "    def Eta_At(self, i):\n",
    "        return self.Eta[i]\n",
    "    def Phi_At(self, i):\n",
    "        return self.Phi[i]\n",
    "    def Mass_At(self, i):\n",
    "        return self.Mass[i]\n",
    "    \n",
    "class BrachJet:\n",
    "    def __init__(self,file):\n",
    "        self.file = file\n",
    "        self.length = len(file[\"Jet.PT\"].array())\n",
    "        self.PT = file[\"Jet.PT\"].array()\n",
    "        self.Eta =  file[\"Jet.Eta\"].array()\n",
    "        self.Phi = file[\"Jet.Phi\"].array()\n",
    "        self.Mass = file[\"Jet.Mass\"].array()\n",
    "        \n",
    "    def PT_At(self, i):\n",
    "        return self.PT[i]\n",
    "    def Eta_At(self, i):\n",
    "        return self.Eta[i]\n",
    "    def Phi_At(self, i):\n",
    "        return self.Phi[i]\n",
    "    def Mass_At(self, i):\n",
    "        return self.Mass[i]\n",
    "    \n",
    "class Event_Weight:\n",
    "    def __init__(self,file):\n",
    "        self.file = file\n",
    "        self.length = len(file[\"Event.Weight\"].array())\n",
    "        self.Event_Weight = np.array(file[\"Event.Weight\"].array())\n",
    "        \n",
    "    def Event_Weight_At(self, i):\n",
    "        return self.Event_Weight[i]"
   ]
  },
  {
   "cell_type": "markdown",
   "metadata": {},
   "source": [
    "## Define Function for Invariant Mass, Transverse Mass\n",
    "\n",
    "### NOTE: the MT formula here is not compatible with MT in the collider physics, please modify this formula by yourself."
   ]
  },
  {
   "cell_type": "code",
   "execution_count": 3,
   "metadata": {},
   "outputs": [],
   "source": [
    "def M(pt1,eta1,phi1,m1,pt2,eta2,phi2,m2):\n",
    "    px1, py1, pz1 = pt1*np.cos(phi1), pt1*np.sin(phi1), np.sqrt(m1**2+pt1**2)*np.sinh(eta1)\n",
    "    e1 = np.sqrt(m1**2 + px1**2 + py1**2 + pz1**2)\n",
    "    px2, py2, pz2 = pt2*np.cos(phi2), pt2*np.sin(phi2), np.sqrt(m2**2+pt2**2)*np.sinh(eta2)\n",
    "    e2 = np.sqrt(m2**2 + px2**2 + py2**2 + pz2**2)\n",
    "    \n",
    "    return np.sqrt((e1+e2)**2-(px1+px2)**2-(py1+py2)**2-(pz1+pz2)**2)\n",
    "    \n",
    "def MT(pt1,eta1,phi1,m1,pt2,eta2,phi2,m2):\n",
    "    px1, py1, pz1 = pt1*np.cos(phi1), pt1*np.sin(phi1), np.sqrt(m1**2+pt1**2)*np.sinh(eta1)\n",
    "    e1 = np.sqrt(m1**2 + px1**2 + py1**2 + pz1**2)\n",
    "    px2, py2, pz2 = pt2*np.cos(phi2), pt2*np.sin(phi2), np.sqrt(m2**2+pt2**2)*np.sinh(eta2)\n",
    "    e2 = np.sqrt(m2**2 + px2**2 + py2**2 + pz2**2)\n",
    "    \n",
    "    ET1, ET2  = np.sqrt(m1**2 + pt1**2), np.sqrt(m2**2 + pt2**2)\n",
    "    MT = np.sqrt( (ET1+ET2)**2 - (px1+px2)**2 - (py1+py2)**2 )\n",
    "    return MT\n",
    "    \n",
    "    "
   ]
  },
  {
   "cell_type": "markdown",
   "metadata": {},
   "source": [
    "## Define Function for Check $r_{inv}$ and Preselection\n",
    "### Here, our dark matter candidates are PID = 51 and PID = 53.\n",
    "### $r_{inv}$ = (# of invisible hadrons)/(# of total hadrons)\n",
    "### Maybe you have a better way to count $r_{inv}$.\n"
   ]
  },
  {
   "cell_type": "code",
   "execution_count": 63,
   "metadata": {},
   "outputs": [],
   "source": [
    "def Check_r_inv(GenParticle):\n",
    "    invis_count, vis_count = 0, 0\n",
    "    Ndark = 0\n",
    "    for i in range(GenParticle.length):\n",
    "        if i == 1000:\n",
    "            break\n",
    "        for j in range(len(GenParticle.Status_At(i))):\n",
    "            PID = GenParticle.PID_At(i)[j]\n",
    "            M1 = GenParticle.M1_At(i)[j]\n",
    "            M2 = GenParticle.M2_At(i)[j]\n",
    "            D1 = GenParticle.D1_At(i)[j]\n",
    "            D2 = GenParticle.D2_At(i)[j]\n",
    "            status = GenParticle.Status_At(i)[j]\n",
    "            \n",
    "            if (abs(PID) == 4900111) and (abs( GenParticle.PID_At(i)[D1]) != 4900111) and (abs( GenParticle.PID_At(i)[D2]) != 4900111):\n",
    "                if (abs(GenParticle.PID_At(i)[D1]) != 3) and (abs( GenParticle.PID_At(i)[D2]) != 3):\n",
    "                    invis_count += 1\n",
    "\n",
    "            if (abs(PID) == 4900111) and (abs( GenParticle.PID_At(i)[D1]) != 4900111) and (abs( GenParticle.PID_At(i)[D2]) != 4900111):\n",
    "                if (abs( GenParticle.PID_At(i)[D1]) == 3) or (abs( GenParticle.PID_At(i)[D2]) == 3):\n",
    "                    vis_count += 1\n",
    "\n",
    "            if (abs(PID) == 4900113) and (abs( GenParticle.PID_At(i)[D1]) != 4900113) and (abs( GenParticle.PID_At(i)[D2]) != 4900113):\n",
    "                if (abs( GenParticle.PID_At(i)[D1]) == 53) or (abs( GenParticle.PID_At(i)[D2]) == 53):\n",
    "                    invis_count += 1\n",
    "\n",
    "            if (abs(PID) == 4900113) and (abs( GenParticle.PID_At(i)[D1]) != 4900113) and (abs( GenParticle.PID_At(i)[D2]) != 4900113):\n",
    "                if (abs( GenParticle.PID_At(i)[D1]) < 6) or (abs( GenParticle.PID_At(i)[D2]) < 6):\n",
    "                    vis_count += 1\n",
    "                    \n",
    "            if (abs(PID) == 4900211) and (abs( GenParticle.PID_At(i)[D1]) != 4900211) and (abs( GenParticle.PID_At(i)[D2]) != 4900211):\n",
    "                if (abs(GenParticle.PID_At(i)[D1]) != 3) and (abs( GenParticle.PID_At(i)[D2]) != 3):\n",
    "                    invis_count += 1\n",
    "\n",
    "            if (abs(PID) == 4900211) and (abs( GenParticle.PID_At(i)[D1]) != 4900211) and (abs( GenParticle.PID_At(i)[D2]) != 4900211):\n",
    "                if (abs( GenParticle.PID_At(i)[D1]) == 3) or (abs( GenParticle.PID_At(i)[D2]) == 3):\n",
    "                    vis_count += 1\n",
    "\n",
    "            if (abs(PID) == 4900213) and (abs( GenParticle.PID_At(i)[D1]) != 4900213) and (abs( GenParticle.PID_At(i)[D2]) != 4900213):\n",
    "                if (abs( GenParticle.PID_At(i)[D1]) == 53) or (abs( GenParticle.PID_At(i)[D2]) == 53):\n",
    "                    invis_count += 1\n",
    "\n",
    "            if (abs(PID) == 4900213) and (abs( GenParticle.PID_At(i)[D1]) != 4900213) and (abs( GenParticle.PID_At(i)[D2]) != 4900213):\n",
    "                if (abs( GenParticle.PID_At(i)[D1]) < 6) or (abs( GenParticle.PID_At(i)[D2]) < 6):\n",
    "                    vis_count += 1      \n",
    "                \n",
    "\n",
    "            if (abs(PID) == 51) and (status == 1):\n",
    "                    Ndark += 1\n",
    "\n",
    "            if (abs(PID) == 53) and (status == 1):\n",
    "                    Ndark += 1\n",
    "    \n",
    "        \n",
    "    print(\"There are {} events.\".format(len(GenParticle.Status)))\n",
    "    print(\"There are Dark meson {}  decay into invisible particle.\".format(invis_count))\n",
    "    print(\"There are Dark meson {}  decay into visible particle.\".format(vis_count))\n",
    "    print(\"r_inv = {:^4.4f} \".format(invis_count/(invis_count+vis_count)))\n",
    "    \n",
    "    print(\"There are {} stable Dark mesons.\".format(Ndark))\n",
    "    print(\"Average = {:^4.4f} \".format(Ndark/len(GenParticle.Status)))\n",
    "    \n",
    "#     return invis_count/(invis_count+vis_count), Ndark/len(GenParticle.Status)\n",
    "\n",
    "\n",
    "\n",
    "def Find_xdxd(GenParticle):\n",
    "    m_xdxd = []\n",
    "    for i in range(GenParticle.length):\n",
    "        for j in range(len(GenParticle.Status_At(i))):\n",
    "            PID = GenParticle.PID_At(i)[j]\n",
    "            M1 = GenParticle.M1_At(i)[j]\n",
    "            M2 = GenParticle.M2_At(i)[j]\n",
    "            D1 = GenParticle.D1_At(i)[j]\n",
    "            D2 = GenParticle.D2_At(i)[j]\n",
    "            status = GenParticle.Status_At(i)[j]\n",
    "            \n",
    "            if PID == 4900101:\n",
    "                tmp_1_pt = GenParticle.PT_At(i)[j]\n",
    "                tmp_1_eta = GenParticle.Eta_At(i)[j]\n",
    "                tmp_1_phi = GenParticle.Phi_At(i)[j]\n",
    "                tmp_1_m = GenParticle.Mass_At(i)[j]\n",
    "#                 print(tmp_1_pt,tmp_1_eta,tmp_1_phi,tmp_1_m)\n",
    "                break\n",
    "                \n",
    "        for j in range(len(GenParticle.Status_At(i))):\n",
    "            PID = GenParticle.PID_At(i)[j]\n",
    "            M1 = GenParticle.M1_At(i)[j]\n",
    "            M2 = GenParticle.M2_At(i)[j]\n",
    "            D1 = GenParticle.D1_At(i)[j]\n",
    "            D2 = GenParticle.D2_At(i)[j]\n",
    "            status = GenParticle.Status_At(i)[j]\n",
    "            \n",
    "            \n",
    "            if PID == -4900101:\n",
    "                tmp_2_pt = GenParticle.PT_At(i)[j]\n",
    "                tmp_2_eta = GenParticle.Eta_At(i)[j]\n",
    "                tmp_2_phi = GenParticle.Phi_At(i)[j]\n",
    "                tmp_2_m = GenParticle.Mass_At(i)[j]\n",
    "#                 print(tmp_2_pt,tmp_2_eta,tmp_2_phi,tmp_2_m)\n",
    "                break\n",
    "                \n",
    "                \n",
    "        m_xdxd.append(M(tmp_1_pt,tmp_1_eta,tmp_1_phi,tmp_1_m,tmp_2_pt,tmp_2_eta,tmp_2_phi,tmp_2_m))\n",
    "        \n",
    "    return np.array(m_xdxd)\n",
    "\n",
    "\n",
    "def Find_mjj(GenParticle):\n",
    "    m_jj = []\n",
    "    for i in range(GenParticle.length):\n",
    "        for j in range(len(GenParticle.Status_At(i))):\n",
    "            PID = GenParticle.PID_At(i)[j]\n",
    "            M1 = GenParticle.M1_At(i)[j]\n",
    "            M2 = GenParticle.M2_At(i)[j]\n",
    "            D1 = GenParticle.D1_At(i)[j]\n",
    "            D2 = GenParticle.D2_At(i)[j]\n",
    "            status = GenParticle.Status_At(i)[j]\n",
    "            \n",
    "\n",
    "            \n",
    "            if abs(PID) == 23 and abs(GenParticle.PID_At(i)[D1]) != 23 and abs(GenParticle.PID_At(i)[D2]) != 23:\n",
    "                tmp_1_pt = GenParticle.PT_At(i)[D1]\n",
    "                tmp_1_eta = GenParticle.Eta_At(i)[D1]\n",
    "                tmp_1_phi = GenParticle.Phi_At(i)[D1]\n",
    "                tmp_1_m = GenParticle.Mass_At(i)[D1]\n",
    "                \n",
    "                tmp_2_pt = GenParticle.PT_At(i)[D2]\n",
    "                tmp_2_eta = GenParticle.Eta_At(i)[D2]\n",
    "                tmp_2_phi = GenParticle.Phi_At(i)[D2]\n",
    "                tmp_2_m = GenParticle.Mass_At(i)[D2]\n",
    "                \n",
    "#                 print(D1)\n",
    "#                 print(D2)\n",
    "#                 print(GenParticle.PID_At(i)[D1])\n",
    "                \n",
    "                break\n",
    "\n",
    "                \n",
    "        m_jj.append(M(tmp_1_pt,tmp_1_eta,tmp_1_phi,tmp_1_m,tmp_2_pt,tmp_2_eta,tmp_2_phi,tmp_2_m))\n",
    "#         print(m_jj)\n",
    "        \n",
    "        \n",
    "    return np.array(m_jj)\n",
    "    \n",
    "def Preselection(Jet):\n",
    "    twojet_invariantmass = []\n",
    "    survived_list = []\n",
    "    for i in range(Jet.length):\n",
    "        if len(Jet.PT_At(i)) < 2:\n",
    "            continue\n",
    "\n",
    "        if Jet.PT_At(i)[0] < 440 or Jet.PT_At(i)[1] < 60:\n",
    "            continue\n",
    "\n",
    "        if np.abs(Jet.Eta_At(i)[0]- Jet.Eta_At(i)[1]) > 1.2:\n",
    "            continue\n",
    "\n",
    "        twojet_invariantmass.append(M(Jet.PT_At(i)[0],Jet.Eta_At(i)[0],Jet.Phi_At(i)[0],Jet.Mass_At(i)[0],\n",
    "                                      Jet.PT_At(i)[1],Jet.Eta_At(i)[1],Jet.Phi_At(i)[1],Jet.Mass_At(i)[1]))\n",
    "\n",
    "        survived_list.append(i)\n",
    "\n",
    "    print(\"There are {} MC events.\".format(len(twojet_invariantmass)))\n",
    "    \n",
    "    return np.array(twojet_invariantmass), np.array(survived_list)"
   ]
  },
  {
   "cell_type": "markdown",
   "metadata": {},
   "source": [
    "## Import File"
   ]
  },
  {
   "cell_type": "code",
   "execution_count": 45,
   "metadata": {},
   "outputs": [],
   "source": [
    "path = \"/home/MG5_Study_Group/tutorial\"\n",
    "filepath_0_5 = path + \"/SVJ_5_00_v3.root\"\n",
    "filepath_3_5 = path + \"/SVJ_5_03_v3.root\"\n",
    "\n",
    "file_0_5 = uproot.open(filepath_0_5)[\"Delphes;1\"]\n",
    "file_3_5 = uproot.open(filepath_3_5)[\"Delphes;1\"]\n"
   ]
  },
  {
   "cell_type": "markdown",
   "metadata": {},
   "source": [
    "#  Print the Branch in the Delphes"
   ]
  },
  {
   "cell_type": "code",
   "execution_count": 37,
   "metadata": {},
   "outputs": [],
   "source": [
    "# file_3_5.show()"
   ]
  },
  {
   "cell_type": "markdown",
   "metadata": {},
   "source": [
    "## Load event via class"
   ]
  },
  {
   "cell_type": "code",
   "execution_count": 47,
   "metadata": {},
   "outputs": [],
   "source": [
    "GenParticle_0_5, Jet_0_5, Event_Weight_0_5 = BrachGenParticles(file_0_5), BrachJet(file_0_5), Event_Weight(file_0_5) \n",
    "GenParticle_3_5, Jet_3_5, Event_Weight_3_5 = BrachGenParticles(file_3_5), BrachJet(file_3_5), Event_Weight(file_3_5) \n"
   ]
  },
  {
   "cell_type": "markdown",
   "metadata": {},
   "source": [
    "## Check the $r_{inv}$"
   ]
  },
  {
   "cell_type": "code",
   "execution_count": 64,
   "metadata": {},
   "outputs": [
    {
     "name": "stdout",
     "output_type": "stream",
     "text": [
      "There are 14616 events.\n",
      "There are Dark meson 3633  decay into invisible particle.\n",
      "There are Dark meson 8435  decay into visible particle.\n",
      "r_inv = 0.3010 \n",
      "There are 7266 stable Dark mesons.\n",
      "Average = 0.4971 \n",
      "There are 14552 events.\n",
      "There are Dark meson 0  decay into invisible particle.\n",
      "There are Dark meson 12087  decay into visible particle.\n",
      "r_inv = 0.0000 \n",
      "There are 0 stable Dark mesons.\n",
      "Average = 0.0000 \n"
     ]
    }
   ],
   "source": [
    "Check_r_inv(GenParticle_3_5)\n",
    "Check_r_inv(GenParticle_0_5)"
   ]
  },
  {
   "cell_type": "markdown",
   "metadata": {},
   "source": [
    "# Check the number of Event"
   ]
  },
  {
   "cell_type": "code",
   "execution_count": 48,
   "metadata": {},
   "outputs": [
    {
     "name": "stdout",
     "output_type": "stream",
     "text": [
      "There are 14552 event in SVJ file with r_inv = 0.0 . \n",
      "There are 14616 event in SVJ file with r_inv = 0.3 . \n"
     ]
    }
   ],
   "source": [
    "print(\"There are {} event in SVJ file with r_inv = 0.0 . \".format(len(GenParticle_0_5.Status)))\n",
    "print(\"There are {} event in SVJ file with r_inv = 0.3 . \".format(len(GenParticle_3_5.Status)))\n"
   ]
  },
  {
   "cell_type": "markdown",
   "metadata": {},
   "source": [
    "# Print the Truth Record in an Event"
   ]
  },
  {
   "cell_type": "code",
   "execution_count": null,
   "metadata": {},
   "outputs": [],
   "source": [
    "GenParticle = GenParticle_3_5\n",
    "# GenParticle = GenParticle_ppzjj\n",
    "print(\"There are {} information in this event.\".format(len(GenParticle.Status[0])))\n",
    "print(\"GenParticle Information\")\n",
    "print(\"{:^5}{:^7}{:^7}{:^7}{:^7}{:^7}{:^7}{:^8}{:^8}{:^8}{:^8}\".format(\"#\",\"Status\",\"PID\", \"M1\", \"M2\", \"D1\", \"D2\", \"PT\", \"Eta\",\"Phi\", \"Mass\"))\n",
    "\n",
    "index = 0 ## which event you want to print out\n",
    "\n",
    "for j in range(len(GenParticle.Status_At(index))):\n",
    "    print(\"{:^5}{:^7}{:^7}{:^7}{:^7}{:^7}{:^7}{:^8.5}{:^8.5}{:^8.5}{:^8.5}\".format( \\\n",
    "        j, GenParticle.Status_At(index)[j],  GenParticle.PID_At(index)[j], GenParticle.M1_At(index)[j], GenParticle.M2_At(index)[j],\n",
    "         GenParticle.D1_At(index)[j], GenParticle.D2_At(index)[j],  GenParticle.PT_At(index)[j],  GenParticle.Eta_At(index)[j], GenParticle.Phi_At(index)[j], GenParticle.Mass_At(index)[j]))\n",
    "\n"
   ]
  },
  {
   "cell_type": "markdown",
   "metadata": {},
   "source": [
    "## Findin the first two Xd(`4900101`) and $\\bar{\\mathrm{Xd}}$(`-4900101`) in the truth record table for invariant mass calculation."
   ]
  },
  {
   "cell_type": "code",
   "execution_count": 10,
   "metadata": {},
   "outputs": [],
   "source": [
    "m_dxdx_SVJ = Find_xdxd(GenParticle_3_5)"
   ]
  },
  {
   "cell_type": "markdown",
   "metadata": {},
   "source": [
    "## Calculate event weights for each event\n",
    "## Luminosity $\\mathcal{L}$ = 37 $fb^{-1}$\n",
    "### Let $\\sigma$ = 1 pb (follow paper)"
   ]
  },
  {
   "cell_type": "code",
   "execution_count": 57,
   "metadata": {},
   "outputs": [],
   "source": [
    "weight_00_5 = (Event_Weight_0_5.Event_Weight)/(np.sum(Event_Weight_0_5.Event_Weight))\n",
    "weight_03_5 = (Event_Weight_3_5.Event_Weight)/(np.sum(Event_Weight_3_5.Event_Weight))\n"
   ]
  },
  {
   "cell_type": "markdown",
   "metadata": {},
   "source": [
    "# Calculate di-jet Inavariant Mass from the Detector Simulation"
   ]
  },
  {
   "cell_type": "code",
   "execution_count": 61,
   "metadata": {},
   "outputs": [
    {
     "name": "stdout",
     "output_type": "stream",
     "text": [
      "There are 6064 MC events.\n",
      "There are 5200 MC events.\n"
     ]
    }
   ],
   "source": [
    "dijet_invariantmass_00_5, survived_list_00_5 = Preselection(Jet_0_5)\n",
    "dijet_invariantmass_03_5, survived_list_03_5 = Preselection(Jet_3_5)"
   ]
  },
  {
   "cell_type": "markdown",
   "metadata": {},
   "source": [
    "## Example 1: Plot in differential number of event"
   ]
  },
  {
   "cell_type": "code",
   "execution_count": 62,
   "metadata": {},
   "outputs": [
    {
     "data": {
      "image/png": "[encoded data removed]",
      "text/plain": [
       "<Figure size 720x576 with 1 Axes>"
      ]
     },
     "metadata": {
      "needs_background": "light"
     },
     "output_type": "display_data"
    }
   ],
   "source": [
    "plt.figure(figsize=(10,8)) # plotsize\n",
    "\n",
    "bin_size = np.linspace(0,6000,101)\n",
    "\n",
    "hist_M_JJ_0_5, bins_M_JJ_0_5 = np.histogram(dijet_invariantmass_00_5, bins=bin_size, weights = weight_00_5[survived_list_00_5]*37*1000)\n",
    "plt.step(bins_M_JJ_0_5[:-1], hist_M_JJ_0_5.astype(np.float32), color = \"blue\", where='mid',linewidth=3, alpha=0.7,label=\"$r_{inv}=0.0$\") \n",
    "\n",
    "\n",
    "hist_M_JJ_3_5, bins_M_JJ_3_5 = np.histogram(dijet_invariantmass_03_5, bins=bin_size, weights = weight_03_5[survived_list_03_5]*37*1000)\n",
    "plt.step(bins_M_JJ_3_5[:-1], hist_M_JJ_3_5.astype(np.float32), color = \"red\", where='mid',linewidth=3, alpha=0.7,label=\"$r_{inv}=0.3$\") \n",
    "\n",
    "plt.yscale('log') \n",
    "plt.xscale('log') \n",
    "\n",
    "plt.text(4500, 4E03, \"$\\mathcal{L}$ = 37 $\\mathrm{fb}^{-1}$\", fontsize=20)\n",
    "plt.text(4500, 2E03, \"M(Z') = 1.5 TeV\", fontsize=20)\n",
    "\n",
    "plt.xticks([1E+3,3E+3,1E+4],[\"$10^3$\",\"$3\\\\times10^3$\",\"$10^4$\"], fontsize=25, rotation=0, verticalalignment='top', horizontalalignment=\"center\")\n",
    "plt.yticks([1E+0,1E+2,1E+4,1E+6],[\"$10^0$\",\"$10^2$\",\"$10^4$\",\"$10^6$\"], fontsize=25, rotation=0, verticalalignment='top', horizontalalignment=\"right\")\n",
    "\n",
    "\n",
    "\n",
    "plt.tick_params(axis='x',which='minor', length=6, color='k', direction=\"in\", width = 1.2)\n",
    "plt.tick_params(axis='x',which='major', length=10, color='k', direction=\"in\", width = 1.2)\n",
    "plt.tick_params(axis='y',which='minor', length=6, color='k', direction=\"in\", width = 1.2)\n",
    "plt.tick_params(axis='y',which='major', length=10, color='k', direction=\"in\", width = 1.2)\n",
    "\n",
    "\n",
    "plt.xlim((700,10000))\n",
    "plt.ylim((1,5E04))\n",
    "plt.xlabel(\"$M_{jj}$ [GeV]\" , fontsize=30, horizontalalignment='right',x=1)  # plot x-axis label\n",
    "plt.ylabel(\"Events\", fontsize=30, horizontalalignment='right',y=1)  # plot y-axis label\n",
    "# plt.xticks(fontsize=15)   # set x-ticks size\n",
    "# plt.yticks(fontsize=15)   # set y-ticks size \n",
    "plt.legend(bbox_to_anchor=(1, 1),ncol=1,fontsize=20,frameon=False) # plot label tag\n",
    "# plt.savefig(\"./invariant_mass_SVJ.png\")  #save figure as png\n",
    "plt.show()"
   ]
  },
  {
   "cell_type": "code",
   "execution_count": 15,
   "metadata": {},
   "outputs": [
    {
     "name": "stdout",
     "output_type": "stream",
     "text": [
      "lambda:  1.000   alpha: 0.152 \n",
      "lambda:  5.000   alpha: 0.198 \n",
      "lambda: 10.000   alpha: 0.227 \n",
      "lambda: 50.000   alpha: 0.350 \n",
      "lambda: 100.000  alpha: 0.455 \n",
      "lambda: 150.000  alpha: 0.552 \n",
      "lambda: 200.000  alpha: 0.651 \n",
      "lambda: 250.000  alpha: 0.755 \n",
      "lambda: 300.000  alpha: 0.870 \n",
      "lambda: 350.000  alpha: 0.997 \n"
     ]
    }
   ],
   "source": [
    "Lambda_d = [1,5,10,50,100,150,200,250,300,350]\n",
    "for i, lambda_d in enumerate(Lambda_d):\n",
    "    print(\"lambda: {:^7.3f}  alpha:{:^7.3f}\".format(Lambda_d[i],np.pi*2/((11./3.*2-2./3.*2)*np.log(1000./lambda_d))))\n"
   ]
  },
  {
   "cell_type": "code",
   "execution_count": null,
   "metadata": {},
   "outputs": [],
   "source": []
  }
 ],
 "metadata": {
  "kernelspec": {
   "display_name": "Python 3",
   "language": "python",
   "name": "python3"
  },
  "language_info": {
   "codemirror_mode": {
    "name": "ipython",
    "version": 3
   },
   "file_extension": ".py",
   "mimetype": "text/x-python",
   "name": "python",
   "nbconvert_exporter": "python",
   "pygments_lexer": "ipython3",
   "version": "3.6.8"
  }
 },
 "nbformat": 4,
 "nbformat_minor": 4
}
